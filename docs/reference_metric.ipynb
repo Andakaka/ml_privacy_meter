{
 "cells": [
  {
   "cell_type": "markdown",
   "id": "83b24837",
   "metadata": {},
   "source": [
    "# Auditing a CNN trained on CIFAR100 using the Reference Attack"
   ]
  },
  {
   "cell_type": "markdown",
   "id": "b8ed55c1",
   "metadata": {},
   "source": [
    "## Introduction\n",
    "\n",
    "In this tutorial, we will see:\n",
    "\n",
    "- How to specify the dataset and model for Privacy Meter\n",
    "- How to audit a Tensorflow model\n",
    "- How to use the `ReferenceMetric` to evaluate membership leakage using loss values from reference models\n",
    "- How to visualize the audit result"
   ]
  },
  {
   "cell_type": "markdown",
   "id": "73dfc8ee",
   "metadata": {},
   "source": [
    "## Imports"
   ]
  },
  {
   "cell_type": "code",
   "execution_count": 1,
   "id": "e571ad5b",
   "metadata": {},
   "outputs": [
    {
     "name": "stderr",
     "output_type": "stream",
     "text": [
      "2022-05-06 13:26:57.833575: W tensorflow/stream_executor/platform/default/dso_loader.cc:64] Could not load dynamic library 'libcudart.so.11.0'; dlerror: libcudart.so.11.0: cannot open shared object file: No such file or directory\n",
      "2022-05-06 13:26:57.833612: I tensorflow/stream_executor/cuda/cudart_stub.cc:29] Ignore above cudart dlerror if you do not have a GPU set up on your machine.\n"
     ]
    }
   ],
   "source": [
    "import numpy as np\n",
    "import tensorflow as tf"
   ]
  },
  {
   "cell_type": "markdown",
   "id": "fb7e67d4",
   "metadata": {},
   "source": [
    "For now we install the Privacy Meter library from the local source. A version will be pushed to pip soon."
   ]
  },
  {
   "cell_type": "code",
   "execution_count": 2,
   "id": "9ee7e3da",
   "metadata": {},
   "outputs": [
    {
     "name": "stdout",
     "output_type": "stream",
     "text": [
      "Obtaining file:///home/victor/ml_privacy_meter\r\n",
      "  Preparing metadata (setup.py) ... \u001B[?25ldone\r\n",
      "\u001B[?25hInstalling collected packages: privacy-meter\r\n",
      "  Attempting uninstall: privacy-meter\r\n",
      "    Found existing installation: privacy-meter 1.0\r\n",
      "    Uninstalling privacy-meter-1.0:\r\n",
      "      Successfully uninstalled privacy-meter-1.0\r\n",
      "  Running setup.py develop for privacy-meter\r\n",
      "Successfully installed privacy-meter-1.0\r\n"
     ]
    }
   ],
   "source": [
    "import sys\n",
    "!{sys.executable} -m pip install -e ../.\n",
    "from privacy_meter.audit import Audit, MetricEnum\n",
    "from privacy_meter.audit_report import ROCCurveReport, SignalHistogramReport\n",
    "from privacy_meter.constants import InferenceGame\n",
    "from privacy_meter.dataset import Dataset\n",
    "from privacy_meter.information_source import InformationSource\n",
    "from privacy_meter.model import TensorflowModel"
   ]
  },
  {
   "cell_type": "markdown",
   "id": "d7802f1e",
   "metadata": {},
   "source": [
    "## Settings"
   ]
  },
  {
   "cell_type": "markdown",
   "id": "d9d12b56",
   "metadata": {},
   "source": [
    "Setting seed for reproducibility:"
   ]
  },
  {
   "cell_type": "code",
   "execution_count": 3,
   "id": "7f6f914c",
   "metadata": {},
   "outputs": [],
   "source": [
    "seed = 1234\n",
    "np.random.seed(seed)\n",
    "rng = np.random.default_rng(seed=seed)"
   ]
  },
  {
   "cell_type": "markdown",
   "id": "44ee72a9",
   "metadata": {},
   "source": [
    "Hyperparameters:"
   ]
  },
  {
   "cell_type": "code",
   "execution_count": 4,
   "id": "c787a5d0",
   "metadata": {},
   "outputs": [],
   "source": [
    "# for training the target and reference models\n",
    "num_points_per_train_split = 10000\n",
    "num_points_per_test_split = 1000\n",
    "loss_fn = tf.keras.losses.CategoricalCrossentropy()\n",
    "optim_fn = 'adam'\n",
    "epochs = 25\n",
    "batch_size = 64\n",
    "regularizer_penalty = 0.01\n",
    "regularizer = tf.keras.regularizers.l2(l=regularizer_penalty)"
   ]
  },
  {
   "cell_type": "code",
   "execution_count": 5,
   "id": "90266375",
   "metadata": {},
   "outputs": [],
   "source": [
    "# for the reference metric\n",
    "num_reference_models = 10\n",
    "fpr_tolerance_list = [\n",
    "    0.0, 0.1, 0.2, 0.3, 0.4, 0.5, 0.6, 0.7, 0.8, 0.9, 1.0\n",
    "]"
   ]
  },
  {
   "cell_type": "markdown",
   "id": "81af2c28",
   "metadata": {},
   "source": [
    "## Dataset creation"
   ]
  },
  {
   "cell_type": "markdown",
   "id": "fae07f3e",
   "metadata": {},
   "source": [
    "We use the CIFAR100 dataset for this tutorial. As Tensorflow already has the data loading code for CIFAR100, we just need to add our pre-processing code on top of it."
   ]
  },
  {
   "cell_type": "code",
   "execution_count": 6,
   "id": "b35272cd",
   "metadata": {},
   "outputs": [],
   "source": [
    "def preprocess_cifar100_dataset():\n",
    "    input_shape, num_classes = (32, 32, 3), 100\n",
    "\n",
    "    # split the data between train and test sets\n",
    "    (x_train, y_train), (x_test, y_test) = tf.keras.datasets.cifar100.load_data()\n",
    "\n",
    "    # scale images to the [0, 1] range\n",
    "    x_train = x_train.astype(\"float32\") / 255\n",
    "    x_test = x_test.astype(\"float32\") / 255\n",
    "\n",
    "    # convert labels into one hot vectors\n",
    "    y_train = tf.keras.utils.to_categorical(y_train, num_classes)\n",
    "    y_test = tf.keras.utils.to_categorical(y_test, num_classes)\n",
    "\n",
    "    return x_train, y_train, x_test, y_test, input_shape, num_classes\n",
    "\n",
    "x_train_all, y_train_all, x_test_all, y_test_all, input_shape, num_classes = preprocess_cifar100_dataset()"
   ]
  },
  {
   "cell_type": "code",
   "execution_count": 7,
   "outputs": [
    {
     "name": "stdout",
     "output_type": "stream",
     "text": [
      "(50000, 32, 32, 3) (10000, 32, 32, 3)\n"
     ]
    }
   ],
   "source": [
    "print(x_train_all.shape, x_test_all.shape)"
   ],
   "metadata": {
    "collapsed": false,
    "pycharm": {
     "name": "#%%\n"
    }
   }
  },
  {
   "cell_type": "markdown",
   "id": "35f88bf5",
   "metadata": {},
   "source": [
    "CIFAR100 comes with the predetermined train and test partitions. We further split the train partition into more sets - 'train' and 'reference' for the audit. \n",
    "\n",
    "We will have the following sets at the end of this partitioning:\n",
    "\n",
    "- The 'train' set will be used to train the target model. It will be used as the 'member' set for the audit.\n",
    "- The 'test' set will be used as the 'non-member' set for the audit.\n",
    "- The 'reference' set will be used later as the pool of data to train the reference models."
   ]
  },
  {
   "cell_type": "markdown",
   "id": "cf40a032",
   "metadata": {},
   "source": [
    "We wrap the sets into a `Dataset` object, which takes in the following arguments:\n",
    "\n",
    "- `data_dict` contains the actual dataset, in the form of a 2D dictionary. The first key corresponds to the split name (here we have two: \"train\" and \"test\"), and the second key to the feature name (here we also have two: \"x\" and \"y\").\n",
    "- `default_input` contains the name of the feature that should be used as the models input (here \"x\").\n",
    "- `default_output` contains the name of the feature that should be used as the label / models output (here \"y\")."
   ]
  },
  {
   "cell_type": "code",
   "execution_count": 8,
   "id": "5b834918",
   "metadata": {},
   "outputs": [],
   "source": [
    "# create the target model's dataset\n",
    "dataset = Dataset(\n",
    "    data_dict={\n",
    "        'train': {'x': x_train_all, 'y': y_train_all},\n",
    "        'test': {'x': x_test_all, 'y': y_test_all}\n",
    "    },\n",
    "    default_input='x',\n",
    "    default_output='y'\n",
    ")"
   ]
  },
  {
   "cell_type": "markdown",
   "source": [
    "Finally, we use the built-in `Dataset.subdivide()` function, to split the two splits (\"train\" and \"test\") into multiple sub-datasets (one per model). The resulting sub-splits are included in the parent object (\"train000\", \"train001\", etc.) and are returned as a list of individual Dataset objects."
   ],
   "metadata": {
    "collapsed": false,
    "pycharm": {
     "name": "#%% md\n"
    }
   }
  },
  {
   "cell_type": "code",
   "execution_count": 9,
   "outputs": [],
   "source": [
    "datasets_list = dataset.subdivide(\n",
    "    num_splits=num_reference_models + 1,\n",
    "    delete_original=True,\n",
    "    in_place=False,\n",
    "    return_results=True,\n",
    "    method='hybrid',\n",
    "    split_size={'train': num_points_per_train_split, 'test': num_points_per_test_split}\n",
    ")"
   ],
   "metadata": {
    "collapsed": false,
    "pycharm": {
     "name": "#%%\n"
    }
   }
  },
  {
   "cell_type": "code",
   "execution_count": 10,
   "outputs": [
    {
     "name": "stdout",
     "output_type": "stream",
     "text": [
      "0\n",
      "================ DATASET OBJECT ================\n",
      "Splits            = ['train', 'test']\n",
      "Features          = ['x', 'y']\n",
      "Default features  = x --> y\n",
      "================================================\n",
      "1\n",
      "================ DATASET OBJECT ================\n",
      "Splits            = ['train', 'test']\n",
      "Features          = ['x', 'y']\n",
      "Default features  = x --> y\n",
      "================================================\n",
      "2\n",
      "================ DATASET OBJECT ================\n",
      "Splits            = ['train', 'test']\n",
      "Features          = ['x', 'y']\n",
      "Default features  = x --> y\n",
      "================================================\n",
      "3\n",
      "================ DATASET OBJECT ================\n",
      "Splits            = ['train', 'test']\n",
      "Features          = ['x', 'y']\n",
      "Default features  = x --> y\n",
      "================================================\n",
      "4\n",
      "================ DATASET OBJECT ================\n",
      "Splits            = ['train', 'test']\n",
      "Features          = ['x', 'y']\n",
      "Default features  = x --> y\n",
      "================================================\n",
      "5\n",
      "================ DATASET OBJECT ================\n",
      "Splits            = ['train', 'test']\n",
      "Features          = ['x', 'y']\n",
      "Default features  = x --> y\n",
      "================================================\n",
      "6\n",
      "================ DATASET OBJECT ================\n",
      "Splits            = ['train', 'test']\n",
      "Features          = ['x', 'y']\n",
      "Default features  = x --> y\n",
      "================================================\n",
      "7\n",
      "================ DATASET OBJECT ================\n",
      "Splits            = ['train', 'test']\n",
      "Features          = ['x', 'y']\n",
      "Default features  = x --> y\n",
      "================================================\n",
      "8\n",
      "================ DATASET OBJECT ================\n",
      "Splits            = ['train', 'test']\n",
      "Features          = ['x', 'y']\n",
      "Default features  = x --> y\n",
      "================================================\n",
      "9\n",
      "================ DATASET OBJECT ================\n",
      "Splits            = ['train', 'test']\n",
      "Features          = ['x', 'y']\n",
      "Default features  = x --> y\n",
      "================================================\n",
      "10\n",
      "================ DATASET OBJECT ================\n",
      "Splits            = ['train', 'test']\n",
      "Features          = ['x', 'y']\n",
      "Default features  = x --> y\n",
      "================================================\n"
     ]
    }
   ],
   "source": [
    "for i, d in enumerate(datasets_list):\n",
    "    print(i)\n",
    "    print(d)"
   ],
   "metadata": {
    "collapsed": false,
    "pycharm": {
     "name": "#%%\n"
    }
   }
  },
  {
   "cell_type": "markdown",
   "id": "2e8d71b2",
   "metadata": {},
   "source": [
    "## Training the target and reference models"
   ]
  },
  {
   "cell_type": "markdown",
   "id": "54aeb6ab",
   "metadata": {},
   "source": [
    "We define the Tensorflow model to be used as the target and reference models:"
   ]
  },
  {
   "cell_type": "code",
   "execution_count": 11,
   "id": "3b3a7e6d",
   "metadata": {},
   "outputs": [],
   "source": [
    "def get_tensorflow_cnn_classifier(input_shape, num_classes, regularizer):\n",
    "    # TODO: change model architecture\n",
    "    model = tf.keras.Sequential()\n",
    "    model.add(tf.keras.layers.Conv2D(32, kernel_size=(3, 3), activation='relu',\n",
    "                                     input_shape=input_shape, kernel_regularizer=regularizer))\n",
    "    model.add(tf.keras.layers.MaxPool2D(pool_size=(2, 2)))\n",
    "    model.add(tf.keras.layers.Conv2D(64, kernel_size=(3, 3), activation='relu',\n",
    "                                     kernel_regularizer=regularizer))\n",
    "    model.add(tf.keras.layers.MaxPool2D(pool_size=(2, 2)))\n",
    "    model.add(tf.keras.layers.Flatten())\n",
    "    model.add(tf.keras.layers.Dropout(0.5))\n",
    "    model.add(tf.keras.layers.Dense(num_classes, activation='softmax'))\n",
    "    return model"
   ]
  },
  {
   "cell_type": "markdown",
   "id": "6bfe1b46",
   "metadata": {},
   "source": [
    "And we compile and train the target model using the target dataset we defined above:"
   ]
  },
  {
   "cell_type": "code",
   "execution_count": 12,
   "id": "7ce52692",
   "metadata": {},
   "outputs": [
    {
     "name": "stdout",
     "output_type": "stream",
     "text": [
      "Model: \"sequential\"\n",
      "_________________________________________________________________\n",
      " Layer (type)                Output Shape              Param #   \n",
      "=================================================================\n",
      " conv2d (Conv2D)             (None, 30, 30, 32)        896       \n",
      "                                                                 \n",
      " max_pooling2d (MaxPooling2D  (None, 15, 15, 32)       0         \n",
      " )                                                               \n",
      "                                                                 \n",
      " conv2d_1 (Conv2D)           (None, 13, 13, 64)        18496     \n",
      "                                                                 \n",
      " max_pooling2d_1 (MaxPooling  (None, 6, 6, 64)         0         \n",
      " 2D)                                                             \n",
      "                                                                 \n",
      " flatten (Flatten)           (None, 2304)              0         \n",
      "                                                                 \n",
      " dropout (Dropout)           (None, 2304)              0         \n",
      "                                                                 \n",
      " dense (Dense)               (None, 100)               230500    \n",
      "                                                                 \n",
      "=================================================================\n",
      "Total params: 249,892\n",
      "Trainable params: 249,892\n",
      "Non-trainable params: 0\n",
      "_________________________________________________________________\n"
     ]
    },
    {
     "name": "stderr",
     "output_type": "stream",
     "text": [
      "2022-05-06 13:27:11.501887: W tensorflow/stream_executor/platform/default/dso_loader.cc:64] Could not load dynamic library 'libcuda.so.1'; dlerror: libcuda.so.1: cannot open shared object file: No such file or directory\n",
      "2022-05-06 13:27:11.502027: W tensorflow/stream_executor/cuda/cuda_driver.cc:269] failed call to cuInit: UNKNOWN ERROR (303)\n",
      "2022-05-06 13:27:11.502064: I tensorflow/stream_executor/cuda/cuda_diagnostics.cc:156] kernel driver does not appear to be running on this host (hermes): /proc/driver/nvidia/version does not exist\n",
      "2022-05-06 13:27:11.502694: I tensorflow/core/platform/cpu_feature_guard.cc:151] This TensorFlow binary is optimized with oneAPI Deep Neural Network Library (oneDNN) to use the following CPU instructions in performance-critical operations:  AVX2 FMA\n",
      "To enable them in other operations, rebuild TensorFlow with the appropriate compiler flags.\n"
     ]
    },
    {
     "name": "stdout",
     "output_type": "stream",
     "text": [
      "Epoch 1/25\n"
     ]
    },
    {
     "name": "stderr",
     "output_type": "stream",
     "text": [
      "2022-05-06 13:27:11.846532: W tensorflow/core/framework/cpu_allocator_impl.cc:82] Allocation of 122880000 exceeds 10% of free system memory.\n"
     ]
    },
    {
     "name": "stdout",
     "output_type": "stream",
     "text": [
      "157/157 - 7s - loss: 4.5530 - accuracy: 0.0364 - 7s/epoch - 44ms/step\n",
      "Epoch 2/25\n",
      "157/157 - 6s - loss: 4.0608 - accuracy: 0.0989 - 6s/epoch - 35ms/step\n",
      "Epoch 3/25\n",
      "157/157 - 6s - loss: 3.7988 - accuracy: 0.1489 - 6s/epoch - 41ms/step\n",
      "Epoch 4/25\n",
      "157/157 - 8s - loss: 3.6359 - accuracy: 0.1859 - 8s/epoch - 52ms/step\n",
      "Epoch 5/25\n",
      "157/157 - 16s - loss: 3.5202 - accuracy: 0.2047 - 16s/epoch - 102ms/step\n",
      "Epoch 6/25\n",
      "157/157 - 16s - loss: 3.4201 - accuracy: 0.2219 - 16s/epoch - 104ms/step\n",
      "Epoch 7/25\n",
      "157/157 - 12s - loss: 3.3346 - accuracy: 0.2445 - 12s/epoch - 75ms/step\n",
      "Epoch 8/25\n",
      "157/157 - 13s - loss: 3.2727 - accuracy: 0.2520 - 13s/epoch - 80ms/step\n",
      "Epoch 9/25\n",
      "157/157 - 13s - loss: 3.2048 - accuracy: 0.2674 - 13s/epoch - 80ms/step\n",
      "Epoch 10/25\n",
      "157/157 - 12s - loss: 3.1508 - accuracy: 0.2808 - 12s/epoch - 77ms/step\n",
      "Epoch 11/25\n",
      "157/157 - 11s - loss: 3.1077 - accuracy: 0.2868 - 11s/epoch - 69ms/step\n",
      "Epoch 12/25\n",
      "157/157 - 12s - loss: 3.0648 - accuracy: 0.2907 - 12s/epoch - 78ms/step\n",
      "Epoch 13/25\n",
      "157/157 - 13s - loss: 3.0125 - accuracy: 0.3043 - 13s/epoch - 80ms/step\n",
      "Epoch 14/25\n",
      "157/157 - 12s - loss: 2.9784 - accuracy: 0.3185 - 12s/epoch - 77ms/step\n",
      "Epoch 15/25\n",
      "157/157 - 13s - loss: 2.9303 - accuracy: 0.3256 - 13s/epoch - 80ms/step\n",
      "Epoch 16/25\n",
      "157/157 - 11s - loss: 2.9064 - accuracy: 0.3287 - 11s/epoch - 69ms/step\n",
      "Epoch 17/25\n",
      "157/157 - 13s - loss: 2.8606 - accuracy: 0.3341 - 13s/epoch - 81ms/step\n",
      "Epoch 18/25\n",
      "157/157 - 12s - loss: 2.8390 - accuracy: 0.3429 - 12s/epoch - 76ms/step\n",
      "Epoch 19/25\n",
      "157/157 - 13s - loss: 2.7833 - accuracy: 0.3546 - 13s/epoch - 80ms/step\n",
      "Epoch 20/25\n",
      "157/157 - 13s - loss: 2.7833 - accuracy: 0.3584 - 13s/epoch - 80ms/step\n",
      "Epoch 21/25\n",
      "157/157 - 11s - loss: 2.7482 - accuracy: 0.3626 - 11s/epoch - 69ms/step\n",
      "Epoch 22/25\n",
      "157/157 - 11s - loss: 2.7166 - accuracy: 0.3745 - 11s/epoch - 72ms/step\n",
      "Epoch 23/25\n",
      "157/157 - 12s - loss: 2.7178 - accuracy: 0.3726 - 12s/epoch - 75ms/step\n",
      "Epoch 24/25\n",
      "157/157 - 12s - loss: 2.6720 - accuracy: 0.3783 - 12s/epoch - 76ms/step\n",
      "Epoch 25/25\n",
      "157/157 - 12s - loss: 2.6497 - accuracy: 0.3813 - 12s/epoch - 76ms/step\n"
     ]
    },
    {
     "data": {
      "text/plain": "<keras.callbacks.History at 0x7f66c0aa94c0>"
     },
     "execution_count": 12,
     "metadata": {},
     "output_type": "execute_result"
    }
   ],
   "source": [
    "x = datasets_list[0].get_feature('train', '<default_input>')\n",
    "y = datasets_list[0].get_feature('train', '<default_output>')\n",
    "model = get_tensorflow_cnn_classifier(input_shape, num_classes, regularizer)\n",
    "model.summary()\n",
    "model.compile(optimizer=optim_fn, loss=loss_fn, metrics=['accuracy'])\n",
    "model.fit(x, y, batch_size=batch_size, epochs=epochs, verbose=2)"
   ]
  },
  {
   "cell_type": "markdown",
   "id": "316f6760",
   "metadata": {},
   "source": [
    "We wrap the target model in the `TensorflowModel` object:"
   ]
  },
  {
   "cell_type": "code",
   "execution_count": 13,
   "id": "9a499abd",
   "metadata": {},
   "outputs": [],
   "source": [
    "target_model = TensorflowModel(model_obj=model, loss_fn=loss_fn)"
   ]
  },
  {
   "cell_type": "markdown",
   "id": "43c04d2e",
   "metadata": {},
   "source": [
    "We will now sample data from the reference pool and train reference models, and wrap each one in a `TensorflowModel` object:"
   ]
  },
  {
   "cell_type": "code",
   "execution_count": 14,
   "id": "1669704f",
   "metadata": {},
   "outputs": [
    {
     "name": "stdout",
     "output_type": "stream",
     "text": [
      "Training reference model 0...\n",
      "Epoch 1/25\n"
     ]
    },
    {
     "name": "stderr",
     "output_type": "stream",
     "text": [
      "2022-05-06 13:32:00.331186: W tensorflow/core/framework/cpu_allocator_impl.cc:82] Allocation of 122880000 exceeds 10% of free system memory.\n"
     ]
    },
    {
     "name": "stdout",
     "output_type": "stream",
     "text": [
      "157/157 - 13s - loss: 4.5345 - accuracy: 0.0427 - 13s/epoch - 82ms/step\n",
      "Epoch 2/25\n",
      "157/157 - 12s - loss: 3.9928 - accuracy: 0.1194 - 12s/epoch - 78ms/step\n",
      "Epoch 3/25\n",
      "157/157 - 13s - loss: 3.7410 - accuracy: 0.1638 - 13s/epoch - 80ms/step\n",
      "Epoch 4/25\n",
      "157/157 - 13s - loss: 3.5513 - accuracy: 0.2048 - 13s/epoch - 81ms/step\n",
      "Epoch 5/25\n",
      "157/157 - 13s - loss: 3.4151 - accuracy: 0.2333 - 13s/epoch - 84ms/step\n",
      "Epoch 6/25\n",
      "157/157 - 13s - loss: 3.2933 - accuracy: 0.2555 - 13s/epoch - 83ms/step\n",
      "Epoch 7/25\n",
      "157/157 - 12s - loss: 3.1821 - accuracy: 0.2810 - 12s/epoch - 76ms/step\n",
      "Epoch 8/25\n",
      "157/157 - 12s - loss: 3.1074 - accuracy: 0.2937 - 12s/epoch - 74ms/step\n",
      "Epoch 9/25\n",
      "157/157 - 13s - loss: 3.0214 - accuracy: 0.3130 - 13s/epoch - 80ms/step\n",
      "Epoch 10/25\n",
      "157/157 - 12s - loss: 2.9621 - accuracy: 0.3196 - 12s/epoch - 80ms/step\n",
      "Epoch 11/25\n",
      "157/157 - 13s - loss: 2.8690 - accuracy: 0.3462 - 13s/epoch - 81ms/step\n",
      "Epoch 12/25\n",
      "157/157 - 12s - loss: 2.8211 - accuracy: 0.3567 - 12s/epoch - 74ms/step\n",
      "Epoch 13/25\n",
      "157/157 - 11s - loss: 2.7600 - accuracy: 0.3690 - 11s/epoch - 71ms/step\n",
      "Epoch 14/25\n",
      "157/157 - 12s - loss: 2.7092 - accuracy: 0.3814 - 12s/epoch - 79ms/step\n",
      "Epoch 15/25\n",
      "157/157 - 13s - loss: 2.6530 - accuracy: 0.3972 - 13s/epoch - 80ms/step\n",
      "Epoch 16/25\n",
      "157/157 - 12s - loss: 2.6111 - accuracy: 0.4060 - 12s/epoch - 79ms/step\n",
      "Epoch 17/25\n",
      "157/157 - 12s - loss: 2.5630 - accuracy: 0.4154 - 12s/epoch - 75ms/step\n",
      "Epoch 18/25\n",
      "157/157 - 11s - loss: 2.5140 - accuracy: 0.4272 - 11s/epoch - 69ms/step\n",
      "Epoch 19/25\n",
      "157/157 - 12s - loss: 2.4725 - accuracy: 0.4366 - 12s/epoch - 75ms/step\n",
      "Epoch 20/25\n",
      "157/157 - 12s - loss: 2.4665 - accuracy: 0.4386 - 12s/epoch - 76ms/step\n",
      "Epoch 21/25\n",
      "157/157 - 12s - loss: 2.4128 - accuracy: 0.4493 - 12s/epoch - 77ms/step\n",
      "Epoch 22/25\n",
      "157/157 - 11s - loss: 2.3870 - accuracy: 0.4557 - 11s/epoch - 71ms/step\n",
      "Epoch 23/25\n",
      "157/157 - 11s - loss: 2.3427 - accuracy: 0.4735 - 11s/epoch - 73ms/step\n",
      "Epoch 24/25\n",
      "157/157 - 12s - loss: 2.3166 - accuracy: 0.4787 - 12s/epoch - 76ms/step\n",
      "Epoch 25/25\n",
      "157/157 - 13s - loss: 2.2876 - accuracy: 0.4846 - 13s/epoch - 80ms/step\n",
      "Training reference model 1...\n",
      "Epoch 1/25\n"
     ]
    },
    {
     "name": "stderr",
     "output_type": "stream",
     "text": [
      "2022-05-06 13:37:04.632147: W tensorflow/core/framework/cpu_allocator_impl.cc:82] Allocation of 122880000 exceeds 10% of free system memory.\n"
     ]
    },
    {
     "name": "stdout",
     "output_type": "stream",
     "text": [
      "157/157 - 14s - loss: 4.5566 - accuracy: 0.0372 - 14s/epoch - 87ms/step\n",
      "Epoch 2/25\n",
      "157/157 - 13s - loss: 4.0666 - accuracy: 0.1002 - 13s/epoch - 83ms/step\n",
      "Epoch 3/25\n",
      "157/157 - 11s - loss: 3.8002 - accuracy: 0.1513 - 11s/epoch - 71ms/step\n",
      "Epoch 4/25\n",
      "157/157 - 12s - loss: 3.6226 - accuracy: 0.1819 - 12s/epoch - 79ms/step\n",
      "Epoch 5/25\n",
      "157/157 - 12s - loss: 3.4801 - accuracy: 0.2138 - 12s/epoch - 79ms/step\n",
      "Epoch 6/25\n",
      "157/157 - 12s - loss: 3.3595 - accuracy: 0.2354 - 12s/epoch - 74ms/step\n",
      "Epoch 7/25\n",
      "157/157 - 12s - loss: 3.2620 - accuracy: 0.2526 - 12s/epoch - 79ms/step\n",
      "Epoch 8/25\n",
      "157/157 - 11s - loss: 3.1565 - accuracy: 0.2795 - 11s/epoch - 71ms/step\n",
      "Epoch 9/25\n",
      "157/157 - 12s - loss: 3.0895 - accuracy: 0.2926 - 12s/epoch - 79ms/step\n",
      "Epoch 10/25\n",
      "157/157 - 12s - loss: 3.0322 - accuracy: 0.3079 - 12s/epoch - 74ms/step\n",
      "Epoch 11/25\n",
      "157/157 - 12s - loss: 2.9630 - accuracy: 0.3230 - 12s/epoch - 75ms/step\n",
      "Epoch 12/25\n",
      "157/157 - 12s - loss: 2.9061 - accuracy: 0.3337 - 12s/epoch - 79ms/step\n",
      "Epoch 13/25\n",
      "157/157 - 12s - loss: 2.8538 - accuracy: 0.3468 - 12s/epoch - 75ms/step\n",
      "Epoch 14/25\n",
      "157/157 - 12s - loss: 2.8097 - accuracy: 0.3579 - 12s/epoch - 79ms/step\n",
      "Epoch 15/25\n",
      "157/157 - 7s - loss: 2.7681 - accuracy: 0.3657 - 7s/epoch - 42ms/step\n",
      "Epoch 16/25\n",
      "157/157 - 6s - loss: 2.7052 - accuracy: 0.3846 - 6s/epoch - 37ms/step\n",
      "Epoch 17/25\n",
      "157/157 - 6s - loss: 2.6519 - accuracy: 0.3935 - 6s/epoch - 40ms/step\n",
      "Epoch 18/25\n",
      "157/157 - 6s - loss: 2.6158 - accuracy: 0.4063 - 6s/epoch - 39ms/step\n",
      "Epoch 19/25\n",
      "157/157 - 6s - loss: 2.5861 - accuracy: 0.4110 - 6s/epoch - 36ms/step\n",
      "Epoch 20/25\n",
      "157/157 - 7s - loss: 2.5639 - accuracy: 0.4203 - 7s/epoch - 47ms/step\n",
      "Epoch 21/25\n",
      "157/157 - 8s - loss: 2.5039 - accuracy: 0.4287 - 8s/epoch - 53ms/step\n",
      "Epoch 22/25\n",
      "157/157 - 6s - loss: 2.4806 - accuracy: 0.4362 - 6s/epoch - 41ms/step\n",
      "Epoch 23/25\n",
      "157/157 - 7s - loss: 2.4395 - accuracy: 0.4443 - 7s/epoch - 46ms/step\n",
      "Epoch 24/25\n",
      "157/157 - 7s - loss: 2.4194 - accuracy: 0.4483 - 7s/epoch - 47ms/step\n",
      "Epoch 25/25\n",
      "157/157 - 11s - loss: 2.3841 - accuracy: 0.4620 - 11s/epoch - 70ms/step\n",
      "Training reference model 2...\n",
      "Epoch 1/25\n"
     ]
    },
    {
     "name": "stderr",
     "output_type": "stream",
     "text": [
      "2022-05-06 13:41:13.911163: W tensorflow/core/framework/cpu_allocator_impl.cc:82] Allocation of 122880000 exceeds 10% of free system memory.\n"
     ]
    },
    {
     "name": "stdout",
     "output_type": "stream",
     "text": [
      "157/157 - 15s - loss: 4.5337 - accuracy: 0.0390 - 15s/epoch - 97ms/step\n",
      "Epoch 2/25\n",
      "157/157 - 13s - loss: 3.9891 - accuracy: 0.1185 - 13s/epoch - 85ms/step\n",
      "Epoch 3/25\n",
      "157/157 - 13s - loss: 3.7179 - accuracy: 0.1677 - 13s/epoch - 82ms/step\n",
      "Epoch 4/25\n",
      "157/157 - 12s - loss: 3.5538 - accuracy: 0.1947 - 12s/epoch - 79ms/step\n",
      "Epoch 5/25\n",
      "157/157 - 12s - loss: 3.4244 - accuracy: 0.2195 - 12s/epoch - 78ms/step\n",
      "Epoch 6/25\n",
      "157/157 - 11s - loss: 3.3166 - accuracy: 0.2489 - 11s/epoch - 73ms/step\n",
      "Epoch 7/25\n",
      "157/157 - 13s - loss: 3.2397 - accuracy: 0.2593 - 13s/epoch - 81ms/step\n",
      "Epoch 8/25\n",
      "157/157 - 12s - loss: 3.1513 - accuracy: 0.2849 - 12s/epoch - 79ms/step\n",
      "Epoch 9/25\n",
      "157/157 - 12s - loss: 3.0741 - accuracy: 0.2943 - 12s/epoch - 79ms/step\n",
      "Epoch 10/25\n",
      "157/157 - 13s - loss: 3.0185 - accuracy: 0.3108 - 13s/epoch - 82ms/step\n",
      "Epoch 11/25\n",
      "157/157 - 12s - loss: 2.9462 - accuracy: 0.3255 - 12s/epoch - 75ms/step\n",
      "Epoch 12/25\n",
      "157/157 - 12s - loss: 2.9096 - accuracy: 0.3380 - 12s/epoch - 79ms/step\n",
      "Epoch 13/25\n",
      "157/157 - 13s - loss: 2.8623 - accuracy: 0.3493 - 13s/epoch - 80ms/step\n",
      "Epoch 14/25\n",
      "157/157 - 12s - loss: 2.8130 - accuracy: 0.3565 - 12s/epoch - 78ms/step\n",
      "Epoch 15/25\n",
      "157/157 - 13s - loss: 2.7531 - accuracy: 0.3688 - 13s/epoch - 80ms/step\n",
      "Epoch 16/25\n",
      "157/157 - 12s - loss: 2.7229 - accuracy: 0.3747 - 12s/epoch - 76ms/step\n",
      "Epoch 17/25\n",
      "157/157 - 12s - loss: 2.6726 - accuracy: 0.3918 - 12s/epoch - 75ms/step\n",
      "Epoch 18/25\n",
      "157/157 - 13s - loss: 2.6363 - accuracy: 0.3941 - 13s/epoch - 81ms/step\n",
      "Epoch 19/25\n",
      "157/157 - 12s - loss: 2.5957 - accuracy: 0.4111 - 12s/epoch - 75ms/step\n",
      "Epoch 20/25\n",
      "157/157 - 13s - loss: 2.5728 - accuracy: 0.4174 - 13s/epoch - 80ms/step\n",
      "Epoch 21/25\n",
      "157/157 - 12s - loss: 2.5143 - accuracy: 0.4248 - 12s/epoch - 76ms/step\n",
      "Epoch 22/25\n",
      "157/157 - 11s - loss: 2.5051 - accuracy: 0.4288 - 11s/epoch - 73ms/step\n",
      "Epoch 23/25\n",
      "157/157 - 12s - loss: 2.4541 - accuracy: 0.4323 - 12s/epoch - 78ms/step\n",
      "Epoch 24/25\n",
      "157/157 - 11s - loss: 2.4407 - accuracy: 0.4410 - 11s/epoch - 73ms/step\n",
      "Epoch 25/25\n",
      "157/157 - 13s - loss: 2.3965 - accuracy: 0.4553 - 13s/epoch - 81ms/step\n",
      "Training reference model 3...\n"
     ]
    },
    {
     "name": "stderr",
     "output_type": "stream",
     "text": [
      "2022-05-06 13:46:24.554652: W tensorflow/core/framework/cpu_allocator_impl.cc:82] Allocation of 122880000 exceeds 10% of free system memory.\n"
     ]
    },
    {
     "name": "stdout",
     "output_type": "stream",
     "text": [
      "Epoch 1/25\n",
      "157/157 - 13s - loss: 4.5610 - accuracy: 0.0417 - 13s/epoch - 81ms/step\n",
      "Epoch 2/25\n",
      "157/157 - 11s - loss: 4.0527 - accuracy: 0.1052 - 11s/epoch - 68ms/step\n",
      "Epoch 3/25\n",
      "157/157 - 13s - loss: 3.7938 - accuracy: 0.1512 - 13s/epoch - 80ms/step\n",
      "Epoch 4/25\n",
      "157/157 - 12s - loss: 3.6214 - accuracy: 0.1796 - 12s/epoch - 79ms/step\n",
      "Epoch 5/25\n",
      "157/157 - 13s - loss: 3.4907 - accuracy: 0.2125 - 13s/epoch - 84ms/step\n",
      "Epoch 6/25\n",
      "157/157 - 12s - loss: 3.3746 - accuracy: 0.2353 - 12s/epoch - 76ms/step\n",
      "Epoch 7/25\n",
      "157/157 - 12s - loss: 3.2846 - accuracy: 0.2531 - 12s/epoch - 76ms/step\n",
      "Epoch 8/25\n",
      "157/157 - 11s - loss: 3.2225 - accuracy: 0.2628 - 11s/epoch - 72ms/step\n",
      "Epoch 9/25\n",
      "157/157 - 12s - loss: 3.1307 - accuracy: 0.2845 - 12s/epoch - 76ms/step\n",
      "Epoch 10/25\n",
      "157/157 - 13s - loss: 3.0740 - accuracy: 0.2986 - 13s/epoch - 83ms/step\n",
      "Epoch 11/25\n",
      "157/157 - 12s - loss: 3.0114 - accuracy: 0.3074 - 12s/epoch - 78ms/step\n",
      "Epoch 12/25\n",
      "157/157 - 13s - loss: 2.9522 - accuracy: 0.3233 - 13s/epoch - 81ms/step\n",
      "Epoch 13/25\n",
      "157/157 - 12s - loss: 2.9182 - accuracy: 0.3338 - 12s/epoch - 75ms/step\n",
      "Epoch 14/25\n",
      "157/157 - 11s - loss: 2.8729 - accuracy: 0.3386 - 11s/epoch - 73ms/step\n",
      "Epoch 15/25\n",
      "157/157 - 13s - loss: 2.8322 - accuracy: 0.3561 - 13s/epoch - 80ms/step\n",
      "Epoch 16/25\n",
      "157/157 - 12s - loss: 2.7880 - accuracy: 0.3611 - 12s/epoch - 77ms/step\n",
      "Epoch 17/25\n",
      "157/157 - 13s - loss: 2.7459 - accuracy: 0.3697 - 13s/epoch - 80ms/step\n",
      "Epoch 18/25\n",
      "157/157 - 12s - loss: 2.7148 - accuracy: 0.3760 - 12s/epoch - 80ms/step\n",
      "Epoch 19/25\n",
      "157/157 - 12s - loss: 2.6711 - accuracy: 0.3922 - 12s/epoch - 77ms/step\n",
      "Epoch 20/25\n",
      "157/157 - 13s - loss: 2.6656 - accuracy: 0.3917 - 13s/epoch - 82ms/step\n",
      "Epoch 21/25\n",
      "157/157 - 12s - loss: 2.6172 - accuracy: 0.4003 - 12s/epoch - 78ms/step\n",
      "Epoch 22/25\n",
      "157/157 - 13s - loss: 2.5894 - accuracy: 0.4055 - 13s/epoch - 82ms/step\n",
      "Epoch 23/25\n",
      "157/157 - 12s - loss: 2.5632 - accuracy: 0.4120 - 12s/epoch - 75ms/step\n",
      "Epoch 24/25\n",
      "157/157 - 11s - loss: 2.5408 - accuracy: 0.4168 - 11s/epoch - 72ms/step\n",
      "Epoch 25/25\n",
      "157/157 - 12s - loss: 2.5122 - accuracy: 0.4284 - 12s/epoch - 80ms/step\n",
      "Training reference model 4...\n",
      "Epoch 1/25\n",
      "157/157 - 12s - loss: 4.5328 - accuracy: 0.0409 - 12s/epoch - 79ms/step\n",
      "Epoch 2/25\n",
      "157/157 - 13s - loss: 4.0284 - accuracy: 0.1066 - 13s/epoch - 80ms/step\n",
      "Epoch 3/25\n",
      "157/157 - 12s - loss: 3.7606 - accuracy: 0.1576 - 12s/epoch - 78ms/step\n",
      "Epoch 4/25\n",
      "157/157 - 11s - loss: 3.5785 - accuracy: 0.1959 - 11s/epoch - 73ms/step\n",
      "Epoch 5/25\n",
      "157/157 - 12s - loss: 3.4541 - accuracy: 0.2167 - 12s/epoch - 78ms/step\n",
      "Epoch 6/25\n",
      "157/157 - 12s - loss: 3.3265 - accuracy: 0.2440 - 12s/epoch - 73ms/step\n",
      "Epoch 7/25\n",
      "157/157 - 13s - loss: 3.2444 - accuracy: 0.2619 - 13s/epoch - 82ms/step\n",
      "Epoch 8/25\n",
      "157/157 - 12s - loss: 3.1623 - accuracy: 0.2796 - 12s/epoch - 75ms/step\n",
      "Epoch 9/25\n",
      "157/157 - 11s - loss: 3.0866 - accuracy: 0.2926 - 11s/epoch - 73ms/step\n",
      "Epoch 10/25\n",
      "157/157 - 12s - loss: 3.0318 - accuracy: 0.3026 - 12s/epoch - 74ms/step\n",
      "Epoch 11/25\n",
      "157/157 - 12s - loss: 2.9659 - accuracy: 0.3198 - 12s/epoch - 78ms/step\n",
      "Epoch 12/25\n",
      "157/157 - 12s - loss: 2.9308 - accuracy: 0.3299 - 12s/epoch - 76ms/step\n",
      "Epoch 13/25\n",
      "157/157 - 12s - loss: 2.8858 - accuracy: 0.3355 - 12s/epoch - 78ms/step\n",
      "Epoch 14/25\n",
      "157/157 - 11s - loss: 2.8478 - accuracy: 0.3452 - 11s/epoch - 72ms/step\n",
      "Epoch 15/25\n",
      "157/157 - 12s - loss: 2.8043 - accuracy: 0.3570 - 12s/epoch - 76ms/step\n",
      "Epoch 16/25\n",
      "157/157 - 13s - loss: 2.7546 - accuracy: 0.3679 - 13s/epoch - 80ms/step\n",
      "Epoch 17/25\n",
      "157/157 - 12s - loss: 2.7196 - accuracy: 0.3713 - 12s/epoch - 76ms/step\n",
      "Epoch 18/25\n",
      "157/157 - 12s - loss: 2.6797 - accuracy: 0.3832 - 12s/epoch - 78ms/step\n",
      "Epoch 19/25\n",
      "157/157 - 11s - loss: 2.6359 - accuracy: 0.3968 - 11s/epoch - 71ms/step\n",
      "Epoch 20/25\n",
      "157/157 - 12s - loss: 2.6119 - accuracy: 0.3980 - 12s/epoch - 76ms/step\n",
      "Epoch 21/25\n",
      "157/157 - 12s - loss: 2.5829 - accuracy: 0.4110 - 12s/epoch - 79ms/step\n",
      "Epoch 22/25\n",
      "157/157 - 12s - loss: 2.5565 - accuracy: 0.4157 - 12s/epoch - 77ms/step\n",
      "Epoch 23/25\n",
      "157/157 - 12s - loss: 2.5260 - accuracy: 0.4299 - 12s/epoch - 78ms/step\n",
      "Epoch 24/25\n",
      "157/157 - 11s - loss: 2.4779 - accuracy: 0.4344 - 11s/epoch - 70ms/step\n",
      "Epoch 25/25\n",
      "157/157 - 12s - loss: 2.4604 - accuracy: 0.4311 - 12s/epoch - 76ms/step\n",
      "Training reference model 5...\n",
      "Epoch 1/25\n",
      "157/157 - 12s - loss: 4.5610 - accuracy: 0.0323 - 12s/epoch - 79ms/step\n",
      "Epoch 2/25\n",
      "157/157 - 12s - loss: 4.1032 - accuracy: 0.0904 - 12s/epoch - 76ms/step\n",
      "Epoch 3/25\n",
      "157/157 - 12s - loss: 3.8645 - accuracy: 0.1304 - 12s/epoch - 79ms/step\n",
      "Epoch 4/25\n",
      "157/157 - 11s - loss: 3.7245 - accuracy: 0.1577 - 11s/epoch - 69ms/step\n",
      "Epoch 5/25\n",
      "157/157 - 12s - loss: 3.5981 - accuracy: 0.1816 - 12s/epoch - 79ms/step\n",
      "Epoch 6/25\n",
      "157/157 - 12s - loss: 3.4864 - accuracy: 0.2131 - 12s/epoch - 76ms/step\n",
      "Epoch 7/25\n",
      "157/157 - 12s - loss: 3.3902 - accuracy: 0.2300 - 12s/epoch - 79ms/step\n",
      "Epoch 8/25\n",
      "157/157 - 12s - loss: 3.2997 - accuracy: 0.2469 - 12s/epoch - 78ms/step\n",
      "Epoch 9/25\n",
      "157/157 - 11s - loss: 3.2418 - accuracy: 0.2576 - 11s/epoch - 67ms/step\n",
      "Epoch 10/25\n",
      "157/157 - 12s - loss: 3.1771 - accuracy: 0.2758 - 12s/epoch - 78ms/step\n",
      "Epoch 11/25\n",
      "157/157 - 13s - loss: 3.1310 - accuracy: 0.2781 - 13s/epoch - 80ms/step\n",
      "Epoch 12/25\n",
      "157/157 - 13s - loss: 3.0751 - accuracy: 0.2954 - 13s/epoch - 82ms/step\n",
      "Epoch 13/25\n",
      "157/157 - 13s - loss: 3.0153 - accuracy: 0.3098 - 13s/epoch - 82ms/step\n",
      "Epoch 14/25\n",
      "157/157 - 12s - loss: 2.9793 - accuracy: 0.3093 - 12s/epoch - 78ms/step\n",
      "Epoch 15/25\n",
      "157/157 - 12s - loss: 2.9381 - accuracy: 0.3217 - 12s/epoch - 78ms/step\n",
      "Epoch 16/25\n",
      "157/157 - 12s - loss: 2.8981 - accuracy: 0.3375 - 12s/epoch - 79ms/step\n",
      "Epoch 17/25\n",
      "157/157 - 13s - loss: 2.8539 - accuracy: 0.3427 - 13s/epoch - 80ms/step\n",
      "Epoch 18/25\n",
      "157/157 - 12s - loss: 2.8463 - accuracy: 0.3418 - 12s/epoch - 78ms/step\n",
      "Epoch 19/25\n",
      "157/157 - 12s - loss: 2.7914 - accuracy: 0.3589 - 12s/epoch - 79ms/step\n",
      "Epoch 20/25\n",
      "157/157 - 11s - loss: 2.7680 - accuracy: 0.3575 - 11s/epoch - 72ms/step\n",
      "Epoch 21/25\n",
      "157/157 - 12s - loss: 2.7302 - accuracy: 0.3715 - 12s/epoch - 76ms/step\n",
      "Epoch 22/25\n",
      "157/157 - 12s - loss: 2.7188 - accuracy: 0.3752 - 12s/epoch - 78ms/step\n",
      "Epoch 23/25\n",
      "157/157 - 13s - loss: 2.6820 - accuracy: 0.3773 - 13s/epoch - 81ms/step\n",
      "Epoch 24/25\n",
      "157/157 - 12s - loss: 2.6498 - accuracy: 0.3882 - 12s/epoch - 79ms/step\n",
      "Epoch 25/25\n",
      "157/157 - 11s - loss: 2.6182 - accuracy: 0.3955 - 11s/epoch - 72ms/step\n",
      "Training reference model 6...\n",
      "Epoch 1/25\n",
      "157/157 - 13s - loss: 4.5749 - accuracy: 0.0354 - 13s/epoch - 85ms/step\n",
      "Epoch 2/25\n",
      "157/157 - 13s - loss: 4.0433 - accuracy: 0.1086 - 13s/epoch - 82ms/step\n",
      "Epoch 3/25\n",
      "157/157 - 14s - loss: 3.7894 - accuracy: 0.1574 - 14s/epoch - 86ms/step\n",
      "Epoch 4/25\n",
      "157/157 - 12s - loss: 3.6283 - accuracy: 0.1853 - 12s/epoch - 74ms/step\n",
      "Epoch 5/25\n",
      "157/157 - 13s - loss: 3.5085 - accuracy: 0.2113 - 13s/epoch - 84ms/step\n",
      "Epoch 6/25\n",
      "157/157 - 12s - loss: 3.4075 - accuracy: 0.2257 - 12s/epoch - 79ms/step\n",
      "Epoch 7/25\n",
      "157/157 - 15s - loss: 3.3092 - accuracy: 0.2513 - 15s/epoch - 93ms/step\n",
      "Epoch 8/25\n",
      "157/157 - 12s - loss: 3.2476 - accuracy: 0.2576 - 12s/epoch - 79ms/step\n",
      "Epoch 9/25\n",
      "157/157 - 14s - loss: 3.1696 - accuracy: 0.2794 - 14s/epoch - 87ms/step\n",
      "Epoch 10/25\n",
      "157/157 - 13s - loss: 3.1058 - accuracy: 0.2933 - 13s/epoch - 83ms/step\n",
      "Epoch 11/25\n",
      "157/157 - 13s - loss: 3.0540 - accuracy: 0.3087 - 13s/epoch - 85ms/step\n",
      "Epoch 12/25\n",
      "157/157 - 13s - loss: 3.0035 - accuracy: 0.3176 - 13s/epoch - 85ms/step\n",
      "Epoch 13/25\n",
      "157/157 - 13s - loss: 2.9516 - accuracy: 0.3354 - 13s/epoch - 85ms/step\n",
      "Epoch 14/25\n",
      "157/157 - 14s - loss: 2.9078 - accuracy: 0.3427 - 14s/epoch - 87ms/step\n",
      "Epoch 15/25\n",
      "157/157 - 13s - loss: 2.8537 - accuracy: 0.3475 - 13s/epoch - 85ms/step\n",
      "Epoch 16/25\n",
      "157/157 - 13s - loss: 2.8153 - accuracy: 0.3579 - 13s/epoch - 83ms/step\n",
      "Epoch 17/25\n",
      "157/157 - 13s - loss: 2.7746 - accuracy: 0.3684 - 13s/epoch - 85ms/step\n",
      "Epoch 18/25\n",
      "157/157 - 12s - loss: 2.7439 - accuracy: 0.3725 - 12s/epoch - 79ms/step\n",
      "Epoch 19/25\n",
      "157/157 - 13s - loss: 2.7148 - accuracy: 0.3784 - 13s/epoch - 82ms/step\n",
      "Epoch 20/25\n",
      "157/157 - 14s - loss: 2.6772 - accuracy: 0.3963 - 14s/epoch - 87ms/step\n",
      "Epoch 21/25\n",
      "157/157 - 14s - loss: 2.6453 - accuracy: 0.4023 - 14s/epoch - 87ms/step\n",
      "Epoch 22/25\n",
      "157/157 - 12s - loss: 2.6216 - accuracy: 0.4003 - 12s/epoch - 75ms/step\n",
      "Epoch 23/25\n",
      "157/157 - 13s - loss: 2.5705 - accuracy: 0.4144 - 13s/epoch - 82ms/step\n",
      "Epoch 24/25\n",
      "157/157 - 11s - loss: 2.5663 - accuracy: 0.4179 - 11s/epoch - 71ms/step\n",
      "Epoch 25/25\n",
      "157/157 - 12s - loss: 2.5383 - accuracy: 0.4254 - 12s/epoch - 75ms/step\n",
      "Training reference model 7...\n",
      "Epoch 1/25\n",
      "157/157 - 12s - loss: 4.5589 - accuracy: 0.0399 - 12s/epoch - 77ms/step\n",
      "Epoch 2/25\n",
      "157/157 - 12s - loss: 3.9967 - accuracy: 0.1126 - 12s/epoch - 75ms/step\n",
      "Epoch 3/25\n",
      "157/157 - 12s - loss: 3.6988 - accuracy: 0.1731 - 12s/epoch - 78ms/step\n",
      "Epoch 4/25\n",
      "157/157 - 12s - loss: 3.5043 - accuracy: 0.2055 - 12s/epoch - 77ms/step\n",
      "Epoch 5/25\n",
      "157/157 - 12s - loss: 3.3660 - accuracy: 0.2292 - 12s/epoch - 75ms/step\n",
      "Epoch 6/25\n",
      "157/157 - 12s - loss: 3.2595 - accuracy: 0.2508 - 12s/epoch - 74ms/step\n",
      "Epoch 7/25\n",
      "157/157 - 12s - loss: 3.1665 - accuracy: 0.2685 - 12s/epoch - 78ms/step\n",
      "Epoch 8/25\n",
      "157/157 - 12s - loss: 3.0963 - accuracy: 0.2898 - 12s/epoch - 75ms/step\n",
      "Epoch 9/25\n",
      "157/157 - 12s - loss: 3.0354 - accuracy: 0.3020 - 12s/epoch - 79ms/step\n",
      "Epoch 10/25\n",
      "157/157 - 11s - loss: 2.9645 - accuracy: 0.3196 - 11s/epoch - 70ms/step\n",
      "Epoch 11/25\n",
      "157/157 - 12s - loss: 2.9055 - accuracy: 0.3239 - 12s/epoch - 79ms/step\n",
      "Epoch 12/25\n",
      "157/157 - 12s - loss: 2.8513 - accuracy: 0.3420 - 12s/epoch - 75ms/step\n",
      "Epoch 13/25\n",
      "157/157 - 13s - loss: 2.8111 - accuracy: 0.3537 - 13s/epoch - 81ms/step\n",
      "Epoch 14/25\n",
      "157/157 - 12s - loss: 2.7421 - accuracy: 0.3651 - 12s/epoch - 77ms/step\n",
      "Epoch 15/25\n",
      "157/157 - 9s - loss: 2.7190 - accuracy: 0.3711 - 9s/epoch - 59ms/step\n",
      "Epoch 16/25\n",
      "157/157 - 11s - loss: 2.6638 - accuracy: 0.3806 - 11s/epoch - 71ms/step\n",
      "Epoch 17/25\n",
      "157/157 - 10s - loss: 2.6497 - accuracy: 0.3849 - 10s/epoch - 63ms/step\n",
      "Epoch 18/25\n",
      "157/157 - 9s - loss: 2.6132 - accuracy: 0.3964 - 9s/epoch - 54ms/step\n",
      "Epoch 19/25\n",
      "157/157 - 10s - loss: 2.5655 - accuracy: 0.4146 - 10s/epoch - 63ms/step\n",
      "Epoch 20/25\n",
      "157/157 - 9s - loss: 2.5510 - accuracy: 0.4128 - 9s/epoch - 58ms/step\n",
      "Epoch 21/25\n",
      "157/157 - 7s - loss: 2.5137 - accuracy: 0.4238 - 7s/epoch - 47ms/step\n",
      "Epoch 22/25\n",
      "157/157 - 7s - loss: 2.4780 - accuracy: 0.4276 - 7s/epoch - 42ms/step\n",
      "Epoch 23/25\n",
      "157/157 - 6s - loss: 2.4583 - accuracy: 0.4319 - 6s/epoch - 41ms/step\n",
      "Epoch 24/25\n",
      "157/157 - 7s - loss: 2.4408 - accuracy: 0.4386 - 7s/epoch - 45ms/step\n",
      "Epoch 25/25\n",
      "157/157 - 7s - loss: 2.3871 - accuracy: 0.4507 - 7s/epoch - 42ms/step\n",
      "Training reference model 8...\n",
      "Epoch 1/25\n",
      "157/157 - 8s - loss: 4.5300 - accuracy: 0.0423 - 8s/epoch - 49ms/step\n",
      "Epoch 2/25\n",
      "157/157 - 6s - loss: 3.9813 - accuracy: 0.1182 - 6s/epoch - 41ms/step\n",
      "Epoch 3/25\n",
      "157/157 - 7s - loss: 3.6954 - accuracy: 0.1716 - 7s/epoch - 45ms/step\n",
      "Epoch 4/25\n",
      "157/157 - 6s - loss: 3.5116 - accuracy: 0.2129 - 6s/epoch - 41ms/step\n",
      "Epoch 5/25\n",
      "157/157 - 7s - loss: 3.3782 - accuracy: 0.2410 - 7s/epoch - 45ms/step\n",
      "Epoch 6/25\n",
      "157/157 - 6s - loss: 3.2566 - accuracy: 0.2646 - 6s/epoch - 41ms/step\n",
      "Epoch 7/25\n",
      "157/157 - 7s - loss: 3.1574 - accuracy: 0.2818 - 7s/epoch - 47ms/step\n",
      "Epoch 8/25\n",
      "157/157 - 6s - loss: 3.0816 - accuracy: 0.2972 - 6s/epoch - 41ms/step\n",
      "Epoch 9/25\n",
      "157/157 - 7s - loss: 3.0090 - accuracy: 0.3163 - 7s/epoch - 44ms/step\n",
      "Epoch 10/25\n",
      "157/157 - 7s - loss: 2.9528 - accuracy: 0.3325 - 7s/epoch - 43ms/step\n",
      "Epoch 11/25\n",
      "157/157 - 6s - loss: 2.8561 - accuracy: 0.3514 - 6s/epoch - 41ms/step\n",
      "Epoch 12/25\n",
      "157/157 - 7s - loss: 2.8419 - accuracy: 0.3598 - 7s/epoch - 46ms/step\n",
      "Epoch 13/25\n",
      "157/157 - 7s - loss: 2.7603 - accuracy: 0.3762 - 7s/epoch - 42ms/step\n",
      "Epoch 14/25\n",
      "157/157 - 7s - loss: 2.7126 - accuracy: 0.3882 - 7s/epoch - 42ms/step\n",
      "Epoch 15/25\n",
      "157/157 - 6s - loss: 2.6744 - accuracy: 0.3982 - 6s/epoch - 36ms/step\n",
      "Epoch 16/25\n",
      "157/157 - 7s - loss: 2.6062 - accuracy: 0.4095 - 7s/epoch - 45ms/step\n",
      "Epoch 17/25\n",
      "157/157 - 7s - loss: 2.5841 - accuracy: 0.4203 - 7s/epoch - 43ms/step\n",
      "Epoch 18/25\n",
      "157/157 - 7s - loss: 2.5416 - accuracy: 0.4300 - 7s/epoch - 44ms/step\n",
      "Epoch 19/25\n",
      "157/157 - 6s - loss: 2.5010 - accuracy: 0.4367 - 6s/epoch - 39ms/step\n",
      "Epoch 20/25\n",
      "157/157 - 6s - loss: 2.4577 - accuracy: 0.4519 - 6s/epoch - 41ms/step\n",
      "Epoch 21/25\n",
      "157/157 - 11s - loss: 2.4242 - accuracy: 0.4619 - 11s/epoch - 70ms/step\n",
      "Epoch 22/25\n",
      "157/157 - 12s - loss: 2.3913 - accuracy: 0.4609 - 12s/epoch - 79ms/step\n",
      "Epoch 23/25\n",
      "157/157 - 8s - loss: 2.3670 - accuracy: 0.4706 - 8s/epoch - 50ms/step\n",
      "Epoch 24/25\n",
      "157/157 - 7s - loss: 2.3291 - accuracy: 0.4765 - 7s/epoch - 46ms/step\n",
      "Epoch 25/25\n",
      "157/157 - 7s - loss: 2.2972 - accuracy: 0.4876 - 7s/epoch - 47ms/step\n",
      "Training reference model 9...\n",
      "Epoch 1/25\n",
      "157/157 - 9s - loss: 4.5272 - accuracy: 0.0383 - 9s/epoch - 54ms/step\n",
      "Epoch 2/25\n",
      "157/157 - 7s - loss: 3.9546 - accuracy: 0.1242 - 7s/epoch - 47ms/step\n",
      "Epoch 3/25\n",
      "157/157 - 7s - loss: 3.7004 - accuracy: 0.1677 - 7s/epoch - 42ms/step\n",
      "Epoch 4/25\n",
      "157/157 - 7s - loss: 3.5536 - accuracy: 0.1977 - 7s/epoch - 45ms/step\n",
      "Epoch 5/25\n",
      "157/157 - 8s - loss: 3.4409 - accuracy: 0.2230 - 8s/epoch - 49ms/step\n",
      "Epoch 6/25\n",
      "157/157 - 7s - loss: 3.3285 - accuracy: 0.2431 - 7s/epoch - 47ms/step\n",
      "Epoch 7/25\n",
      "157/157 - 8s - loss: 3.2324 - accuracy: 0.2644 - 8s/epoch - 50ms/step\n",
      "Epoch 8/25\n",
      "157/157 - 8s - loss: 3.1309 - accuracy: 0.2914 - 8s/epoch - 49ms/step\n",
      "Epoch 9/25\n",
      "157/157 - 7s - loss: 3.0600 - accuracy: 0.3035 - 7s/epoch - 45ms/step\n",
      "Epoch 10/25\n",
      "157/157 - 7s - loss: 2.9894 - accuracy: 0.3207 - 7s/epoch - 43ms/step\n",
      "Epoch 11/25\n",
      "157/157 - 8s - loss: 2.9082 - accuracy: 0.3387 - 8s/epoch - 51ms/step\n",
      "Epoch 12/25\n",
      "157/157 - 7s - loss: 2.8648 - accuracy: 0.3425 - 7s/epoch - 44ms/step\n",
      "Epoch 13/25\n",
      "157/157 - 8s - loss: 2.8038 - accuracy: 0.3587 - 8s/epoch - 52ms/step\n",
      "Epoch 14/25\n",
      "157/157 - 7s - loss: 2.7381 - accuracy: 0.3792 - 7s/epoch - 47ms/step\n",
      "Epoch 15/25\n",
      "157/157 - 8s - loss: 2.7088 - accuracy: 0.3816 - 8s/epoch - 52ms/step\n",
      "Epoch 16/25\n",
      "157/157 - 8s - loss: 2.6624 - accuracy: 0.3933 - 8s/epoch - 50ms/step\n",
      "Epoch 17/25\n",
      "157/157 - 8s - loss: 2.6211 - accuracy: 0.4046 - 8s/epoch - 51ms/step\n",
      "Epoch 18/25\n",
      "157/157 - 8s - loss: 2.5818 - accuracy: 0.4124 - 8s/epoch - 51ms/step\n",
      "Epoch 19/25\n",
      "157/157 - 8s - loss: 2.5469 - accuracy: 0.4234 - 8s/epoch - 48ms/step\n",
      "Epoch 20/25\n",
      "157/157 - 8s - loss: 2.5069 - accuracy: 0.4321 - 8s/epoch - 49ms/step\n",
      "Epoch 21/25\n",
      "157/157 - 8s - loss: 2.4693 - accuracy: 0.4379 - 8s/epoch - 49ms/step\n",
      "Epoch 22/25\n",
      "157/157 - 8s - loss: 2.4322 - accuracy: 0.4508 - 8s/epoch - 53ms/step\n",
      "Epoch 23/25\n",
      "157/157 - 8s - loss: 2.3999 - accuracy: 0.4545 - 8s/epoch - 49ms/step\n",
      "Epoch 24/25\n",
      "157/157 - 9s - loss: 2.3752 - accuracy: 0.4676 - 9s/epoch - 56ms/step\n",
      "Epoch 25/25\n",
      "157/157 - 8s - loss: 2.3386 - accuracy: 0.4695 - 8s/epoch - 48ms/step\n"
     ]
    }
   ],
   "source": [
    "reference_models = []\n",
    "for model_idx in range(num_reference_models):\n",
    "    print(f\"Training reference model {model_idx}...\")\n",
    "    reference_model = get_tensorflow_cnn_classifier(input_shape, num_classes, regularizer)\n",
    "    reference_model.compile(optimizer=optim_fn, loss=loss_fn, metrics=['accuracy'])\n",
    "    reference_model.fit(\n",
    "        datasets_list[model_idx + 1].get_feature('train', '<default_input>'),\n",
    "        datasets_list[model_idx + 1].get_feature('train', '<default_output>'),\n",
    "        batch_size=batch_size,\n",
    "        epochs=epochs,\n",
    "        verbose=2\n",
    "    )\n",
    "    reference_models.append(\n",
    "        TensorflowModel(model_obj=reference_model, loss_fn=loss_fn)\n",
    "    )"
   ]
  },
  {
   "cell_type": "markdown",
   "id": "3b2cf473",
   "metadata": {},
   "source": [
    "## Information Sources\n",
    "\n",
    "We can now define two `InformationSource` objects. Basically, an information source is an abstraction representing a set of models, and their corresponding dataset. Note that for the `ReferenceMetric` we use the same dataset in both the target and reference information sources, but the models that will be used for querying the dataset will differ."
   ]
  },
  {
   "cell_type": "code",
   "execution_count": 15,
   "id": "15ffcbae",
   "metadata": {},
   "outputs": [],
   "source": [
    "target_info_source = InformationSource(\n",
    "    models=[target_model],\n",
    "    datasets=[datasets_list[0]]\n",
    ")\n",
    "\n",
    "reference_info_source = InformationSource(\n",
    "    models=reference_models,\n",
    "    datasets=datasets_list[1:]\n",
    ")"
   ]
  },
  {
   "cell_type": "markdown",
   "id": "4b83dd40",
   "metadata": {},
   "source": [
    "## Metric and Audit\n",
    "\n",
    "We now create a `Metric` object, which is an abstraction representing an algorithm used to measure something on an `InformationSource`, such as membership information leakage. In this case, we use the `ReferenceMetric` to measure the membership information leakage of `target_info_source` in a black-box setting, using loss values returned by the reference model on the target dataset in `reference_info_source`.\n",
    "\n",
    "The `Audit` object is a wrapper to actually run the audit, and display the results. More visualization options will be added soon.\n",
    "\n",
    "As we will be using the default version of the `ReferenceMetric`, we pass the `REFERENCE` enum value as the metric argument for the `Audit` object."
   ]
  },
  {
   "cell_type": "code",
   "execution_count": null,
   "id": "68ee2a66",
   "metadata": {
    "pycharm": {
     "is_executing": true
    }
   },
   "outputs": [],
   "source": [
    "audit_obj = Audit(\n",
    "    metrics=MetricEnum.REFERENCE,\n",
    "    inference_game_type=InferenceGame.PRIVACY_LOSS_MODEL,\n",
    "    target_info_sources=target_info_source,\n",
    "    reference_info_sources=reference_info_source,\n",
    "    fpr_tolerances=fpr_tolerance_list\n",
    ")\n",
    "audit_obj.prepare()"
   ]
  },
  {
   "cell_type": "code",
   "execution_count": null,
   "id": "263c53b1",
   "metadata": {
    "pycharm": {
     "is_executing": true
    }
   },
   "outputs": [],
   "source": [
    "audit_results = audit_obj.run()[0]\n",
    "for result in audit_results:\n",
    "    print(result)"
   ]
  },
  {
   "cell_type": "markdown",
   "source": [
    "## Result visualization"
   ],
   "metadata": {
    "collapsed": false,
    "pycharm": {
     "name": "#%% md\n"
    }
   }
  },
  {
   "cell_type": "markdown",
   "source": [
    "Several visualization tools are built in `privacy_tool`, such as ROC curves, signal values histogram, or confusion matrix."
   ],
   "metadata": {
    "collapsed": false,
    "pycharm": {
     "name": "#%% md\n"
    }
   }
  },
  {
   "cell_type": "code",
   "execution_count": null,
   "outputs": [],
   "source": [
    "# This instruction won't be needed once the tool is on pip\n",
    "from privacy_meter import audit_report\n",
    "audit_report.REPORT_FILES_DIR = '../privacy_meter/report_files'"
   ],
   "metadata": {
    "collapsed": false,
    "pycharm": {
     "name": "#%%\n",
     "is_executing": true
    }
   }
  },
  {
   "cell_type": "code",
   "execution_count": null,
   "outputs": [],
   "source": [
    "ROCCurveReport.generate_report(\n",
    "    metric_result=result,\n",
    "    inference_game_type=InferenceGame.PRIVACY_LOSS_MODEL,\n",
    "    show=True\n",
    ")"
   ],
   "metadata": {
    "collapsed": false,
    "pycharm": {
     "name": "#%%\n",
     "is_executing": true
    }
   }
  },
  {
   "cell_type": "code",
   "execution_count": null,
   "outputs": [],
   "source": [
    "SignalHistogramReport.generate_report(\n",
    "    metric_result=result,\n",
    "    inference_game_type=InferenceGame.PRIVACY_LOSS_MODEL,\n",
    "    show=True\n",
    ")"
   ],
   "metadata": {
    "collapsed": false,
    "pycharm": {
     "name": "#%%\n",
     "is_executing": true
    }
   }
  }
 ],
 "metadata": {
  "kernelspec": {
   "display_name": "Python 3",
   "language": "python",
   "name": "python3"
  },
  "language_info": {
   "codemirror_mode": {
    "name": "ipython",
    "version": 3
   },
   "file_extension": ".py",
   "mimetype": "text/x-python",
   "name": "python",
   "nbconvert_exporter": "python",
   "pygments_lexer": "ipython3",
   "version": "3.6.13"
  }
 },
 "nbformat": 4,
 "nbformat_minor": 5
}
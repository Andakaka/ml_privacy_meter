{
 "cells": [
  {
   "cell_type": "markdown",
   "source": [
    "# Evaluating the average privacy loss of a training algorithm"
   ],
   "metadata": {
    "collapsed": false,
    "pycharm": {
     "name": "#%% md\n"
    }
   }
  },
  {
   "cell_type": "markdown",
   "source": [
    "In this tutorial, we will see how to evaluate the average privacy loss of a training algorithm, regarding a membership inference game. To do so, we will train a PyTorch classifier on the Purchase100 dataset multiple time, and use the `privacy_meter` tool to display information about the privacy leakage. We will use the simple shadow metric, which makes use of shadow models.\n",
    "\n",
    "Among other things, we will cover:\n",
    "* Creating a Dataset object from a custom dataset\n",
    "* Auditing multiple PyTorch models trained with the same algorithm at once\n",
    "* Visualizing key information about privacy leakage"
   ],
   "metadata": {
    "collapsed": false,
    "pycharm": {
     "name": "#%% md\n"
    }
   }
  },
  {
   "cell_type": "markdown",
   "source": [
    "## Imports"
   ],
   "metadata": {
    "collapsed": false,
    "pycharm": {
     "name": "#%% md\n"
    }
   }
  },
  {
   "cell_type": "code",
   "execution_count": 1,
   "outputs": [],
   "source": [
    "from math import ceil\n",
    "import random"
   ],
   "metadata": {
    "collapsed": false,
    "pycharm": {
     "name": "#%%\n"
    }
   }
  },
  {
   "cell_type": "code",
   "execution_count": 2,
   "outputs": [],
   "source": [
    "import numpy as np\n",
    "import torch\n",
    "from torch import nn, optim, Tensor\n",
    "from sklearn.model_selection import train_test_split\n",
    "from sklearn.preprocessing import OneHotEncoder"
   ],
   "metadata": {
    "collapsed": false,
    "pycharm": {
     "name": "#%%\n"
    }
   }
  },
  {
   "cell_type": "markdown",
   "source": [
    "For now we install the library from the local source. A version will be pushed to pip soon."
   ],
   "metadata": {
    "collapsed": false,
    "pycharm": {
     "name": "#%% md\n"
    }
   }
  },
  {
   "cell_type": "code",
   "execution_count": 3,
   "outputs": [
    {
     "name": "stdout",
     "output_type": "stream",
     "text": [
      "Obtaining file:///home/victor/ml_privacy_meter\r\n",
      "  Preparing metadata (setup.py) ... \u001B[?25ldone\r\n",
      "\u001B[?25hInstalling collected packages: privacy-meter\r\n",
      "  Attempting uninstall: privacy-meter\r\n",
      "    Found existing installation: privacy-meter 1.0\r\n",
      "    Uninstalling privacy-meter-1.0:\r\n",
      "      Successfully uninstalled privacy-meter-1.0\r\n",
      "  Running setup.py develop for privacy-meter\r\n",
      "Successfully installed privacy-meter-1.0\r\n"
     ]
    }
   ],
   "source": [
    "import sys\n",
    "!{sys.executable} -m pip install -e ../.\n",
    "\n",
    "from privacy_meter.audit import Audit\n",
    "from privacy_meter.audit_report import ROCCurveReport, SignalHistogramReport\n",
    "from privacy_meter.constants import InferenceGame\n",
    "from privacy_meter.dataset import Dataset\n",
    "from privacy_meter.hypothesis_test import threshold_func\n",
    "from privacy_meter.information_source import InformationSource\n",
    "from privacy_meter.information_source_signal import ModelLoss\n",
    "from privacy_meter.metric import ShadowMetric\n",
    "from privacy_meter.model import PytorchModel"
   ],
   "metadata": {
    "collapsed": false,
    "pycharm": {
     "name": "#%%\n"
    }
   }
  },
  {
   "cell_type": "markdown",
   "source": [
    "## Settings"
   ],
   "metadata": {
    "collapsed": false,
    "pycharm": {
     "name": "#%% md\n"
    }
   }
  },
  {
   "cell_type": "markdown",
   "source": [
    "We set a fixed seed for reproducibility:"
   ],
   "metadata": {
    "collapsed": false,
    "pycharm": {
     "name": "#%% md\n"
    }
   }
  },
  {
   "cell_type": "code",
   "execution_count": 4,
   "outputs": [
    {
     "data": {
      "text/plain": "<torch._C.Generator at 0x7f791527caf0>"
     },
     "execution_count": 4,
     "metadata": {},
     "output_type": "execute_result"
    }
   ],
   "source": [
    "np.random.seed(0)\n",
    "random.seed(0)\n",
    "torch.manual_seed(0)"
   ],
   "metadata": {
    "collapsed": false,
    "pycharm": {
     "name": "#%%\n"
    }
   }
  },
  {
   "cell_type": "markdown",
   "source": [
    "And we set some hyperparameters:"
   ],
   "metadata": {
    "collapsed": false,
    "pycharm": {
     "name": "#%% md\n"
    }
   }
  },
  {
   "cell_type": "code",
   "execution_count": 5,
   "outputs": [],
   "source": [
    "N_TRAININGS = 5      # Number of rounds\n",
    "N_SHADOW_MODELS = 3  # Number of shadow models per round\n",
    "EPOCHS = 10          # Number of epochs\n",
    "BATCH_SIZE = 32      # Batch size for the training"
   ],
   "metadata": {
    "collapsed": false,
    "pycharm": {
     "name": "#%%\n"
    }
   }
  },
  {
   "cell_type": "markdown",
   "source": [
    "## Dataset creation"
   ],
   "metadata": {
    "collapsed": false,
    "pycharm": {
     "name": "#%% md\n"
    }
   }
  },
  {
   "cell_type": "markdown",
   "source": [
    "Let’s download the Purchase100 dataset (presented in https://www.cs.cornell.edu/~shmat/shmat_oak17.pdf on page 7) and extract it:"
   ],
   "metadata": {
    "collapsed": false,
    "pycharm": {
     "name": "#%% md\n"
    }
   }
  },
  {
   "cell_type": "code",
   "execution_count": 6,
   "outputs": [
    {
     "name": "stdout",
     "output_type": "stream",
     "text": [
      "--2022-05-09 11:20:05--  https://github.com/privacytrustlab/datasets/raw/master/dataset_purchase.tgz\r\n",
      "Resolving github.com (github.com)... 20.205.243.166\r\n",
      "Connecting to github.com (github.com)|20.205.243.166|:443... connected.\r\n",
      "HTTP request sent, awaiting response... 302 Found\r\n",
      "Location: https://raw.githubusercontent.com/privacytrustlab/datasets/master/dataset_purchase.tgz [following]\r\n",
      "--2022-05-09 11:20:06--  https://raw.githubusercontent.com/privacytrustlab/datasets/master/dataset_purchase.tgz\r\n",
      "Resolving raw.githubusercontent.com (raw.githubusercontent.com)... 185.199.108.133, 185.199.109.133, 185.199.110.133, ...\r\n",
      "Connecting to raw.githubusercontent.com (raw.githubusercontent.com)|185.199.108.133|:443... connected.\r\n",
      "HTTP request sent, awaiting response... 200 OK\r\n",
      "Length: 22045876 (21M) [application/octet-stream]\r\n",
      "Saving to: ‘dataset_purchase.tgz’\r\n",
      "\r\n",
      "dataset_purchase.tg 100%[===================>]  21.02M  11.1MB/s    in 1.9s    \r\n",
      "\r\n",
      "2022-05-09 11:20:09 (11.1 MB/s) - ‘dataset_purchase.tgz’ saved [22045876/22045876]\r\n",
      "\r\n",
      "dataset_purchase\r\n"
     ]
    }
   ],
   "source": [
    "!wget https://github.com/privacytrustlab/datasets/raw/master/dataset_purchase.tgz\n",
    "!tar -xvzf dataset_purchase.tgz\n",
    "!rm dataset_purchase.tgz"
   ],
   "metadata": {
    "collapsed": false,
    "pycharm": {
     "name": "#%%\n"
    }
   }
  },
  {
   "cell_type": "markdown",
   "source": [
    "Bellow, we use the `preprocess_purchase100` function to read and preprocess the dataset."
   ],
   "metadata": {
    "collapsed": false,
    "pycharm": {
     "name": "#%% md\n"
    }
   }
  },
  {
   "cell_type": "code",
   "execution_count": 7,
   "outputs": [],
   "source": [
    "def preprocess_purchase100():\n",
    "    \"\"\"\n",
    "    Cf. https://www.cs.cornell.edu/~shmat/shmat_oak17.pdf page 7\n",
    "    Returns:\n",
    "        The dataset, in the form x_train, y_train, x_test, y_test\n",
    "    \"\"\"\n",
    "    # Read raw dataset\n",
    "    dataset_path = \"../privacy_meter/dataset_purchase\"\n",
    "    with open(dataset_path, \"r\") as f:\n",
    "        purchase_dataset = f.readlines()\n",
    "    # Separate features and labels into different arrays\n",
    "    x, y = [], []\n",
    "    for datapoint in purchase_dataset:\n",
    "        split = datapoint.rstrip().split(\",\")\n",
    "        label = int(split[0]) - 1  # The first value is the label\n",
    "        features = np.array(split[1:], dtype=np.float32)  # The next values are the features\n",
    "        x.append(features)\n",
    "        y.append(label)\n",
    "    # Make sure the datatype is correct\n",
    "    x = np.array(x, dtype=np.float32)\n",
    "    # Convert labels into one hot vectors\n",
    "    y = OneHotEncoder(sparse=False).fit_transform(np.expand_dims(y, axis=1))\n",
    "    # Split data into train, test sets\n",
    "    x_train, x_test, y_train, y_test = train_test_split(x, y, test_size=0.25, random_state=1234)\n",
    "    return x_train, y_train, x_test, y_test"
   ],
   "metadata": {
    "collapsed": false,
    "pycharm": {
     "name": "#%%\n"
    }
   }
  },
  {
   "cell_type": "markdown",
   "source": [
    "The `generate_splits` creates a Dataset object, and uses the built-in `subdivide` function to split this dataset into multiple independent ones, to train the target model and the shadow models."
   ],
   "metadata": {
    "collapsed": false,
    "pycharm": {
     "name": "#%% md\n"
    }
   }
  },
  {
   "cell_type": "code",
   "execution_count": 8,
   "outputs": [],
   "source": [
    "def generate_splits(x_train, y_train, x_test, y_test, n_shadow_models):\n",
    "    dataset = Dataset(\n",
    "        data_dict={'train': {'x': x_train, 'y': y_train}, 'test': {'x': x_test, 'y': y_test}},\n",
    "        default_input='x',\n",
    "        default_output='y'\n",
    "    )\n",
    "    datasets_list = dataset.subdivide(\n",
    "        num_splits=n_shadow_models + 1,\n",
    "        return_results=True,\n",
    "        method='independent'\n",
    "    )\n",
    "    return datasets_list"
   ],
   "metadata": {
    "collapsed": false,
    "pycharm": {
     "name": "#%%\n"
    }
   }
  },
  {
   "cell_type": "markdown",
   "source": [
    "Finally, the `generate_datasets` function puts it all together, and generate a list of datasets (or rather of splits of the Purchase100 dataset), ready to be used for training."
   ],
   "metadata": {
    "collapsed": false,
    "pycharm": {
     "name": "#%% md\n"
    }
   }
  },
  {
   "cell_type": "code",
   "execution_count": 9,
   "outputs": [],
   "source": [
    "def generate_datasets(n_trainings, n_shadow_models):\n",
    "    x_train, y_train, x_test, y_test = preprocess_purchase100()\n",
    "    datasets_lists = [generate_splits(x_train, y_train, x_test, y_test, n_shadow_models) for _ in range(n_trainings)]\n",
    "    return datasets_lists"
   ],
   "metadata": {
    "collapsed": false,
    "pycharm": {
     "name": "#%%\n"
    }
   }
  },
  {
   "cell_type": "markdown",
   "source": [
    "## Models training"
   ],
   "metadata": {
    "collapsed": false,
    "pycharm": {
     "name": "#%% md\n"
    }
   }
  },
  {
   "cell_type": "markdown",
   "source": [
    "We start with the `get_torch_models` function, which returns a 2D list of models. The 1st dimension corresponds to the different rounds we do to get the average privacy loss of the training algorithm. The 2nd dimension corresponds to the different models used in one round: index 0 is the target model, while indices >0 are the shadow models."
   ],
   "metadata": {
    "collapsed": false,
    "pycharm": {
     "name": "#%% md\n"
    }
   }
  },
  {
   "cell_type": "code",
   "execution_count": 10,
   "outputs": [],
   "source": [
    "def get_torch_models(n_trainings, n_shadow_models):\n",
    "    torch_models = [[\n",
    "        nn.Sequential(\n",
    "            nn.Linear(in_features=600, out_features=350),\n",
    "            nn.Tanh(),\n",
    "            nn.Linear(in_features=350, out_features=100),\n",
    "            nn.Softmax(dim=1)\n",
    "        )\n",
    "        for _ in range(n_shadow_models + 1)\n",
    "        ] for _ in range(n_trainings)\n",
    "    ]\n",
    "    return torch_models"
   ],
   "metadata": {
    "collapsed": false,
    "pycharm": {
     "name": "#%%\n"
    }
   }
  },
  {
   "cell_type": "markdown",
   "source": [
    "Then the `get_trained_torch_models` function takes those raw models, and train them using the previously generated datasets list."
   ],
   "metadata": {
    "collapsed": false,
    "pycharm": {
     "name": "#%% md\n"
    }
   }
  },
  {
   "cell_type": "code",
   "execution_count": 11,
   "outputs": [],
   "source": [
    "def get_trained_torch_models(n_trainings, n_shadow_models, criterion, datasets_lists, batch_size, epochs):\n",
    "    torch_models = get_torch_models(n_trainings, n_shadow_models)\n",
    "    for i in range(n_trainings):\n",
    "        for j in range(n_shadow_models + 1):\n",
    "            optimizer = optim.Adam(torch_models[i][j].parameters())\n",
    "            x = datasets_lists[i][j].get_feature(split_name=f'train', feature_name='<default_input>')\n",
    "            y = datasets_lists[i][j].get_feature(split_name=f'train', feature_name='<default_output>')\n",
    "            n_samples = x.shape[0]\n",
    "            n_batches = ceil(n_samples / batch_size)\n",
    "            x = np.array_split(x, n_batches)\n",
    "            y = np.array_split(y, n_batches)\n",
    "            for epoch in range(epochs):\n",
    "                epoch_loss, acc = 0.0, 0.0\n",
    "                for b in range(n_batches):\n",
    "                    optimizer.zero_grad()\n",
    "                    y_pred = torch_models[i][j](Tensor(x[b]))\n",
    "                    loss = criterion(Tensor(y[b]), y_pred)\n",
    "                    loss.backward()\n",
    "                    optimizer.step()\n",
    "                    epoch_loss += loss.item()\n",
    "                    acc += torch.sum(y_pred.argmax(axis=1) == Tensor(y[b]).argmax(axis=1))\n",
    "                acc /= n_samples\n",
    "                epoch_loss /= n_samples\n",
    "                print(f'round #{i+1:02d}/{n_trainings:02d}, model #{j+1:02d}/{n_shadow_models+1:02d}, epoch #{epoch+1:02d}/{epochs:02d}:\\ttrain_acc = {acc:.3f}\\ttrain_loss = {epoch_loss:.3e}')\n",
    "    return torch_models"
   ],
   "metadata": {
    "collapsed": false,
    "pycharm": {
     "name": "#%%\n"
    }
   }
  },
  {
   "cell_type": "markdown",
   "source": [
    "And finally the `get_models` function puts it all together, by generating the models, training them, and wrapping them `PytorchModel` objects, provided by the `privacy_meter` tool."
   ],
   "metadata": {
    "collapsed": false,
    "pycharm": {
     "name": "#%% md\n"
    }
   }
  },
  {
   "cell_type": "code",
   "execution_count": 12,
   "outputs": [],
   "source": [
    "def get_models(n_trainings, n_shadow_models, datasets_lists, batch_size, epochs):\n",
    "    criterion = nn.CrossEntropyLoss(reduction='sum')\n",
    "    torch_models = get_trained_torch_models(n_trainings, n_shadow_models, criterion, datasets_lists, batch_size, epochs)\n",
    "    models = [[\n",
    "        PytorchModel(\n",
    "            model_obj=torch_models[i][j],\n",
    "            loss_fn=criterion\n",
    "        )\n",
    "        for j in range(n_shadow_models + 1)\n",
    "        ] for i in range(n_trainings)\n",
    "    ]\n",
    "    return models"
   ],
   "metadata": {
    "collapsed": false,
    "pycharm": {
     "name": "#%%\n"
    }
   }
  },
  {
   "cell_type": "markdown",
   "source": [
    "## Auditing"
   ],
   "metadata": {
    "collapsed": false,
    "pycharm": {
     "name": "#%% md\n"
    }
   }
  },
  {
   "cell_type": "markdown",
   "source": [
    "Now that we have both the datasets and the trained model, we can start the actual auditing. We get started by wrapping those in two `InformationSource` objects, an interface provided by the `privacy_meter` tool."
   ],
   "metadata": {
    "collapsed": false,
    "pycharm": {
     "name": "#%% md\n"
    }
   }
  },
  {
   "cell_type": "code",
   "execution_count": 13,
   "outputs": [],
   "source": [
    "def get_info_sources(models, datasets_lists, n_trainings):\n",
    "    target_info_sources = [InformationSource(\n",
    "        models=[models[i][0]],\n",
    "        datasets=[datasets_lists[i][0]]\n",
    "        ) for i in range(n_trainings)\n",
    "    ]\n",
    "    reference_info_sources = [InformationSource(\n",
    "        models=models[i][1:],\n",
    "        datasets=datasets_lists[i][1:]\n",
    "        ) for i in range(n_trainings)\n",
    "    ]\n",
    "    return target_info_sources, reference_info_sources"
   ],
   "metadata": {
    "collapsed": false,
    "pycharm": {
     "name": "#%%\n"
    }
   }
  },
  {
   "cell_type": "markdown",
   "source": [
    "The final step before running the auditing algorithm is to create some `Metric` objects, which represent the algorithm to use for the membership inference attack. As mentioned in the introduction, here, we use the `ShadowMetric` one, which makes use of shadow models."
   ],
   "metadata": {
    "collapsed": false,
    "pycharm": {
     "name": "#%% md\n"
    }
   }
  },
  {
   "cell_type": "code",
   "execution_count": 14,
   "outputs": [],
   "source": [
    "def get_metrics(models, datasets_lists, n_trainings):\n",
    "    target_info_sources, reference_info_sources = get_info_sources(models, datasets_lists, n_trainings)\n",
    "    metrics = [ShadowMetric(\n",
    "        target_info_source=target_info_sources[i],\n",
    "        reference_info_source=reference_info_sources[i],\n",
    "        signals=[ModelLoss()],\n",
    "        hypothesis_test_func=threshold_func,\n",
    "        unique_dataset=False,\n",
    "        reweight_samples=True\n",
    "    ) for i in range(n_trainings)]\n",
    "    return metrics"
   ],
   "metadata": {
    "collapsed": false,
    "pycharm": {
     "name": "#%%\n"
    }
   }
  },
  {
   "cell_type": "markdown",
   "source": [
    "We now have everything we need. The `get_audit_results` puts everything together, by calling the datasets related functions, the models related functions, and metrics related function, and by running the actual auditing."
   ],
   "metadata": {
    "collapsed": false,
    "pycharm": {
     "name": "#%% md\n"
    }
   }
  },
  {
   "cell_type": "code",
   "execution_count": 15,
   "outputs": [],
   "source": [
    "def get_audit_results(n_trainings, n_shadow_models, batch_size, epochs):\n",
    "    datasets_lists = generate_datasets(n_trainings, n_shadow_models)\n",
    "    models = get_models(n_trainings, n_shadow_models, datasets_lists, batch_size, epochs)\n",
    "    metrics = get_metrics(models, datasets_lists, n_trainings)\n",
    "    audit = Audit(\n",
    "        metrics=metrics,\n",
    "        inference_game_type=InferenceGame.AVG_PRIVACY_LOSS_TRAINING_ALGO\n",
    "    )\n",
    "    audit.prepare()\n",
    "    results = audit.run()\n",
    "    return results"
   ],
   "metadata": {
    "collapsed": false,
    "pycharm": {
     "name": "#%%\n"
    }
   }
  },
  {
   "cell_type": "code",
   "execution_count": 16,
   "outputs": [
    {
     "name": "stdout",
     "output_type": "stream",
     "text": [
      "round #01/05, model #01/04, epoch #01/10:\ttrain_acc = 0.238\ttrain_loss = 4.405e+00\n",
      "round #01/05, model #01/04, epoch #02/10:\ttrain_acc = 0.339\ttrain_loss = 4.297e+00\n",
      "round #01/05, model #01/04, epoch #03/10:\ttrain_acc = 0.359\ttrain_loss = 4.273e+00\n",
      "round #01/05, model #01/04, epoch #04/10:\ttrain_acc = 0.366\ttrain_loss = 4.263e+00\n",
      "round #01/05, model #01/04, epoch #05/10:\ttrain_acc = 0.375\ttrain_loss = 4.252e+00\n",
      "round #01/05, model #01/04, epoch #06/10:\ttrain_acc = 0.382\ttrain_loss = 4.244e+00\n",
      "round #01/05, model #01/04, epoch #07/10:\ttrain_acc = 0.384\ttrain_loss = 4.241e+00\n",
      "round #01/05, model #01/04, epoch #08/10:\ttrain_acc = 0.388\ttrain_loss = 4.237e+00\n",
      "round #01/05, model #01/04, epoch #09/10:\ttrain_acc = 0.392\ttrain_loss = 4.233e+00\n",
      "round #01/05, model #01/04, epoch #10/10:\ttrain_acc = 0.396\ttrain_loss = 4.228e+00\n",
      "round #01/05, model #02/04, epoch #01/10:\ttrain_acc = 0.118\ttrain_loss = 4.509e+00\n",
      "round #01/05, model #02/04, epoch #02/10:\ttrain_acc = 0.187\ttrain_loss = 4.441e+00\n",
      "round #01/05, model #02/04, epoch #03/10:\ttrain_acc = 0.199\ttrain_loss = 4.426e+00\n",
      "round #01/05, model #02/04, epoch #04/10:\ttrain_acc = 0.203\ttrain_loss = 4.421e+00\n",
      "round #01/05, model #02/04, epoch #05/10:\ttrain_acc = 0.209\ttrain_loss = 4.415e+00\n",
      "round #01/05, model #02/04, epoch #06/10:\ttrain_acc = 0.213\ttrain_loss = 4.410e+00\n",
      "round #01/05, model #02/04, epoch #07/10:\ttrain_acc = 0.217\ttrain_loss = 4.407e+00\n",
      "round #01/05, model #02/04, epoch #08/10:\ttrain_acc = 0.219\ttrain_loss = 4.404e+00\n",
      "round #01/05, model #02/04, epoch #09/10:\ttrain_acc = 0.220\ttrain_loss = 4.403e+00\n",
      "round #01/05, model #02/04, epoch #10/10:\ttrain_acc = 0.224\ttrain_loss = 4.399e+00\n",
      "round #01/05, model #03/04, epoch #01/10:\ttrain_acc = 0.250\ttrain_loss = 4.395e+00\n",
      "round #01/05, model #03/04, epoch #02/10:\ttrain_acc = 0.372\ttrain_loss = 4.268e+00\n",
      "round #01/05, model #03/04, epoch #03/10:\ttrain_acc = 0.398\ttrain_loss = 4.238e+00\n",
      "round #01/05, model #03/04, epoch #04/10:\ttrain_acc = 0.408\ttrain_loss = 4.223e+00\n",
      "round #01/05, model #03/04, epoch #05/10:\ttrain_acc = 0.414\ttrain_loss = 4.214e+00\n",
      "round #01/05, model #03/04, epoch #06/10:\ttrain_acc = 0.422\ttrain_loss = 4.206e+00\n",
      "round #01/05, model #03/04, epoch #07/10:\ttrain_acc = 0.428\ttrain_loss = 4.199e+00\n",
      "round #01/05, model #03/04, epoch #08/10:\ttrain_acc = 0.433\ttrain_loss = 4.193e+00\n",
      "round #01/05, model #03/04, epoch #09/10:\ttrain_acc = 0.434\ttrain_loss = 4.191e+00\n",
      "round #01/05, model #03/04, epoch #10/10:\ttrain_acc = 0.435\ttrain_loss = 4.190e+00\n",
      "round #01/05, model #04/04, epoch #01/10:\ttrain_acc = 0.281\ttrain_loss = 4.367e+00\n",
      "round #01/05, model #04/04, epoch #02/10:\ttrain_acc = 0.428\ttrain_loss = 4.217e+00\n",
      "round #01/05, model #04/04, epoch #03/10:\ttrain_acc = 0.458\ttrain_loss = 4.180e+00\n",
      "round #01/05, model #04/04, epoch #04/10:\ttrain_acc = 0.471\ttrain_loss = 4.163e+00\n",
      "round #01/05, model #04/04, epoch #05/10:\ttrain_acc = 0.477\ttrain_loss = 4.154e+00\n",
      "round #01/05, model #04/04, epoch #06/10:\ttrain_acc = 0.480\ttrain_loss = 4.148e+00\n",
      "round #01/05, model #04/04, epoch #07/10:\ttrain_acc = 0.481\ttrain_loss = 4.146e+00\n",
      "round #01/05, model #04/04, epoch #08/10:\ttrain_acc = 0.482\ttrain_loss = 4.144e+00\n",
      "round #01/05, model #04/04, epoch #09/10:\ttrain_acc = 0.482\ttrain_loss = 4.143e+00\n",
      "round #01/05, model #04/04, epoch #10/10:\ttrain_acc = 0.484\ttrain_loss = 4.141e+00\n",
      "round #02/05, model #01/04, epoch #01/10:\ttrain_acc = 0.205\ttrain_loss = 4.434e+00\n",
      "round #02/05, model #01/04, epoch #02/10:\ttrain_acc = 0.319\ttrain_loss = 4.317e+00\n",
      "round #02/05, model #01/04, epoch #03/10:\ttrain_acc = 0.345\ttrain_loss = 4.286e+00\n",
      "round #02/05, model #01/04, epoch #04/10:\ttrain_acc = 0.356\ttrain_loss = 4.272e+00\n",
      "round #02/05, model #01/04, epoch #05/10:\ttrain_acc = 0.363\ttrain_loss = 4.264e+00\n",
      "round #02/05, model #01/04, epoch #06/10:\ttrain_acc = 0.369\ttrain_loss = 4.258e+00\n",
      "round #02/05, model #01/04, epoch #07/10:\ttrain_acc = 0.374\ttrain_loss = 4.253e+00\n",
      "round #02/05, model #01/04, epoch #08/10:\ttrain_acc = 0.376\ttrain_loss = 4.248e+00\n",
      "round #02/05, model #01/04, epoch #09/10:\ttrain_acc = 0.378\ttrain_loss = 4.247e+00\n",
      "round #02/05, model #01/04, epoch #10/10:\ttrain_acc = 0.377\ttrain_loss = 4.247e+00\n",
      "round #02/05, model #02/04, epoch #01/10:\ttrain_acc = 0.159\ttrain_loss = 4.472e+00\n",
      "round #02/05, model #02/04, epoch #02/10:\ttrain_acc = 0.273\ttrain_loss = 4.360e+00\n",
      "round #02/05, model #02/04, epoch #03/10:\ttrain_acc = 0.291\ttrain_loss = 4.338e+00\n",
      "round #02/05, model #02/04, epoch #04/10:\ttrain_acc = 0.297\ttrain_loss = 4.330e+00\n",
      "round #02/05, model #02/04, epoch #05/10:\ttrain_acc = 0.300\ttrain_loss = 4.326e+00\n",
      "round #02/05, model #02/04, epoch #06/10:\ttrain_acc = 0.305\ttrain_loss = 4.320e+00\n",
      "round #02/05, model #02/04, epoch #07/10:\ttrain_acc = 0.307\ttrain_loss = 4.318e+00\n",
      "round #02/05, model #02/04, epoch #08/10:\ttrain_acc = 0.308\ttrain_loss = 4.316e+00\n",
      "round #02/05, model #02/04, epoch #09/10:\ttrain_acc = 0.312\ttrain_loss = 4.312e+00\n",
      "round #02/05, model #02/04, epoch #10/10:\ttrain_acc = 0.314\ttrain_loss = 4.309e+00\n",
      "round #02/05, model #03/04, epoch #01/10:\ttrain_acc = 0.256\ttrain_loss = 4.388e+00\n",
      "round #02/05, model #03/04, epoch #02/10:\ttrain_acc = 0.378\ttrain_loss = 4.262e+00\n",
      "round #02/05, model #03/04, epoch #03/10:\ttrain_acc = 0.402\ttrain_loss = 4.232e+00\n",
      "round #02/05, model #03/04, epoch #04/10:\ttrain_acc = 0.413\ttrain_loss = 4.218e+00\n",
      "round #02/05, model #03/04, epoch #05/10:\ttrain_acc = 0.419\ttrain_loss = 4.209e+00\n",
      "round #02/05, model #03/04, epoch #06/10:\ttrain_acc = 0.424\ttrain_loss = 4.203e+00\n",
      "round #02/05, model #03/04, epoch #07/10:\ttrain_acc = 0.426\ttrain_loss = 4.201e+00\n",
      "round #02/05, model #03/04, epoch #08/10:\ttrain_acc = 0.427\ttrain_loss = 4.198e+00\n",
      "round #02/05, model #03/04, epoch #09/10:\ttrain_acc = 0.428\ttrain_loss = 4.196e+00\n",
      "round #02/05, model #03/04, epoch #10/10:\ttrain_acc = 0.428\ttrain_loss = 4.196e+00\n",
      "round #02/05, model #04/04, epoch #01/10:\ttrain_acc = 0.175\ttrain_loss = 4.458e+00\n",
      "round #02/05, model #04/04, epoch #02/10:\ttrain_acc = 0.285\ttrain_loss = 4.348e+00\n",
      "round #02/05, model #04/04, epoch #03/10:\ttrain_acc = 0.308\ttrain_loss = 4.322e+00\n",
      "round #02/05, model #04/04, epoch #04/10:\ttrain_acc = 0.319\ttrain_loss = 4.308e+00\n",
      "round #02/05, model #04/04, epoch #05/10:\ttrain_acc = 0.323\ttrain_loss = 4.303e+00\n",
      "round #02/05, model #04/04, epoch #06/10:\ttrain_acc = 0.325\ttrain_loss = 4.300e+00\n",
      "round #02/05, model #04/04, epoch #07/10:\ttrain_acc = 0.326\ttrain_loss = 4.299e+00\n",
      "round #02/05, model #04/04, epoch #08/10:\ttrain_acc = 0.329\ttrain_loss = 4.295e+00\n",
      "round #02/05, model #04/04, epoch #09/10:\ttrain_acc = 0.344\ttrain_loss = 4.281e+00\n",
      "round #02/05, model #04/04, epoch #10/10:\ttrain_acc = 0.348\ttrain_loss = 4.276e+00\n",
      "round #03/05, model #01/04, epoch #01/10:\ttrain_acc = 0.212\ttrain_loss = 4.427e+00\n",
      "round #03/05, model #01/04, epoch #02/10:\ttrain_acc = 0.335\ttrain_loss = 4.301e+00\n",
      "round #03/05, model #01/04, epoch #03/10:\ttrain_acc = 0.361\ttrain_loss = 4.270e+00\n",
      "round #03/05, model #01/04, epoch #04/10:\ttrain_acc = 0.369\ttrain_loss = 4.260e+00\n",
      "round #03/05, model #01/04, epoch #05/10:\ttrain_acc = 0.372\ttrain_loss = 4.255e+00\n",
      "round #03/05, model #01/04, epoch #06/10:\ttrain_acc = 0.372\ttrain_loss = 4.253e+00\n",
      "round #03/05, model #01/04, epoch #07/10:\ttrain_acc = 0.373\ttrain_loss = 4.252e+00\n",
      "round #03/05, model #01/04, epoch #08/10:\ttrain_acc = 0.374\ttrain_loss = 4.250e+00\n",
      "round #03/05, model #01/04, epoch #09/10:\ttrain_acc = 0.375\ttrain_loss = 4.249e+00\n",
      "round #03/05, model #01/04, epoch #10/10:\ttrain_acc = 0.374\ttrain_loss = 4.250e+00\n",
      "round #03/05, model #02/04, epoch #01/10:\ttrain_acc = 0.283\ttrain_loss = 4.365e+00\n",
      "round #03/05, model #02/04, epoch #02/10:\ttrain_acc = 0.429\ttrain_loss = 4.216e+00\n",
      "round #03/05, model #02/04, epoch #03/10:\ttrain_acc = 0.461\ttrain_loss = 4.177e+00\n",
      "round #03/05, model #02/04, epoch #04/10:\ttrain_acc = 0.474\ttrain_loss = 4.159e+00\n",
      "round #03/05, model #02/04, epoch #05/10:\ttrain_acc = 0.480\ttrain_loss = 4.150e+00\n",
      "round #03/05, model #02/04, epoch #06/10:\ttrain_acc = 0.483\ttrain_loss = 4.145e+00\n",
      "round #03/05, model #02/04, epoch #07/10:\ttrain_acc = 0.484\ttrain_loss = 4.143e+00\n",
      "round #03/05, model #02/04, epoch #08/10:\ttrain_acc = 0.485\ttrain_loss = 4.141e+00\n",
      "round #03/05, model #02/04, epoch #09/10:\ttrain_acc = 0.486\ttrain_loss = 4.140e+00\n",
      "round #03/05, model #02/04, epoch #10/10:\ttrain_acc = 0.485\ttrain_loss = 4.139e+00\n",
      "round #03/05, model #03/04, epoch #01/10:\ttrain_acc = 0.333\ttrain_loss = 4.327e+00\n",
      "round #03/05, model #03/04, epoch #02/10:\ttrain_acc = 0.491\ttrain_loss = 4.161e+00\n",
      "round #03/05, model #03/04, epoch #03/10:\ttrain_acc = 0.524\ttrain_loss = 4.120e+00\n",
      "round #03/05, model #03/04, epoch #04/10:\ttrain_acc = 0.538\ttrain_loss = 4.099e+00\n",
      "round #03/05, model #03/04, epoch #05/10:\ttrain_acc = 0.549\ttrain_loss = 4.085e+00\n",
      "round #03/05, model #03/04, epoch #06/10:\ttrain_acc = 0.555\ttrain_loss = 4.077e+00\n",
      "round #03/05, model #03/04, epoch #07/10:\ttrain_acc = 0.557\ttrain_loss = 4.072e+00\n",
      "round #03/05, model #03/04, epoch #08/10:\ttrain_acc = 0.559\ttrain_loss = 4.069e+00\n",
      "round #03/05, model #03/04, epoch #09/10:\ttrain_acc = 0.559\ttrain_loss = 4.067e+00\n",
      "round #03/05, model #03/04, epoch #10/10:\ttrain_acc = 0.560\ttrain_loss = 4.066e+00\n",
      "round #03/05, model #04/04, epoch #01/10:\ttrain_acc = 0.230\ttrain_loss = 4.412e+00\n",
      "round #03/05, model #04/04, epoch #02/10:\ttrain_acc = 0.336\ttrain_loss = 4.300e+00\n",
      "round #03/05, model #04/04, epoch #03/10:\ttrain_acc = 0.357\ttrain_loss = 4.274e+00\n",
      "round #03/05, model #04/04, epoch #04/10:\ttrain_acc = 0.367\ttrain_loss = 4.262e+00\n",
      "round #03/05, model #04/04, epoch #05/10:\ttrain_acc = 0.371\ttrain_loss = 4.256e+00\n",
      "round #03/05, model #04/04, epoch #06/10:\ttrain_acc = 0.372\ttrain_loss = 4.253e+00\n",
      "round #03/05, model #04/04, epoch #07/10:\ttrain_acc = 0.375\ttrain_loss = 4.250e+00\n",
      "round #03/05, model #04/04, epoch #08/10:\ttrain_acc = 0.378\ttrain_loss = 4.247e+00\n",
      "round #03/05, model #04/04, epoch #09/10:\ttrain_acc = 0.379\ttrain_loss = 4.245e+00\n",
      "round #03/05, model #04/04, epoch #10/10:\ttrain_acc = 0.381\ttrain_loss = 4.243e+00\n",
      "round #04/05, model #01/04, epoch #01/10:\ttrain_acc = 0.258\ttrain_loss = 4.386e+00\n",
      "round #04/05, model #01/04, epoch #02/10:\ttrain_acc = 0.366\ttrain_loss = 4.272e+00\n",
      "round #04/05, model #01/04, epoch #03/10:\ttrain_acc = 0.391\ttrain_loss = 4.243e+00\n",
      "round #04/05, model #01/04, epoch #04/10:\ttrain_acc = 0.399\ttrain_loss = 4.230e+00\n",
      "round #04/05, model #01/04, epoch #05/10:\ttrain_acc = 0.404\ttrain_loss = 4.224e+00\n",
      "round #04/05, model #01/04, epoch #06/10:\ttrain_acc = 0.406\ttrain_loss = 4.220e+00\n",
      "round #04/05, model #01/04, epoch #07/10:\ttrain_acc = 0.415\ttrain_loss = 4.211e+00\n",
      "round #04/05, model #01/04, epoch #08/10:\ttrain_acc = 0.418\ttrain_loss = 4.207e+00\n",
      "round #04/05, model #01/04, epoch #09/10:\ttrain_acc = 0.420\ttrain_loss = 4.205e+00\n",
      "round #04/05, model #01/04, epoch #10/10:\ttrain_acc = 0.421\ttrain_loss = 4.204e+00\n",
      "round #04/05, model #02/04, epoch #01/10:\ttrain_acc = 0.238\ttrain_loss = 4.405e+00\n",
      "round #04/05, model #02/04, epoch #02/10:\ttrain_acc = 0.355\ttrain_loss = 4.281e+00\n",
      "round #04/05, model #02/04, epoch #03/10:\ttrain_acc = 0.377\ttrain_loss = 4.256e+00\n",
      "round #04/05, model #02/04, epoch #04/10:\ttrain_acc = 0.387\ttrain_loss = 4.243e+00\n",
      "round #04/05, model #02/04, epoch #05/10:\ttrain_acc = 0.390\ttrain_loss = 4.237e+00\n",
      "round #04/05, model #02/04, epoch #06/10:\ttrain_acc = 0.392\ttrain_loss = 4.234e+00\n",
      "round #04/05, model #02/04, epoch #07/10:\ttrain_acc = 0.392\ttrain_loss = 4.233e+00\n",
      "round #04/05, model #02/04, epoch #08/10:\ttrain_acc = 0.394\ttrain_loss = 4.231e+00\n",
      "round #04/05, model #02/04, epoch #09/10:\ttrain_acc = 0.393\ttrain_loss = 4.231e+00\n",
      "round #04/05, model #02/04, epoch #10/10:\ttrain_acc = 0.395\ttrain_loss = 4.229e+00\n",
      "round #04/05, model #03/04, epoch #01/10:\ttrain_acc = 0.283\ttrain_loss = 4.366e+00\n",
      "round #04/05, model #03/04, epoch #02/10:\ttrain_acc = 0.399\ttrain_loss = 4.241e+00\n",
      "round #04/05, model #03/04, epoch #03/10:\ttrain_acc = 0.423\ttrain_loss = 4.212e+00\n",
      "round #04/05, model #03/04, epoch #04/10:\ttrain_acc = 0.434\ttrain_loss = 4.197e+00\n",
      "round #04/05, model #03/04, epoch #05/10:\ttrain_acc = 0.440\ttrain_loss = 4.188e+00\n",
      "round #04/05, model #03/04, epoch #06/10:\ttrain_acc = 0.443\ttrain_loss = 4.184e+00\n",
      "round #04/05, model #03/04, epoch #07/10:\ttrain_acc = 0.444\ttrain_loss = 4.181e+00\n",
      "round #04/05, model #03/04, epoch #08/10:\ttrain_acc = 0.444\ttrain_loss = 4.181e+00\n",
      "round #04/05, model #03/04, epoch #09/10:\ttrain_acc = 0.446\ttrain_loss = 4.179e+00\n",
      "round #04/05, model #03/04, epoch #10/10:\ttrain_acc = 0.446\ttrain_loss = 4.178e+00\n",
      "round #04/05, model #04/04, epoch #01/10:\ttrain_acc = 0.293\ttrain_loss = 4.358e+00\n",
      "round #04/05, model #04/04, epoch #02/10:\ttrain_acc = 0.441\ttrain_loss = 4.206e+00\n",
      "round #04/05, model #04/04, epoch #03/10:\ttrain_acc = 0.473\ttrain_loss = 4.166e+00\n",
      "round #04/05, model #04/04, epoch #04/10:\ttrain_acc = 0.491\ttrain_loss = 4.144e+00\n",
      "round #04/05, model #04/04, epoch #05/10:\ttrain_acc = 0.499\ttrain_loss = 4.132e+00\n",
      "round #04/05, model #04/04, epoch #06/10:\ttrain_acc = 0.502\ttrain_loss = 4.127e+00\n",
      "round #04/05, model #04/04, epoch #07/10:\ttrain_acc = 0.504\ttrain_loss = 4.123e+00\n",
      "round #04/05, model #04/04, epoch #08/10:\ttrain_acc = 0.505\ttrain_loss = 4.121e+00\n",
      "round #04/05, model #04/04, epoch #09/10:\ttrain_acc = 0.506\ttrain_loss = 4.119e+00\n",
      "round #04/05, model #04/04, epoch #10/10:\ttrain_acc = 0.506\ttrain_loss = 4.119e+00\n",
      "round #05/05, model #01/04, epoch #01/10:\ttrain_acc = 0.211\ttrain_loss = 4.428e+00\n",
      "round #05/05, model #01/04, epoch #02/10:\ttrain_acc = 0.334\ttrain_loss = 4.303e+00\n",
      "round #05/05, model #01/04, epoch #03/10:\ttrain_acc = 0.361\ttrain_loss = 4.271e+00\n",
      "round #05/05, model #01/04, epoch #04/10:\ttrain_acc = 0.371\ttrain_loss = 4.258e+00\n",
      "round #05/05, model #01/04, epoch #05/10:\ttrain_acc = 0.375\ttrain_loss = 4.252e+00\n",
      "round #05/05, model #01/04, epoch #06/10:\ttrain_acc = 0.377\ttrain_loss = 4.250e+00\n",
      "round #05/05, model #01/04, epoch #07/10:\ttrain_acc = 0.377\ttrain_loss = 4.248e+00\n",
      "round #05/05, model #01/04, epoch #08/10:\ttrain_acc = 0.377\ttrain_loss = 4.247e+00\n",
      "round #05/05, model #01/04, epoch #09/10:\ttrain_acc = 0.378\ttrain_loss = 4.246e+00\n",
      "round #05/05, model #01/04, epoch #10/10:\ttrain_acc = 0.379\ttrain_loss = 4.245e+00\n",
      "round #05/05, model #02/04, epoch #01/10:\ttrain_acc = 0.284\ttrain_loss = 4.366e+00\n",
      "round #05/05, model #02/04, epoch #02/10:\ttrain_acc = 0.409\ttrain_loss = 4.233e+00\n",
      "round #05/05, model #02/04, epoch #03/10:\ttrain_acc = 0.433\ttrain_loss = 4.202e+00\n",
      "round #05/05, model #02/04, epoch #04/10:\ttrain_acc = 0.443\ttrain_loss = 4.188e+00\n",
      "round #05/05, model #02/04, epoch #05/10:\ttrain_acc = 0.448\ttrain_loss = 4.181e+00\n",
      "round #05/05, model #02/04, epoch #06/10:\ttrain_acc = 0.450\ttrain_loss = 4.178e+00\n",
      "round #05/05, model #02/04, epoch #07/10:\ttrain_acc = 0.450\ttrain_loss = 4.176e+00\n",
      "round #05/05, model #02/04, epoch #08/10:\ttrain_acc = 0.452\ttrain_loss = 4.173e+00\n",
      "round #05/05, model #02/04, epoch #09/10:\ttrain_acc = 0.453\ttrain_loss = 4.172e+00\n",
      "round #05/05, model #02/04, epoch #10/10:\ttrain_acc = 0.453\ttrain_loss = 4.171e+00\n",
      "round #05/05, model #03/04, epoch #01/10:\ttrain_acc = 0.181\ttrain_loss = 4.452e+00\n",
      "round #05/05, model #03/04, epoch #02/10:\ttrain_acc = 0.286\ttrain_loss = 4.345e+00\n",
      "round #05/05, model #03/04, epoch #03/10:\ttrain_acc = 0.308\ttrain_loss = 4.320e+00\n",
      "round #05/05, model #03/04, epoch #04/10:\ttrain_acc = 0.314\ttrain_loss = 4.312e+00\n",
      "round #05/05, model #03/04, epoch #05/10:\ttrain_acc = 0.317\ttrain_loss = 4.308e+00\n",
      "round #05/05, model #03/04, epoch #06/10:\ttrain_acc = 0.317\ttrain_loss = 4.307e+00\n",
      "round #05/05, model #03/04, epoch #07/10:\ttrain_acc = 0.318\ttrain_loss = 4.306e+00\n",
      "round #05/05, model #03/04, epoch #08/10:\ttrain_acc = 0.319\ttrain_loss = 4.305e+00\n",
      "round #05/05, model #03/04, epoch #09/10:\ttrain_acc = 0.328\ttrain_loss = 4.296e+00\n",
      "round #05/05, model #03/04, epoch #10/10:\ttrain_acc = 0.334\ttrain_loss = 4.290e+00\n",
      "round #05/05, model #04/04, epoch #01/10:\ttrain_acc = 0.155\ttrain_loss = 4.475e+00\n",
      "round #05/05, model #04/04, epoch #02/10:\ttrain_acc = 0.233\ttrain_loss = 4.397e+00\n",
      "round #05/05, model #04/04, epoch #03/10:\ttrain_acc = 0.257\ttrain_loss = 4.371e+00\n",
      "round #05/05, model #04/04, epoch #04/10:\ttrain_acc = 0.272\ttrain_loss = 4.355e+00\n",
      "round #05/05, model #04/04, epoch #05/10:\ttrain_acc = 0.277\ttrain_loss = 4.348e+00\n",
      "round #05/05, model #04/04, epoch #06/10:\ttrain_acc = 0.279\ttrain_loss = 4.346e+00\n",
      "round #05/05, model #04/04, epoch #07/10:\ttrain_acc = 0.279\ttrain_loss = 4.345e+00\n",
      "round #05/05, model #04/04, epoch #08/10:\ttrain_acc = 0.280\ttrain_loss = 4.344e+00\n",
      "round #05/05, model #04/04, epoch #09/10:\ttrain_acc = 0.280\ttrain_loss = 4.343e+00\n",
      "round #05/05, model #04/04, epoch #10/10:\ttrain_acc = 0.281\ttrain_loss = 4.342e+00\n"
     ]
    },
    {
     "name": "stderr",
     "output_type": "stream",
     "text": [
      "/home/victor/ml_privacy_meter/venv/lib/python3.8/site-packages/numpy/lib/npyio.py:713: VisibleDeprecationWarning: Creating an ndarray from ragged nested sequences (which is a list-or-tuple of lists-or-tuples-or ndarrays with different lengths or shapes) is deprecated. If you meant to do this, you must specify 'dtype=object' when creating the ndarray.\n",
      "  val = np.asanyarray(val)\n"
     ]
    },
    {
     "name": "stdout",
     "output_type": "stream",
     "text": [
      "Results are stored in: ['/home/victor/ml_privacy_meter/docs/log_2022-05-09_11-32-34-000', '/home/victor/ml_privacy_meter/docs/log_2022-05-09_11-32-34-001', '/home/victor/ml_privacy_meter/docs/log_2022-05-09_11-32-34-002', '/home/victor/ml_privacy_meter/docs/log_2022-05-09_11-32-34-003', '/home/victor/ml_privacy_meter/docs/log_2022-05-09_11-32-34-004']\n"
     ]
    }
   ],
   "source": [
    "results = get_audit_results(N_TRAININGS, N_SHADOW_MODELS, BATCH_SIZE, EPOCHS)"
   ],
   "metadata": {
    "collapsed": false,
    "pycharm": {
     "name": "#%%\n"
    }
   }
  },
  {
   "cell_type": "markdown",
   "source": [
    "## Results visualization"
   ],
   "metadata": {
    "collapsed": false,
    "pycharm": {
     "name": "#%% md\n"
    }
   }
  },
  {
   "cell_type": "markdown",
   "source": [
    "The `get_audit_results` function returns a list of results, one per round. We can start by displaying them individually:"
   ],
   "metadata": {
    "collapsed": false,
    "pycharm": {
     "name": "#%% md\n"
    }
   }
  },
  {
   "cell_type": "code",
   "execution_count": 17,
   "outputs": [
    {
     "name": "stdout",
     "output_type": "stream",
     "text": [
      "============= METRIC RESULT OBJECT =============\n",
      "Accuracy          = 0.46028946728289954\n",
      "ROC AUC Score     = 0.5207702026838776\n",
      "FPR               = 0.3457390740290278\n",
      "TN, FP, FN, TP    = (8069, 4264, 22361, 14638)\n",
      "============= METRIC RESULT OBJECT =============\n",
      "Accuracy          = 0.4457958323197924\n",
      "ROC AUC Score     = 0.515513035390143\n",
      "FPR               = 0.3515770696505311\n",
      "TN, FP, FN, TP    = (7997, 4336, 23004, 13995)\n",
      "============= METRIC RESULT OBJECT =============\n",
      "Accuracy          = 0.44322143841725453\n",
      "ROC AUC Score     = 0.5125517120629226\n",
      "FPR               = 0.3432254925808806\n",
      "TN, FP, FN, TP    = (8100, 4233, 23234, 13765)\n",
      "============= METRIC RESULT OBJECT =============\n",
      "Accuracy          = 0.4698167518041028\n",
      "ROC AUC Score     = 0.5207973542610796\n",
      "FPR               = 0.38328062920619477\n",
      "TN, FP, FN, TP    = (7606, 4727, 21428, 15571)\n",
      "============= METRIC RESULT OBJECT =============\n",
      "Accuracy          = 0.4496067461282737\n",
      "ROC AUC Score     = 0.5230225366286984\n",
      "FPR               = 0.3420092434930674\n",
      "TN, FP, FN, TP    = (8115, 4218, 22934, 14065)\n"
     ]
    }
   ],
   "source": [
    "for result in results:\n",
    "    print(result)"
   ],
   "metadata": {
    "collapsed": false,
    "pycharm": {
     "name": "#%%\n"
    }
   }
  },
  {
   "cell_type": "markdown",
   "source": [
    "We can also use built-in visualizations from the `privacy_meter` tool, to get easily interpretable aggregates:"
   ],
   "metadata": {
    "collapsed": false,
    "pycharm": {
     "name": "#%% md\n"
    }
   }
  },
  {
   "cell_type": "code",
   "execution_count": 18,
   "outputs": [],
   "source": [
    "# This instruction won't be needed once the tool is on pip\n",
    "from privacy_meter import audit_report\n",
    "audit_report.REPORT_FILES_DIR = '../privacy_meter/report_files'"
   ],
   "metadata": {
    "collapsed": false,
    "pycharm": {
     "name": "#%%\n"
    }
   }
  },
  {
   "cell_type": "code",
   "execution_count": 19,
   "outputs": [
    {
     "data": {
      "text/plain": "<Figure size 432x288 with 1 Axes>",
      "image/png": "[encoded data removed]"
     },
     "metadata": {
      "needs_background": "light"
     },
     "output_type": "display_data"
    },
    {
     "data": {
      "text/plain": "<Figure size 432x288 with 0 Axes>"
     },
     "metadata": {},
     "output_type": "display_data"
    }
   ],
   "source": [
    "ROCCurveReport.generate_report(\n",
    "    metric_result=results,\n",
    "    inference_game_type=InferenceGame.AVG_PRIVACY_LOSS_TRAINING_ALGO,\n",
    "    save=False,\n",
    "    show=True\n",
    ")"
   ],
   "metadata": {
    "collapsed": false,
    "pycharm": {
     "name": "#%%\n"
    }
   }
  },
  {
   "cell_type": "code",
   "execution_count": 20,
   "outputs": [
    {
     "data": {
      "text/plain": "<Figure size 432x288 with 1 Axes>",
      "image/png": "[encoded data removed]"
     },
     "metadata": {
      "needs_background": "light"
     },
     "output_type": "display_data"
    },
    {
     "data": {
      "text/plain": "<Figure size 432x288 with 0 Axes>"
     },
     "metadata": {},
     "output_type": "display_data"
    }
   ],
   "source": [
    "SignalHistogramReport.generate_report(\n",
    "    metric_result=results,\n",
    "    inference_game_type=InferenceGame.AVG_PRIVACY_LOSS_TRAINING_ALGO,\n",
    "    save=False,\n",
    "    show=True\n",
    ")"
   ],
   "metadata": {
    "collapsed": false,
    "pycharm": {
     "name": "#%%\n"
    }
   }
  }
 ],
 "metadata": {
  "kernelspec": {
   "display_name": "Python 3",
   "language": "python",
   "name": "python3"
  },
  "language_info": {
   "codemirror_mode": {
    "name": "ipython",
    "version": 2
   },
   "file_extension": ".py",
   "mimetype": "text/x-python",
   "name": "python",
   "nbconvert_exporter": "python",
   "pygments_lexer": "ipython2",
   "version": "2.7.6"
  }
 },
 "nbformat": 4,
 "nbformat_minor": 0
}
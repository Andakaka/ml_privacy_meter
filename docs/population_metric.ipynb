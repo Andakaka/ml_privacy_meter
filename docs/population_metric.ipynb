{
 "cells": [
  {
   "cell_type": "markdown",
   "metadata": {},
   "source": [
    "# Auditing a CNN trained on CIFAR10 using the Population Attack"
   ]
  },
  {
   "cell_type": "markdown",
   "metadata": {},
   "source": [
    "## Introduction\n",
    "\n",
    "In this tutorial, we will see:\n",
    "\n",
    "- How to specify the dataset and model for Privacy Meter\n",
    "- How to audit a Tensorflow model\n",
    "- How to use the `PopulationMetric` to evaluate membership leakage using loss values from the target model"
   ]
  },
  {
   "cell_type": "markdown",
   "metadata": {},
   "source": [
    "## Imports"
   ]
  },
  {
   "cell_type": "code",
   "execution_count": 1,
   "metadata": {
    "pycharm": {
     "name": "#%%\n"
    }
   },
   "outputs": [
    {
     "name": "stderr",
     "output_type": "stream",
     "text": [
      "2022-05-06 14:45:09.890197: W tensorflow/stream_executor/platform/default/dso_loader.cc:64] Could not load dynamic library 'libcudart.so.11.0'; dlerror: libcudart.so.11.0: cannot open shared object file: No such file or directory\n",
      "2022-05-06 14:45:09.890257: I tensorflow/stream_executor/cuda/cudart_stub.cc:29] Ignore above cudart dlerror if you do not have a GPU set up on your machine.\n"
     ]
    }
   ],
   "source": [
    "import numpy as np\n",
    "import tensorflow as tf"
   ]
  },
  {
   "cell_type": "markdown",
   "metadata": {},
   "source": [
    "For now we install the Privacy Meter library from the local source. A version will be pushed to pip soon."
   ]
  },
  {
   "cell_type": "code",
   "execution_count": 2,
   "metadata": {
    "pycharm": {
     "name": "#%%\n"
    }
   },
   "outputs": [
    {
     "name": "stdout",
     "output_type": "stream",
     "text": [
      "Obtaining file:///home/victor/ml_privacy_meter\r\n",
      "  Preparing metadata (setup.py) ... \u001b[?25ldone\r\n",
      "\u001b[?25hInstalling collected packages: privacy-meter\r\n",
      "  Attempting uninstall: privacy-meter\r\n",
      "    Found existing installation: privacy-meter 1.0\r\n",
      "    Uninstalling privacy-meter-1.0:\r\n",
      "      Successfully uninstalled privacy-meter-1.0\r\n",
      "  Running setup.py develop for privacy-meter\r\n",
      "Successfully installed privacy-meter-1.0\r\n"
     ]
    }
   ],
   "source": [
    "import sys\n",
    "!{sys.executable} -m pip install -e ../.\n",
    "from privacy_meter.audit import Audit, MetricEnum\n",
    "from privacy_meter.audit_report import ROCCurveReport, SignalHistogramReport\n",
    "from privacy_meter.constants import InferenceGame\n",
    "from privacy_meter.dataset import Dataset\n",
    "from privacy_meter.information_source import InformationSource\n",
    "from privacy_meter.model import TensorflowModel"
   ]
  },
  {
   "cell_type": "markdown",
   "metadata": {},
   "source": [
    "## Settings"
   ]
  },
  {
   "cell_type": "markdown",
   "metadata": {},
   "source": [
    "Hyperparameters:"
   ]
  },
  {
   "cell_type": "code",
   "execution_count": 3,
   "metadata": {},
   "outputs": [],
   "source": [
    "# for training the target model\n",
    "num_train_points = 5000\n",
    "num_test_points = 5000\n",
    "loss_fn = tf.keras.losses.CategoricalCrossentropy()\n",
    "optim_fn = 'adam'\n",
    "epochs = 25\n",
    "batch_size = 64\n",
    "regularizer_penalty = 0.01\n",
    "regularizer = tf.keras.regularizers.l2(l=regularizer_penalty)"
   ]
  },
  {
   "cell_type": "code",
   "execution_count": 4,
   "metadata": {},
   "outputs": [],
   "source": [
    "# for the population metric\n",
    "num_population_points = 10000\n",
    "fpr_tolerance_list = [\n",
    "    0.0, 0.1, 0.2, 0.3, 0.4, 0.5, 0.6, 0.7, 0.8, 0.9, 1.0\n",
    "]"
   ]
  },
  {
   "cell_type": "markdown",
   "metadata": {},
   "source": [
    "## Dataset creation"
   ]
  },
  {
   "cell_type": "markdown",
   "metadata": {},
   "source": [
    "We use the CIFAR10 dataset for this tutorial. As Tensorflow already has the data loading code for CIFAR10, we just need to add our pre-processing code on top of it."
   ]
  },
  {
   "cell_type": "code",
   "execution_count": 5,
   "metadata": {
    "pycharm": {
     "name": "#%%\n"
    }
   },
   "outputs": [],
   "source": [
    "def preprocess_cifar10_dataset():\n",
    "    input_shape, num_classes = (32, 32, 3), 10\n",
    "\n",
    "    # split the data between train and test sets\n",
    "    (x_train, y_train), (x_test, y_test) = tf.keras.datasets.cifar10.load_data()\n",
    "\n",
    "    # scale images to the [0, 1] range\n",
    "    x_train = x_train.astype(\"float32\") / 255\n",
    "    x_test = x_test.astype(\"float32\") / 255\n",
    "\n",
    "    # convert labels into one hot vectors\n",
    "    y_train = tf.keras.utils.to_categorical(y_train, num_classes)\n",
    "    y_test = tf.keras.utils.to_categorical(y_test, num_classes)\n",
    "\n",
    "    return x_train, y_train, x_test, y_test, input_shape, num_classes\n",
    "\n",
    "x_train_all, y_train_all, x_test_all, y_test_all, input_shape, num_classes = preprocess_cifar10_dataset()"
   ]
  },
  {
   "cell_type": "markdown",
   "metadata": {},
   "source": [
    "CIFAR10 comes with the predetermined train and test partitions. We further split the train partition into two more sets - 'train' and 'population' for the audit. \n",
    "\n",
    "We will have the following sets at the end of this partitioning:\n",
    "\n",
    "- The 'train' set will be used to train the target model. It will be used as the 'member' set for the audit.\n",
    "- The 'test' set will be used as the 'non-member' set for the audit.\n",
    "- The 'population' set will be used as the reference data by the `PopulationMetric`."
   ]
  },
  {
   "cell_type": "code",
   "execution_count": 6,
   "metadata": {
    "pycharm": {
     "name": "#%%\n"
    }
   },
   "outputs": [],
   "source": [
    "x_train, y_train = x_train_all[:num_train_points], y_train_all[:num_train_points]\n",
    "x_test, y_test = x_test_all[:num_test_points], y_test_all[:num_test_points]\n",
    "x_population = x_train_all[num_train_points:(num_train_points + num_population_points)]\n",
    "y_population = y_train_all[num_train_points:(num_train_points + num_population_points)]"
   ]
  },
  {
   "cell_type": "markdown",
   "metadata": {},
   "source": [
    "We wrap the sets into a `Dataset` object, which takes in the following arguments:\n",
    "\n",
    "- `data_dict` contains the actual dataset, in the form of a 2D dictionary. The first key corresponds to the split name (here we have two: \"train\" and \"test\"), and the second key to the feature name (here we also have two: \"x\" and \"y\").\n",
    "- `default_input` contains the name of the feature that should be used as the models input (here \"x\").\n",
    "- `default_output` contains the name of the feature that should be used as the label / models output (here \"y\")."
   ]
  },
  {
   "cell_type": "code",
   "execution_count": 7,
   "metadata": {
    "pycharm": {
     "name": "#%%\n"
    }
   },
   "outputs": [],
   "source": [
    "# create the target model's dataset\n",
    "train_ds = {'x': x_train, 'y': y_train}\n",
    "test_ds = {'x': x_test, 'y': y_test}\n",
    "target_dataset = Dataset(\n",
    "    data_dict={'train': train_ds, 'test': test_ds},\n",
    "    default_input='x', default_output='y'\n",
    ")\n",
    "\n",
    "# create the reference dataset\n",
    "population_ds = {'x': x_population, 'y': y_population}\n",
    "reference_dataset = Dataset(\n",
    "    # this is the default mapping that a Metric will look for\n",
    "    # in a reference dataset\n",
    "    data_dict={'train': population_ds},\n",
    "    default_input='x', default_output='y'\n",
    ")"
   ]
  },
  {
   "cell_type": "markdown",
   "metadata": {},
   "source": [
    "## Training the target model"
   ]
  },
  {
   "cell_type": "markdown",
   "metadata": {},
   "source": [
    "We define the Tensorflow model to be used as the target model:"
   ]
  },
  {
   "cell_type": "code",
   "execution_count": 8,
   "metadata": {
    "pycharm": {
     "name": "#%%\n"
    }
   },
   "outputs": [],
   "source": [
    "def get_tensorflow_cnn_classifier(input_shape, num_classes, regularizer):\n",
    "    model = tf.keras.Sequential()\n",
    "    model.add(tf.keras.layers.Conv2D(32, kernel_size=(3, 3), activation='relu',\n",
    "                                     input_shape=input_shape, kernel_regularizer=regularizer))\n",
    "    model.add(tf.keras.layers.MaxPool2D(pool_size=(2, 2)))\n",
    "    model.add(tf.keras.layers.Conv2D(64, kernel_size=(3, 3), activation='relu',\n",
    "                                     kernel_regularizer=regularizer))\n",
    "    model.add(tf.keras.layers.MaxPool2D(pool_size=(2, 2)))\n",
    "    model.add(tf.keras.layers.Flatten())\n",
    "    model.add(tf.keras.layers.Dropout(0.5))\n",
    "    model.add(tf.keras.layers.Dense(num_classes, activation='softmax'))\n",
    "    return model"
   ]
  },
  {
   "cell_type": "markdown",
   "metadata": {},
   "source": [
    "And we compile and train the target model using the target dataset we defined above:"
   ]
  },
  {
   "cell_type": "code",
   "execution_count": 9,
   "metadata": {},
   "outputs": [
    {
     "name": "stdout",
     "output_type": "stream",
     "text": [
      "Model: \"sequential\"\n",
      "_________________________________________________________________\n",
      " Layer (type)                Output Shape              Param #   \n",
      "=================================================================\n",
      " conv2d (Conv2D)             (None, 30, 30, 32)        896       \n",
      "                                                                 \n",
      " max_pooling2d (MaxPooling2D  (None, 15, 15, 32)       0         \n",
      " )                                                               \n",
      "                                                                 \n",
      " conv2d_1 (Conv2D)           (None, 13, 13, 64)        18496     \n",
      "                                                                 \n",
      " max_pooling2d_1 (MaxPooling  (None, 6, 6, 64)         0         \n",
      " 2D)                                                             \n",
      "                                                                 \n",
      " flatten (Flatten)           (None, 2304)              0         \n",
      "                                                                 \n",
      " dropout (Dropout)           (None, 2304)              0         \n",
      "                                                                 \n",
      " dense (Dense)               (None, 10)                23050     \n",
      "                                                                 \n",
      "=================================================================\n",
      "Total params: 42,442\n",
      "Trainable params: 42,442\n",
      "Non-trainable params: 0\n",
      "_________________________________________________________________\n"
     ]
    },
    {
     "name": "stderr",
     "output_type": "stream",
     "text": [
      "2022-05-06 14:45:22.872201: W tensorflow/stream_executor/platform/default/dso_loader.cc:64] Could not load dynamic library 'libcuda.so.1'; dlerror: libcuda.so.1: cannot open shared object file: No such file or directory\n",
      "2022-05-06 14:45:22.872269: W tensorflow/stream_executor/cuda/cuda_driver.cc:269] failed call to cuInit: UNKNOWN ERROR (303)\n",
      "2022-05-06 14:45:22.872295: I tensorflow/stream_executor/cuda/cuda_diagnostics.cc:156] kernel driver does not appear to be running on this host (hermes): /proc/driver/nvidia/version does not exist\n",
      "2022-05-06 14:45:22.872686: I tensorflow/core/platform/cpu_feature_guard.cc:151] This TensorFlow binary is optimized with oneAPI Deep Neural Network Library (oneDNN) to use the following CPU instructions in performance-critical operations:  AVX2 FMA\n",
      "To enable them in other operations, rebuild TensorFlow with the appropriate compiler flags.\n"
     ]
    },
    {
     "name": "stdout",
     "output_type": "stream",
     "text": [
      "Epoch 1/25\n",
      "79/79 - 4s - loss: 2.4104 - accuracy: 0.2010 - 4s/epoch - 50ms/step\n",
      "Epoch 2/25\n",
      "79/79 - 3s - loss: 2.0274 - accuracy: 0.3096 - 3s/epoch - 39ms/step\n",
      "Epoch 3/25\n",
      "79/79 - 3s - loss: 1.8593 - accuracy: 0.3824 - 3s/epoch - 36ms/step\n",
      "Epoch 4/25\n",
      "79/79 - 3s - loss: 1.7891 - accuracy: 0.4138 - 3s/epoch - 39ms/step\n",
      "Epoch 5/25\n",
      "79/79 - 3s - loss: 1.7153 - accuracy: 0.4374 - 3s/epoch - 38ms/step\n",
      "Epoch 6/25\n",
      "79/79 - 4s - loss: 1.6799 - accuracy: 0.4424 - 4s/epoch - 55ms/step\n",
      "Epoch 7/25\n",
      "79/79 - 7s - loss: 1.6292 - accuracy: 0.4664 - 7s/epoch - 85ms/step\n",
      "Epoch 8/25\n",
      "79/79 - 3s - loss: 1.5982 - accuracy: 0.4808 - 3s/epoch - 43ms/step\n",
      "Epoch 9/25\n",
      "79/79 - 4s - loss: 1.5751 - accuracy: 0.4780 - 4s/epoch - 49ms/step\n",
      "Epoch 10/25\n",
      "79/79 - 4s - loss: 1.5511 - accuracy: 0.4962 - 4s/epoch - 46ms/step\n",
      "Epoch 11/25\n",
      "79/79 - 4s - loss: 1.5343 - accuracy: 0.5102 - 4s/epoch - 46ms/step\n",
      "Epoch 12/25\n",
      "79/79 - 4s - loss: 1.5216 - accuracy: 0.5012 - 4s/epoch - 45ms/step\n",
      "Epoch 13/25\n",
      "79/79 - 3s - loss: 1.5093 - accuracy: 0.5154 - 3s/epoch - 43ms/step\n",
      "Epoch 14/25\n",
      "79/79 - 3s - loss: 1.4951 - accuracy: 0.5164 - 3s/epoch - 42ms/step\n",
      "Epoch 15/25\n",
      "79/79 - 3s - loss: 1.4782 - accuracy: 0.5190 - 3s/epoch - 43ms/step\n",
      "Epoch 16/25\n",
      "79/79 - 4s - loss: 1.4656 - accuracy: 0.5296 - 4s/epoch - 56ms/step\n",
      "Epoch 17/25\n",
      "79/79 - 3s - loss: 1.4544 - accuracy: 0.5374 - 3s/epoch - 44ms/step\n",
      "Epoch 18/25\n",
      "79/79 - 3s - loss: 1.4526 - accuracy: 0.5402 - 3s/epoch - 42ms/step\n",
      "Epoch 19/25\n",
      "79/79 - 3s - loss: 1.4435 - accuracy: 0.5338 - 3s/epoch - 42ms/step\n",
      "Epoch 20/25\n",
      "79/79 - 4s - loss: 1.4338 - accuracy: 0.5342 - 4s/epoch - 53ms/step\n",
      "Epoch 21/25\n",
      "79/79 - 5s - loss: 1.4037 - accuracy: 0.5582 - 5s/epoch - 66ms/step\n",
      "Epoch 22/25\n",
      "79/79 - 4s - loss: 1.4096 - accuracy: 0.5464 - 4s/epoch - 51ms/step\n",
      "Epoch 23/25\n",
      "79/79 - 4s - loss: 1.3999 - accuracy: 0.5564 - 4s/epoch - 49ms/step\n",
      "Epoch 24/25\n",
      "79/79 - 5s - loss: 1.3774 - accuracy: 0.5520 - 5s/epoch - 63ms/step\n",
      "Epoch 25/25\n",
      "79/79 - 4s - loss: 1.3783 - accuracy: 0.5594 - 4s/epoch - 45ms/step\n"
     ]
    },
    {
     "data": {
      "text/plain": [
       "<keras.callbacks.History at 0x7f8c81e02fa0>"
      ]
     },
     "execution_count": 9,
     "metadata": {},
     "output_type": "execute_result"
    }
   ],
   "source": [
    "x = target_dataset.get_feature('train', '<default_input>')\n",
    "y = target_dataset.get_feature('train', '<default_output>')\n",
    "model = get_tensorflow_cnn_classifier(input_shape, num_classes, regularizer)\n",
    "model.summary()\n",
    "model.compile(optimizer=optim_fn, loss=loss_fn, metrics=['accuracy'])\n",
    "model.fit(x, y, batch_size=batch_size, epochs=epochs, verbose=2)"
   ]
  },
  {
   "cell_type": "markdown",
   "metadata": {},
   "source": [
    "We wrap the trained target model in a `TensorflowModel` object. Note that we need to pass a loss function to this object."
   ]
  },
  {
   "cell_type": "code",
   "execution_count": 10,
   "metadata": {},
   "outputs": [],
   "source": [
    "target_model = TensorflowModel(model_obj=model, loss_fn=loss_fn)"
   ]
  },
  {
   "cell_type": "markdown",
   "metadata": {},
   "source": [
    "## Information sources\n",
    "\n",
    "We can now define two `InformationSource` objects. Basically, an information source is an abstraction representing a set of models, and their corresponding datasets. Note that for the `PopulationMetric` we use the same model in both the target and reference information sources, but the datasets that will be queried will differ."
   ]
  },
  {
   "cell_type": "code",
   "execution_count": 11,
   "metadata": {},
   "outputs": [],
   "source": [
    "target_info_source = InformationSource(\n",
    "    models=[target_model], \n",
    "    datasets=[target_dataset]\n",
    ")\n",
    "\n",
    "reference_info_source = InformationSource(\n",
    "    models=[target_model],\n",
    "    datasets=[reference_dataset]\n",
    ")"
   ]
  },
  {
   "cell_type": "markdown",
   "metadata": {},
   "source": [
    "## Metric and Audit\n",
    "\n",
    "We now create a `Metric` object, which is an abstraction representing an algorithm used to measure something on an `InformationSource`, such as membership information leakage. In this case, we use the `PopulationMetric` to measure the membership information leakage of `target_info_source` in a black-box setting, using loss values returned by the target model on the `reference_info_source`.\n",
    "\n",
    "The `Audit` object is a wrapper to actually run the audit, and display the results. More visualization options will be added soon.\n",
    "\n",
    "As we will be using the default version of the `PopulationMetric`, we pass the `POPULATION` enum value as the metric argument for the `Audit` object."
   ]
  },
  {
   "cell_type": "code",
   "execution_count": 12,
   "metadata": {},
   "outputs": [],
   "source": [
    "audit_obj = Audit(\n",
    "    metrics=MetricEnum.POPULATION,\n",
    "    inference_game_type=InferenceGame.PRIVACY_LOSS_MODEL,\n",
    "    target_info_sources=target_info_source,\n",
    "    reference_info_sources=reference_info_source,\n",
    "    fpr_tolerances=fpr_tolerance_list\n",
    ")"
   ]
  },
  {
   "cell_type": "code",
   "execution_count": 13,
   "metadata": {
    "pycharm": {
     "name": "#%%\n"
    }
   },
   "outputs": [
    {
     "name": "stderr",
     "output_type": "stream",
     "text": [
      "2022-05-06 14:46:58.950117: W tensorflow/core/framework/cpu_allocator_impl.cc:82] Allocation of 576000000 exceeds 10% of free system memory.\n",
      "2022-05-06 14:46:59.415357: W tensorflow/core/framework/cpu_allocator_impl.cc:82] Allocation of 576000000 exceeds 10% of free system memory.\n",
      "2022-05-06 14:46:59.621997: W tensorflow/core/framework/cpu_allocator_impl.cc:82] Allocation of 576000000 exceeds 10% of free system memory.\n",
      "2022-05-06 14:47:00.587044: W tensorflow/core/framework/cpu_allocator_impl.cc:82] Allocation of 576000000 exceeds 10% of free system memory.\n",
      "2022-05-06 14:47:01.033520: W tensorflow/core/framework/cpu_allocator_impl.cc:82] Allocation of 576000000 exceeds 10% of free system memory.\n"
     ]
    },
    {
     "name": "stdout",
     "output_type": "stream",
     "text": [
      "Results are stored in: ['/home/victor/ml_privacy_meter/docs/log_2022-05-06_14-46-58-000']\n"
     ]
    }
   ],
   "source": [
    "audit_obj.prepare()\n",
    "audit_results = audit_obj.run()[0]"
   ]
  },
  {
   "cell_type": "code",
   "execution_count": 14,
   "metadata": {
    "pycharm": {
     "name": "#%%\n"
    }
   },
   "outputs": [
    {
     "name": "stdout",
     "output_type": "stream",
     "text": [
      "============= METRIC RESULT OBJECT =============\n",
      "Accuracy          = 0.5001\n",
      "ROC AUC Score     = 0.5001\n",
      "FPR               = 0.0\n",
      "TN, FP, FN, TP    = (5000, 0, 4999, 1)\n",
      "============= METRIC RESULT OBJECT =============\n",
      "Accuracy          = 0.5044\n",
      "ROC AUC Score     = 0.5044\n",
      "FPR               = 0.1142\n",
      "TN, FP, FN, TP    = (4429, 571, 4385, 615)\n",
      "============= METRIC RESULT OBJECT =============\n",
      "Accuracy          = 0.515\n",
      "ROC AUC Score     = 0.515\n",
      "FPR               = 0.2174\n",
      "TN, FP, FN, TP    = (3913, 1087, 3763, 1237)\n",
      "============= METRIC RESULT OBJECT =============\n",
      "Accuracy          = 0.5199\n",
      "ROC AUC Score     = 0.5199\n",
      "FPR               = 0.3144\n",
      "TN, FP, FN, TP    = (3428, 1572, 3229, 1771)\n",
      "============= METRIC RESULT OBJECT =============\n",
      "Accuracy          = 0.5238\n",
      "ROC AUC Score     = 0.5237999999999999\n",
      "FPR               = 0.415\n",
      "TN, FP, FN, TP    = (2925, 2075, 2687, 2313)\n",
      "============= METRIC RESULT OBJECT =============\n",
      "Accuracy          = 0.5295\n",
      "ROC AUC Score     = 0.5295000000000001\n",
      "FPR               = 0.5212\n",
      "TN, FP, FN, TP    = (2394, 2606, 2099, 2901)\n",
      "============= METRIC RESULT OBJECT =============\n",
      "Accuracy          = 0.5352\n",
      "ROC AUC Score     = 0.5352\n",
      "FPR               = 0.609\n",
      "TN, FP, FN, TP    = (1955, 3045, 1603, 3397)\n",
      "============= METRIC RESULT OBJECT =============\n",
      "Accuracy          = 0.5333\n",
      "ROC AUC Score     = 0.5333\n",
      "FPR               = 0.7096\n",
      "TN, FP, FN, TP    = (1452, 3548, 1119, 3881)\n",
      "============= METRIC RESULT OBJECT =============\n",
      "Accuracy          = 0.5276\n",
      "ROC AUC Score     = 0.5276\n",
      "FPR               = 0.8112\n",
      "TN, FP, FN, TP    = (944, 4056, 668, 4332)\n",
      "============= METRIC RESULT OBJECT =============\n",
      "Accuracy          = 0.5193\n",
      "ROC AUC Score     = 0.5193\n",
      "FPR               = 0.9048\n",
      "TN, FP, FN, TP    = (476, 4524, 283, 4717)\n",
      "============= METRIC RESULT OBJECT =============\n",
      "Accuracy          = 0.5\n",
      "ROC AUC Score     = 0.5\n",
      "FPR               = 1.0\n",
      "TN, FP, FN, TP    = (0, 5000, 0, 5000)\n"
     ]
    }
   ],
   "source": [
    "for result in audit_results:\n",
    "    print(result)"
   ]
  },
  {
   "cell_type": "markdown",
   "metadata": {
    "pycharm": {
     "name": "#%% md\n"
    }
   },
   "source": [
    "## Result visualization"
   ]
  },
  {
   "cell_type": "markdown",
   "metadata": {
    "pycharm": {
     "name": "#%% md\n"
    }
   },
   "source": [
    "Several visualization tools are built in `privacy_tool`, such as ROC curves, signal values histogram, or confusion matrix."
   ]
  },
  {
   "cell_type": "code",
   "execution_count": 15,
   "metadata": {
    "pycharm": {
     "name": "#%%\n"
    }
   },
   "outputs": [],
   "source": [
    "# This instruction won't be needed once the tool is on pip\n",
    "from privacy_meter import audit_report\n",
    "audit_report.REPORT_FILES_DIR = '../privacy_meter/report_files'"
   ]
  },
  {
   "cell_type": "code",
   "execution_count": 16,
   "metadata": {
    "pycharm": {
     "name": "#%%\n"
    }
   },
   "outputs": [
    {
     "data": {
      "image/png": "[encoded data removed]",
      "text/plain": [
       "<Figure size 432x288 with 1 Axes>"
      ]
     },
     "metadata": {
      "needs_background": "light"
     },
     "output_type": "display_data"
    },
    {
     "data": {
      "text/plain": [
       "<Figure size 432x288 with 0 Axes>"
      ]
     },
     "metadata": {},
     "output_type": "display_data"
    }
   ],
   "source": [
    "ROCCurveReport.generate_report(\n",
    "    metric_result=audit_results,\n",
    "    inference_game_type=InferenceGame.PRIVACY_LOSS_MODEL,\n",
    "    show=True\n",
    ")"
   ]
  },
  {
   "cell_type": "code",
   "execution_count": 17,
   "metadata": {
    "pycharm": {
     "name": "#%%\n"
    }
   },
   "outputs": [
    {
     "data": {
      "image/png": "[encoded data removed]",
      "text/plain": [
       "<Figure size 432x288 with 1 Axes>"
      ]
     },
     "metadata": {
      "needs_background": "light"
     },
     "output_type": "display_data"
    },
    {
     "data": {
      "text/plain": [
       "<Figure size 432x288 with 0 Axes>"
      ]
     },
     "metadata": {},
     "output_type": "display_data"
    }
   ],
   "source": [
    "SignalHistogramReport.generate_report(\n",
    "    metric_result=audit_results[1],\n",
    "    inference_game_type=InferenceGame.PRIVACY_LOSS_MODEL,\n",
    "    show=True\n",
    ")"
   ]
  }
 ],
 "metadata": {
  "kernelspec": {
   "display_name": "Python 3",
   "language": "python",
   "name": "python3"
  },
  "language_info": {
   "codemirror_mode": {
    "name": "ipython",
    "version": 3
   },
   "file_extension": ".py",
   "mimetype": "text/x-python",
   "name": "python",
   "nbconvert_exporter": "python",
   "pygments_lexer": "ipython3",
   "version": "3.6.13"
  }
 },
 "nbformat": 4,
 "nbformat_minor": 1
}

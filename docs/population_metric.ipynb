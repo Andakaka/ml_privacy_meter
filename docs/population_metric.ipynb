{
 "cells": [
  {
   "cell_type": "code",
   "execution_count": 1,
   "metadata": {
    "pycharm": {
     "name": "#%%\n"
    }
   },
   "outputs": [],
   "source": [
    "import numpy as np\n",
    "import tensorflow as tf"
   ]
  },
  {
   "cell_type": "code",
   "execution_count": 2,
   "metadata": {
    "pycharm": {
     "name": "#%%\n"
    }
   },
   "outputs": [
    {
     "name": "stdout",
     "output_type": "stream",
     "text": [
      "Obtaining file:///Users/aadyaamaddi/Desktop/ML%20Privacy%20Meter/privacy_meter\n",
      "Installing collected packages: privacy-meter\n",
      "  Attempting uninstall: privacy-meter\n",
      "    Found existing installation: privacy-meter 1.0\n",
      "    Uninstalling privacy-meter-1.0:\n",
      "      Successfully uninstalled privacy-meter-1.0\n",
      "  Running setup.py develop for privacy-meter\n",
      "Successfully installed privacy-meter-1.0\n"
     ]
    }
   ],
   "source": [
    "import sys\n",
    "!{sys.executable} -m pip install -e ../.\n",
    "from privacy_meter.dataset import Dataset\n",
    "from privacy_meter.model import TensorflowModel\n",
    "from privacy_meter.information_source import InformationSource\n",
    "from privacy_meter.audit import Audit, MetricEnum"
   ]
  },
  {
   "cell_type": "code",
   "execution_count": 3,
   "metadata": {
    "pycharm": {
     "name": "#%%\n"
    }
   },
   "outputs": [],
   "source": [
    "def preprocess_cifar10_dataset():\n",
    "    input_shape, num_classes = (32, 32, 3), 10\n",
    "\n",
    "    # Split the data between train and test sets\n",
    "    (x_train, y_train), (x_test, y_test) = tf.keras.datasets.cifar10.load_data()\n",
    "\n",
    "    # Scale images to the [0, 1] range\n",
    "    x_train = x_train.astype(\"float32\") / 255\n",
    "    x_test = x_test.astype(\"float32\") / 255\n",
    "\n",
    "    # Convert labels into one hot vectors\n",
    "    y_train = tf.keras.utils.to_categorical(y_train, num_classes)\n",
    "    y_test = tf.keras.utils.to_categorical(y_test, num_classes)\n",
    "\n",
    "    return x_train, y_train, x_test, y_test, input_shape, num_classes\n",
    "\n",
    "# Generate target dataset (right now this also has the population data)\n",
    "x_train_all, y_train_all, x_test_all, y_test_all, input_shape, num_classes = preprocess_cifar10_dataset()\n",
    "\n",
    "num_train_points = 5000\n",
    "num_test_points = 5000\n",
    "num_population_points = 10000\n",
    "\n",
    "x_train, y_train = x_train_all[:num_train_points], y_train_all[:num_train_points]\n",
    "x_test, y_test = x_test_all[:num_test_points], y_test_all[:num_test_points]\n",
    "x_population = x_train_all[num_train_points:(num_train_points + num_population_points)]\n",
    "y_population = y_train_all[num_train_points:(num_train_points + num_population_points)]"
   ]
  },
  {
   "cell_type": "code",
   "execution_count": 4,
   "metadata": {
    "pycharm": {
     "name": "#%%\n"
    }
   },
   "outputs": [],
   "source": [
    "# Create data dictionaries in a tfds-like style\n",
    "train_ds = {'x': x_train, 'y': y_train}\n",
    "test_ds = {'x': x_test, 'y': y_test}\n",
    "target_dataset = Dataset(\n",
    "    data_dict={'train': train_ds, 'test': test_ds},\n",
    "    default_input='x', default_output='y'\n",
    ")\n",
    "\n",
    "population_ds = {'x': x_population, 'y': y_population}\n",
    "reference_dataset = Dataset(\n",
    "    data_dict={'train': population_ds},  # this is the default mapping\n",
    "    default_input='x', default_output='y'\n",
    ")"
   ]
  },
  {
   "cell_type": "code",
   "execution_count": 5,
   "metadata": {
    "pycharm": {
     "name": "#%%\n"
    }
   },
   "outputs": [],
   "source": [
    "def get_tensorflow_cnn_classifier(input_shape, num_classes, regularizer):\n",
    "    model = tf.keras.Sequential()\n",
    "    model.add(tf.keras.layers.Conv2D(32, kernel_size=(3, 3), activation='relu',\n",
    "                                     input_shape=input_shape, kernel_regularizer=regularizer))\n",
    "    model.add(tf.keras.layers.MaxPool2D(pool_size=(2, 2)))\n",
    "    model.add(tf.keras.layers.Conv2D(64, kernel_size=(3, 3), activation='relu',\n",
    "                                     kernel_regularizer=regularizer))\n",
    "    model.add(tf.keras.layers.MaxPool2D(pool_size=(2, 2)))\n",
    "    model.add(tf.keras.layers.Flatten())\n",
    "    model.add(tf.keras.layers.Dropout(0.5))\n",
    "    model.add(tf.keras.layers.Dense(num_classes, activation='softmax'))\n",
    "    return model"
   ]
  },
  {
   "cell_type": "code",
   "execution_count": 6,
   "metadata": {
    "pycharm": {
     "name": "#%%\n"
    }
   },
   "outputs": [],
   "source": [
    "loss_fn = tf.keras.losses.CategoricalCrossentropy()\n",
    "optim_fn = 'adam'\n",
    "epochs = 5\n",
    "batch_size = 64\n",
    "regularizer_penalty = 0.01\n",
    "regularizer = tf.keras.regularizers.l2(l=regularizer_penalty)"
   ]
  },
  {
   "cell_type": "code",
   "execution_count": 7,
   "metadata": {},
   "outputs": [
    {
     "name": "stdout",
     "output_type": "stream",
     "text": [
      "Model: \"sequential\"\n",
      "_________________________________________________________________\n",
      "Layer (type)                 Output Shape              Param #   \n",
      "=================================================================\n",
      "conv2d (Conv2D)              (None, 30, 30, 32)        896       \n",
      "_________________________________________________________________\n",
      "max_pooling2d (MaxPooling2D) (None, 15, 15, 32)        0         \n",
      "_________________________________________________________________\n",
      "conv2d_1 (Conv2D)            (None, 13, 13, 64)        18496     \n",
      "_________________________________________________________________\n",
      "max_pooling2d_1 (MaxPooling2 (None, 6, 6, 64)          0         \n",
      "_________________________________________________________________\n",
      "flatten (Flatten)            (None, 2304)              0         \n",
      "_________________________________________________________________\n",
      "dropout (Dropout)            (None, 2304)              0         \n",
      "_________________________________________________________________\n",
      "dense (Dense)                (None, 10)                23050     \n",
      "=================================================================\n",
      "Total params: 42,442\n",
      "Trainable params: 42,442\n",
      "Non-trainable params: 0\n",
      "_________________________________________________________________\n",
      "Train on 5000 samples\n",
      "Epoch 1/5\n",
      "5000/5000 - 4s - loss: 2.3934 - accuracy: 0.2074\n",
      "Epoch 2/5\n",
      "5000/5000 - 4s - loss: 1.9614 - accuracy: 0.3376\n",
      "Epoch 3/5\n",
      "5000/5000 - 4s - loss: 1.8246 - accuracy: 0.3954\n",
      "Epoch 4/5\n",
      "5000/5000 - 5s - loss: 1.7495 - accuracy: 0.4192\n",
      "Epoch 5/5\n",
      "5000/5000 - 5s - loss: 1.7147 - accuracy: 0.4338\n"
     ]
    },
    {
     "data": {
      "text/plain": [
       "<tensorflow.python.keras.callbacks.History at 0x7f797f75b1d0>"
      ]
     },
     "execution_count": 7,
     "metadata": {},
     "output_type": "execute_result"
    }
   ],
   "source": [
    "x = target_dataset.get_feature('train', '<default_input>')\n",
    "y = target_dataset.get_feature('train', '<default_output>')\n",
    "model = get_tensorflow_cnn_classifier(input_shape, num_classes, regularizer)\n",
    "model.summary()\n",
    "model.compile(optimizer=optim_fn, loss=loss_fn, metrics=['accuracy'])\n",
    "model.fit(x, y, batch_size=batch_size, epochs=epochs, verbose=2)"
   ]
  },
  {
   "cell_type": "code",
   "execution_count": 8,
   "metadata": {},
   "outputs": [],
   "source": [
    "per_sample_loss_fn = tf.keras.losses.CategoricalCrossentropy(from_logits=True,\n",
    "                                                             reduction=tf.keras.losses.Reduction.NONE)\n",
    "target_model = TensorflowModel(model_obj=model, loss_fn=loss_fn)"
   ]
  },
  {
   "cell_type": "code",
   "execution_count": 9,
   "metadata": {},
   "outputs": [],
   "source": [
    "target_info_source = InformationSource(models=[target_model], datasets=[target_dataset])\n",
    "reference_info_source = InformationSource(models=[target_model], datasets=[reference_dataset])"
   ]
  },
  {
   "cell_type": "code",
   "execution_count": 10,
   "metadata": {},
   "outputs": [
    {
     "name": "stdout",
     "output_type": "stream",
     "text": [
      "============= METRIC RESULT OBJECT =============\n",
      "Accuracy          = 0.5\n",
      "ROC AUC Score     = 0.5\n",
      "FPR               = 1.0\n",
      "TN, FP, FN, TP    = (0, 1, 0, 1)\n",
      "============= METRIC RESULT OBJECT =============\n",
      "Accuracy          = 0.5\n",
      "ROC AUC Score     = 0.5\n",
      "FPR               = 1.0\n",
      "TN, FP, FN, TP    = (0, 1, 0, 1)\n",
      "============= METRIC RESULT OBJECT =============\n",
      "Accuracy          = 0.5\n",
      "ROC AUC Score     = 0.5\n",
      "FPR               = 1.0\n",
      "TN, FP, FN, TP    = (0, 1, 0, 1)\n"
     ]
    }
   ],
   "source": [
    "fpr_tolerance_list = [0.1, 0.3, 0.5]\n",
    "audit_obj = Audit(\n",
    "    metric=MetricEnum.POPULATION,\n",
    "    target_info_source=target_info_source,\n",
    "    reference_info_source=reference_info_source,\n",
    "    fpr_tolerance_list=fpr_tolerance_list\n",
    ")\n",
    "audit_obj.run()"
   ]
  },
  {
   "cell_type": "code",
   "execution_count": null,
   "metadata": {},
   "outputs": [],
   "source": []
  }
 ],
 "metadata": {
  "kernelspec": {
   "display_name": "Python 3",
   "language": "python",
   "name": "python3"
  },
  "language_info": {
   "codemirror_mode": {
    "name": "ipython",
    "version": 3
   },
   "file_extension": ".py",
   "mimetype": "text/x-python",
   "name": "python",
   "nbconvert_exporter": "python",
   "pygments_lexer": "ipython3",
   "version": "3.6.13"
  }
 },
 "nbformat": 4,
 "nbformat_minor": 1
}
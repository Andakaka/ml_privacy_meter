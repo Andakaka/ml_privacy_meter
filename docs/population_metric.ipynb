{
 "cells": [
  {
   "cell_type": "markdown",
   "metadata": {},
   "source": [
    "# Auditing a CNN trained on CIFAR10 using the Population Attack"
   ]
  },
  {
   "cell_type": "markdown",
   "metadata": {},
   "source": [
    "## Introduction\n",
    "\n",
    "In this tutorial, we will see:\n",
    "\n",
    "- How to specify the dataset and model for Privacy Meter\n",
    "- How to audit a Tensorflow model\n",
    "- How to use the `PopulationMetric` to evaluate membership leakage using loss values from the target model"
   ]
  },
  {
   "cell_type": "markdown",
   "metadata": {},
   "source": [
    "## Imports"
   ]
  },
  {
   "cell_type": "code",
   "execution_count": 1,
   "metadata": {
    "pycharm": {
     "name": "#%%\n"
    }
   },
   "outputs": [],
   "source": [
    "import numpy as np\n",
    "import tensorflow as tf"
   ]
  },
  {
   "cell_type": "markdown",
   "metadata": {},
   "source": [
    "For now we install the Privacy Meter library from the local source. A version will be pushed to pip soon."
   ]
  },
  {
   "cell_type": "code",
   "execution_count": 2,
   "metadata": {
    "pycharm": {
     "name": "#%%\n"
    }
   },
   "outputs": [
    {
     "name": "stdout",
     "output_type": "stream",
     "text": [
      "Obtaining file:///Users/aadyaamaddi/Desktop/ML%20Privacy%20Meter/privacy_meter\n",
      "Installing collected packages: privacy-meter\n",
      "  Attempting uninstall: privacy-meter\n",
      "    Found existing installation: privacy-meter 1.0\n",
      "    Uninstalling privacy-meter-1.0:\n",
      "      Successfully uninstalled privacy-meter-1.0\n",
      "  Running setup.py develop for privacy-meter\n",
      "Successfully installed privacy-meter-1.0\n"
     ]
    }
   ],
   "source": [
    "import sys\n",
    "!{sys.executable} -m pip install -e ../.\n",
    "from privacy_meter.dataset import Dataset\n",
    "from privacy_meter.model import TensorflowModel\n",
    "from privacy_meter.information_source import InformationSource\n",
    "from privacy_meter.audit import Audit, MetricEnum"
   ]
  },
  {
   "cell_type": "markdown",
   "metadata": {},
   "source": [
    "## Settings"
   ]
  },
  {
   "cell_type": "markdown",
   "metadata": {},
   "source": [
    "Hyperparameters:"
   ]
  },
  {
   "cell_type": "code",
   "execution_count": 3,
   "metadata": {},
   "outputs": [],
   "source": [
    "# for training the target model\n",
    "num_train_points = 5000\n",
    "num_test_points = 5000\n",
    "loss_fn = tf.keras.losses.CategoricalCrossentropy()\n",
    "optim_fn = 'adam'\n",
    "epochs = 25\n",
    "batch_size = 64\n",
    "regularizer_penalty = 0.01\n",
    "regularizer = tf.keras.regularizers.l2(l=regularizer_penalty)"
   ]
  },
  {
   "cell_type": "code",
   "execution_count": 4,
   "metadata": {},
   "outputs": [],
   "source": [
    "# for the population metric\n",
    "num_population_points = 10000\n",
    "fpr_tolerance_list = [\n",
    "    0.0, 0.1, 0.2, 0.3, 0.4, 0.5, 0.6, 0.7, 0.8, 0.9, 1.0\n",
    "]"
   ]
  },
  {
   "cell_type": "markdown",
   "metadata": {},
   "source": [
    "## Dataset creation"
   ]
  },
  {
   "cell_type": "markdown",
   "metadata": {},
   "source": [
    "We use the CIFAR10 dataset for this tutorial. As Tensorflow already has the data loading code for CIFAR10, we just need to add our pre-processing code on top of it."
   ]
  },
  {
   "cell_type": "code",
   "execution_count": 5,
   "metadata": {
    "pycharm": {
     "name": "#%%\n"
    }
   },
   "outputs": [],
   "source": [
    "def preprocess_cifar10_dataset():\n",
    "    input_shape, num_classes = (32, 32, 3), 10\n",
    "\n",
    "    # split the data between train and test sets\n",
    "    (x_train, y_train), (x_test, y_test) = tf.keras.datasets.cifar10.load_data()\n",
    "\n",
    "    # scale images to the [0, 1] range\n",
    "    x_train = x_train.astype(\"float32\") / 255\n",
    "    x_test = x_test.astype(\"float32\") / 255\n",
    "\n",
    "    # convert labels into one hot vectors\n",
    "    y_train = tf.keras.utils.to_categorical(y_train, num_classes)\n",
    "    y_test = tf.keras.utils.to_categorical(y_test, num_classes)\n",
    "\n",
    "    return x_train, y_train, x_test, y_test, input_shape, num_classes\n",
    "\n",
    "x_train_all, y_train_all, x_test_all, y_test_all, input_shape, num_classes = preprocess_cifar10_dataset()"
   ]
  },
  {
   "cell_type": "markdown",
   "metadata": {},
   "source": [
    "CIFAR10 comes with the predetermined train and test partitions. We further split the train partition into two more sets - 'train' and 'population' for the audit. \n",
    "\n",
    "We will have the following sets at the end of this partitioning:\n",
    "\n",
    "- The 'train' set will be used to train the target model. It will be used as the 'member' set for the audit.\n",
    "- The 'test' set will be used as the 'non-member' set for the audit.\n",
    "- The 'population' set will be used as the reference data by the `PopulationMetric`."
   ]
  },
  {
   "cell_type": "code",
   "execution_count": 6,
   "metadata": {},
   "outputs": [],
   "source": [
    "x_train, y_train = x_train_all[:num_train_points], y_train_all[:num_train_points]\n",
    "x_test, y_test = x_test_all[:num_test_points], y_test_all[:num_test_points]\n",
    "x_population = x_train_all[num_train_points:(num_train_points + num_population_points)]\n",
    "y_population = y_train_all[num_train_points:(num_train_points + num_population_points)]"
   ]
  },
  {
   "cell_type": "markdown",
   "metadata": {},
   "source": [
    "We wrap the sets into a `Dataset` object, which takes in the following arguments:\n",
    "\n",
    "- `data_dict` contains the actual dataset, in the form of a 2D dictionary. The first key corresponds to the split name (here we have two: \"train\" and \"test\"), and the second key to the feature name (here we also have two: \"x\" and \"y\").\n",
    "- `default_input` contains the name of the feature that should be used as the models input (here \"x\").\n",
    "- `default_output` contains the name of the feature that should be used as the label / models output (here \"y\")."
   ]
  },
  {
   "cell_type": "code",
   "execution_count": 7,
   "metadata": {
    "pycharm": {
     "name": "#%%\n"
    }
   },
   "outputs": [],
   "source": [
    "# create the target model's dataset\n",
    "train_ds = {'x': x_train, 'y': y_train}\n",
    "test_ds = {'x': x_test, 'y': y_test}\n",
    "target_dataset = Dataset(\n",
    "    data_dict={'train': train_ds, 'test': test_ds},\n",
    "    default_input='x', default_output='y'\n",
    ")\n",
    "\n",
    "# create the reference dataset \n",
    "population_ds = {'x': x_population, 'y': y_population}\n",
    "reference_dataset = Dataset(\n",
    "    # this is the default mapping that a Metric will look for\n",
    "    # in a reference dataset\n",
    "    data_dict={'train': population_ds},\n",
    "    default_input='x', default_output='y'\n",
    ")"
   ]
  },
  {
   "cell_type": "markdown",
   "metadata": {},
   "source": [
    "## Training the target model"
   ]
  },
  {
   "cell_type": "markdown",
   "metadata": {},
   "source": [
    "We define the Tensorflow model to be used as the target model:"
   ]
  },
  {
   "cell_type": "code",
   "execution_count": 8,
   "metadata": {
    "pycharm": {
     "name": "#%%\n"
    }
   },
   "outputs": [],
   "source": [
    "def get_tensorflow_cnn_classifier(input_shape, num_classes, regularizer):\n",
    "    model = tf.keras.Sequential()\n",
    "    model.add(tf.keras.layers.Conv2D(32, kernel_size=(3, 3), activation='relu',\n",
    "                                     input_shape=input_shape, kernel_regularizer=regularizer))\n",
    "    model.add(tf.keras.layers.MaxPool2D(pool_size=(2, 2)))\n",
    "    model.add(tf.keras.layers.Conv2D(64, kernel_size=(3, 3), activation='relu',\n",
    "                                     kernel_regularizer=regularizer))\n",
    "    model.add(tf.keras.layers.MaxPool2D(pool_size=(2, 2)))\n",
    "    model.add(tf.keras.layers.Flatten())\n",
    "    model.add(tf.keras.layers.Dropout(0.5))\n",
    "    model.add(tf.keras.layers.Dense(num_classes, activation='softmax'))\n",
    "    return model"
   ]
  },
  {
   "cell_type": "markdown",
   "metadata": {},
   "source": [
    "And we compile and train the target model using the target dataset we defined above:"
   ]
  },
  {
   "cell_type": "code",
   "execution_count": 9,
   "metadata": {},
   "outputs": [
    {
     "name": "stdout",
     "output_type": "stream",
     "text": [
      "Model: \"sequential\"\n",
      "_________________________________________________________________\n",
      "Layer (type)                 Output Shape              Param #   \n",
      "=================================================================\n",
      "conv2d (Conv2D)              (None, 30, 30, 32)        896       \n",
      "_________________________________________________________________\n",
      "max_pooling2d (MaxPooling2D) (None, 15, 15, 32)        0         \n",
      "_________________________________________________________________\n",
      "conv2d_1 (Conv2D)            (None, 13, 13, 64)        18496     \n",
      "_________________________________________________________________\n",
      "max_pooling2d_1 (MaxPooling2 (None, 6, 6, 64)          0         \n",
      "_________________________________________________________________\n",
      "flatten (Flatten)            (None, 2304)              0         \n",
      "_________________________________________________________________\n",
      "dropout (Dropout)            (None, 2304)              0         \n",
      "_________________________________________________________________\n",
      "dense (Dense)                (None, 10)                23050     \n",
      "=================================================================\n",
      "Total params: 42,442\n",
      "Trainable params: 42,442\n",
      "Non-trainable params: 0\n",
      "_________________________________________________________________\n",
      "Train on 5000 samples\n",
      "Epoch 1/25\n",
      "5000/5000 - 4s - loss: 2.3966 - accuracy: 0.2012\n",
      "Epoch 2/25\n",
      "5000/5000 - 4s - loss: 1.9404 - accuracy: 0.3530\n",
      "Epoch 3/25\n",
      "5000/5000 - 4s - loss: 1.7962 - accuracy: 0.4050\n",
      "Epoch 4/25\n",
      "5000/5000 - 4s - loss: 1.7299 - accuracy: 0.4300\n",
      "Epoch 5/25\n",
      "5000/5000 - 4s - loss: 1.6787 - accuracy: 0.4512\n",
      "Epoch 6/25\n",
      "5000/5000 - 4s - loss: 1.6293 - accuracy: 0.4610\n",
      "Epoch 7/25\n",
      "5000/5000 - 4s - loss: 1.5967 - accuracy: 0.4796\n",
      "Epoch 8/25\n",
      "5000/5000 - 4s - loss: 1.5716 - accuracy: 0.4936\n",
      "Epoch 9/25\n",
      "5000/5000 - 4s - loss: 1.5582 - accuracy: 0.4918\n",
      "Epoch 10/25\n",
      "5000/5000 - 4s - loss: 1.5071 - accuracy: 0.5132\n",
      "Epoch 11/25\n",
      "5000/5000 - 4s - loss: 1.5036 - accuracy: 0.5134\n",
      "Epoch 12/25\n",
      "5000/5000 - 4s - loss: 1.4705 - accuracy: 0.5240\n",
      "Epoch 13/25\n",
      "5000/5000 - 4s - loss: 1.4713 - accuracy: 0.5252\n",
      "Epoch 14/25\n",
      "5000/5000 - 4s - loss: 1.4477 - accuracy: 0.5312\n",
      "Epoch 15/25\n",
      "5000/5000 - 4s - loss: 1.4387 - accuracy: 0.5360\n",
      "Epoch 16/25\n",
      "5000/5000 - 4s - loss: 1.4202 - accuracy: 0.5490\n",
      "Epoch 17/25\n",
      "5000/5000 - 4s - loss: 1.4219 - accuracy: 0.5460\n",
      "Epoch 18/25\n",
      "5000/5000 - 4s - loss: 1.4117 - accuracy: 0.5532\n",
      "Epoch 19/25\n",
      "5000/5000 - 4s - loss: 1.3891 - accuracy: 0.5624\n",
      "Epoch 20/25\n",
      "5000/5000 - 4s - loss: 1.3719 - accuracy: 0.5648\n",
      "Epoch 21/25\n",
      "5000/5000 - 4s - loss: 1.3738 - accuracy: 0.5694\n",
      "Epoch 22/25\n",
      "5000/5000 - 4s - loss: 1.3854 - accuracy: 0.5556\n",
      "Epoch 23/25\n",
      "5000/5000 - 4s - loss: 1.3569 - accuracy: 0.5716\n",
      "Epoch 24/25\n",
      "5000/5000 - 4s - loss: 1.3302 - accuracy: 0.5880\n",
      "Epoch 25/25\n",
      "5000/5000 - 4s - loss: 1.3496 - accuracy: 0.5706\n"
     ]
    },
    {
     "data": {
      "text/plain": [
       "<tensorflow.python.keras.callbacks.History at 0x7fbfe6945940>"
      ]
     },
     "execution_count": 9,
     "metadata": {},
     "output_type": "execute_result"
    }
   ],
   "source": [
    "x = target_dataset.get_feature('train', '<default_input>')\n",
    "y = target_dataset.get_feature('train', '<default_output>')\n",
    "model = get_tensorflow_cnn_classifier(input_shape, num_classes, regularizer)\n",
    "model.summary()\n",
    "model.compile(optimizer=optim_fn, loss=loss_fn, metrics=['accuracy'])\n",
    "model.fit(x, y, batch_size=batch_size, epochs=epochs, verbose=2)"
   ]
  },
  {
   "cell_type": "markdown",
   "metadata": {},
   "source": [
    "We wrap the trained target model in a `TensorflowModel` object. Note that we need to pass a loss function to this object."
   ]
  },
  {
   "cell_type": "code",
   "execution_count": 10,
   "metadata": {},
   "outputs": [],
   "source": [
    "target_model = TensorflowModel(model_obj=model, loss_fn=loss_fn)"
   ]
  },
  {
   "cell_type": "markdown",
   "metadata": {},
   "source": [
    "## Information sources\n",
    "\n",
    "We can now define two `InformationSource` objects. Basically, an information source is an abstraction representing a set of models, and their corresponding datasets. Note that for the `PopulationMetric` we use the same model in both the target and reference information sources, but the datasets that will be queried will differ."
   ]
  },
  {
   "cell_type": "code",
   "execution_count": 11,
   "metadata": {},
   "outputs": [],
   "source": [
    "target_info_source = InformationSource(\n",
    "    models=[target_model], \n",
    "    datasets=[target_dataset]\n",
    ")\n",
    "\n",
    "reference_info_source = InformationSource(\n",
    "    models=[target_model],\n",
    "    datasets=[reference_dataset]\n",
    ")"
   ]
  },
  {
   "cell_type": "markdown",
   "metadata": {},
   "source": [
    "## Metric and Audit\n",
    "\n",
    "We now create a `Metric` object, which is an abstraction representing an algorithm used to measure something on an `InformationSource`, such as membership information leakage. In this case, we use the `PopulationMetric` to measure the membership information leakage of `target_info_source` in a black-box setting, using loss values returned by the target model on the `reference_info_source`.\n",
    "\n",
    "The `Audit` object is a wrapper to actually run the audit, and display the results. More visualization options will be added soon.\n",
    "\n",
    "As we will be using the default version of the `PopulationMetric`, we pass the `POPULATION` enum value as the metric argument for the `Audit` object."
   ]
  },
  {
   "cell_type": "code",
   "execution_count": 12,
   "metadata": {},
   "outputs": [
    {
     "name": "stdout",
     "output_type": "stream",
     "text": [
      "============= METRIC RESULT OBJECT =============\n",
      "Accuracy          = 0.5001\n",
      "ROC AUC Score     = 0.5001\n",
      "FPR               = 0.0\n",
      "TN, FP, FN, TP    = (5000, 0, 4999, 1)\n",
      "============= METRIC RESULT OBJECT =============\n",
      "Accuracy          = 0.5089\n",
      "ROC AUC Score     = 0.5089\n",
      "FPR               = 0.1072\n",
      "TN, FP, FN, TP    = (4464, 536, 4375, 625)\n",
      "============= METRIC RESULT OBJECT =============\n",
      "Accuracy          = 0.5209\n",
      "ROC AUC Score     = 0.5209\n",
      "FPR               = 0.2106\n",
      "TN, FP, FN, TP    = (3947, 1053, 3738, 1262)\n",
      "============= METRIC RESULT OBJECT =============\n",
      "Accuracy          = 0.5266\n",
      "ROC AUC Score     = 0.5266000000000001\n",
      "FPR               = 0.3126\n",
      "TN, FP, FN, TP    = (3437, 1563, 3171, 1829)\n",
      "============= METRIC RESULT OBJECT =============\n",
      "Accuracy          = 0.5349\n",
      "ROC AUC Score     = 0.5349\n",
      "FPR               = 0.4094\n",
      "TN, FP, FN, TP    = (2953, 2047, 2604, 2396)\n",
      "============= METRIC RESULT OBJECT =============\n",
      "Accuracy          = 0.5367\n",
      "ROC AUC Score     = 0.5367000000000001\n",
      "FPR               = 0.5144\n",
      "TN, FP, FN, TP    = (2428, 2572, 2061, 2939)\n",
      "============= METRIC RESULT OBJECT =============\n",
      "Accuracy          = 0.5383\n",
      "ROC AUC Score     = 0.5383\n",
      "FPR               = 0.6132\n",
      "TN, FP, FN, TP    = (1934, 3066, 1551, 3449)\n",
      "============= METRIC RESULT OBJECT =============\n",
      "Accuracy          = 0.5363\n",
      "ROC AUC Score     = 0.5363\n",
      "FPR               = 0.7154\n",
      "TN, FP, FN, TP    = (1423, 3577, 1060, 3940)\n",
      "============= METRIC RESULT OBJECT =============\n",
      "Accuracy          = 0.5322\n",
      "ROC AUC Score     = 0.5322\n",
      "FPR               = 0.8066\n",
      "TN, FP, FN, TP    = (967, 4033, 645, 4355)\n",
      "============= METRIC RESULT OBJECT =============\n",
      "Accuracy          = 0.5222\n",
      "ROC AUC Score     = 0.5222\n",
      "FPR               = 0.9008\n",
      "TN, FP, FN, TP    = (496, 4504, 274, 4726)\n",
      "============= METRIC RESULT OBJECT =============\n",
      "Accuracy          = 0.5\n",
      "ROC AUC Score     = 0.5\n",
      "FPR               = 1.0\n",
      "TN, FP, FN, TP    = (0, 5000, 0, 5000)\n"
     ]
    }
   ],
   "source": [
    "audit_obj = Audit(\n",
    "    metric=MetricEnum.POPULATION,\n",
    "    target_info_source=target_info_source,\n",
    "    reference_info_source=reference_info_source,\n",
    "    fpr_tolerance_list=fpr_tolerance_list\n",
    ")\n",
    "audit_obj.prepare()\n",
    "audit_results = audit_obj.run()\n",
    "for result in audit_results:\n",
    "    print(result)"
   ]
  }
 ],
 "metadata": {
  "kernelspec": {
   "display_name": "Python 3",
   "language": "python",
   "name": "python3"
  },
  "language_info": {
   "codemirror_mode": {
    "name": "ipython",
    "version": 3
   },
   "file_extension": ".py",
   "mimetype": "text/x-python",
   "name": "python",
   "nbconvert_exporter": "python",
   "pygments_lexer": "ipython3",
   "version": "3.6.13"
  }
 },
 "nbformat": 4,
 "nbformat_minor": 1
}
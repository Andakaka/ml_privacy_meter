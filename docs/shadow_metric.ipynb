{
 "cells": [
  {
   "cell_type": "markdown",
   "metadata": {
    "pycharm": {
     "name": "#%% md\n"
    }
   },
   "source": [
    "# Shadow models audit for a PyTorch model trained on Purchase100"
   ]
  },
  {
   "cell_type": "markdown",
   "metadata": {
    "pycharm": {
     "name": "#%% md\n"
    }
   },
   "source": [
    "## Introduction"
   ]
  },
  {
   "cell_type": "markdown",
   "metadata": {
    "pycharm": {
     "name": "#%% md\n"
    }
   },
   "source": [
    "In this tutorial, we will see:\n",
    "* How to create a Dataset object manually\n",
    "* How to audit a PyTorch model\n",
    "* How to use the ShadowMetric"
   ]
  },
  {
   "cell_type": "markdown",
   "metadata": {
    "pycharm": {
     "name": "#%% md\n"
    }
   },
   "source": [
    "## Imports"
   ]
  },
  {
   "cell_type": "code",
   "execution_count": 1,
   "metadata": {
    "pycharm": {
     "name": "#%%\n"
    }
   },
   "outputs": [],
   "source": [
    "from math import ceil\n",
    "import numpy as np\n",
    "import torch\n",
    "from sklearn.model_selection import train_test_split\n",
    "from sklearn.preprocessing import OneHotEncoder\n",
    "from torch import nn, optim, Tensor"
   ]
  },
  {
   "cell_type": "markdown",
   "metadata": {
    "pycharm": {
     "name": "#%% md\n"
    }
   },
   "source": [
    "For now we install the library from the local source. A version will be pushed to pip soon."
   ]
  },
  {
   "cell_type": "code",
   "execution_count": 2,
   "metadata": {
    "pycharm": {
     "name": "#%%\n"
    }
   },
   "outputs": [
    {
     "name": "stdout",
     "output_type": "stream",
     "text": [
      "Obtaining file:///home/victor/ml_privacy_meter\n",
      "  Preparing metadata (setup.py) ... \u001B[?25ldone\n",
      "\u001B[?25hInstalling collected packages: privacy-meter\n",
      "  Attempting uninstall: privacy-meter\n",
      "    Found existing installation: privacy-meter 1.0\n",
      "    Uninstalling privacy-meter-1.0:\n",
      "      Successfully uninstalled privacy-meter-1.0\n",
      "  Running setup.py develop for privacy-meter\n",
      "Successfully installed privacy-meter-1.0\n"
     ]
    },
    {
     "name": "stderr",
     "output_type": "stream",
     "text": [
      "2022-04-15 14:20:46.061853: W tensorflow/stream_executor/platform/default/dso_loader.cc:64] Could not load dynamic library 'libcudart.so.11.0'; dlerror: libcudart.so.11.0: cannot open shared object file: No such file or directory\n",
      "2022-04-15 14:20:46.061883: I tensorflow/stream_executor/cuda/cudart_stub.cc:29] Ignore above cudart dlerror if you do not have a GPU set up on your machine.\n"
     ]
    }
   ],
   "source": [
    "import sys\n",
    "!{sys.executable} -m pip install -e ../.\n",
    "from privacy_meter.audit import Audit\n",
    "from privacy_meter.audit_report import ROCCurveReport, SignalHistogramReport\n",
    "from privacy_meter.dataset import Dataset\n",
    "from privacy_meter.hypothesis_test import threshold_func\n",
    "from privacy_meter.information_source import InformationSource\n",
    "from privacy_meter.information_source_signal import ModelLoss\n",
    "from privacy_meter.metric import ShadowMetric\n",
    "from privacy_meter.model import PytorchModel"
   ]
  },
  {
   "cell_type": "markdown",
   "metadata": {
    "pycharm": {
     "name": "#%% md\n"
    }
   },
   "source": [
    "## Settings"
   ]
  },
  {
   "cell_type": "markdown",
   "metadata": {
    "pycharm": {
     "name": "#%% md\n"
    }
   },
   "source": [
    "Setting seed for reproducibility:"
   ]
  },
  {
   "cell_type": "code",
   "execution_count": 3,
   "metadata": {
    "pycharm": {
     "name": "#%%\n"
    }
   },
   "outputs": [],
   "source": [
    "np.random.seed(1234)"
   ]
  },
  {
   "cell_type": "markdown",
   "metadata": {
    "pycharm": {
     "name": "#%% md\n"
    }
   },
   "source": [
    "Hyper parameters:"
   ]
  },
  {
   "cell_type": "code",
   "execution_count": 4,
   "metadata": {
    "pycharm": {
     "name": "#%%\n"
    }
   },
   "outputs": [],
   "source": [
    "n_shadow_models = 10  # Number of shadow models to be trained\n",
    "epochs = 20           # Number of epochs for each model\n",
    "batch_size = 32       # Batch size for the trainings"
   ]
  },
  {
   "cell_type": "markdown",
   "metadata": {
    "pycharm": {
     "name": "#%% md\n"
    }
   },
   "source": [
    "## Dataset creation"
   ]
  },
  {
   "cell_type": "markdown",
   "metadata": {
    "pycharm": {
     "name": "#%% md\n"
    }
   },
   "source": [
    "Let's download the Purchase100 dataset (presented in https://www.cs.cornell.edu/~shmat/shmat_oak17.pdf on page 7) and extract it:"
   ]
  },
  {
   "cell_type": "code",
   "execution_count": 5,
   "metadata": {
    "pycharm": {
     "is_executing": true,
     "name": "#%%\n"
    }
   },
   "outputs": [
    {
     "name": "stdout",
     "output_type": "stream",
     "text": [
      "--2022-04-15 14:20:48--  https://github.com/privacytrustlab/datasets/raw/master/dataset_purchase.tgz\n",
      "Resolving github.com (github.com)... 20.205.243.166\n",
      "Connecting to github.com (github.com)|20.205.243.166|:443... connected.\n",
      "HTTP request sent, awaiting response... 302 Found\n",
      "Location: https://raw.githubusercontent.com/privacytrustlab/datasets/master/dataset_purchase.tgz [following]\n",
      "--2022-04-15 14:20:48--  https://raw.githubusercontent.com/privacytrustlab/datasets/master/dataset_purchase.tgz\n",
      "Resolving raw.githubusercontent.com (raw.githubusercontent.com)... 185.199.108.133, 185.199.111.133, 185.199.109.133, ...\n",
      "Connecting to raw.githubusercontent.com (raw.githubusercontent.com)|185.199.108.133|:443... connected.\n",
      "HTTP request sent, awaiting response... 200 OK\n",
      "Length: 22045876 (21M) [application/octet-stream]\n",
      "Saving to: ‘dataset_purchase.tgz.1’\n",
      "\n",
      "dataset_purchase.tg 100%[===================>]  21.02M  3.26MB/s    in 6.5s    \n",
      "\n",
      "2022-04-15 14:20:55 (3.23 MB/s) - ‘dataset_purchase.tgz.1’ saved [22045876/22045876]\n",
      "\n",
      "dataset_purchase\n"
     ]
    }
   ],
   "source": [
    "!wget https://github.com/privacytrustlab/datasets/raw/master/dataset_purchase.tgz\n",
    "!tar -xvzf dataset_purchase.tgz\n",
    "!rm dataset_purchase.tgz"
   ]
  },
  {
   "cell_type": "markdown",
   "metadata": {
    "pycharm": {
     "name": "#%% md\n"
    }
   },
   "source": [
    "We need to read the file and preprocess the dataset:"
   ]
  },
  {
   "cell_type": "code",
   "execution_count": 6,
   "metadata": {
    "pycharm": {
     "is_executing": true,
     "name": "#%%\n"
    }
   },
   "outputs": [],
   "source": [
    "def preprocess_purchase100():\n",
    "    \"\"\"\n",
    "    Cf. https://www.cs.cornell.edu/~shmat/shmat_oak17.pdf page 7\n",
    "    Returns:\n",
    "\n",
    "    \"\"\"\n",
    "    # Read raw dataset\n",
    "    dataset_path = \"dataset_purchase\"\n",
    "    with open(dataset_path, \"r\") as f:\n",
    "        purchase_dataset = f.readlines()\n",
    "    # Separate features and labels into different arrays\n",
    "    x, y = [], []\n",
    "    for datapoint in purchase_dataset:\n",
    "        split = datapoint.rstrip().split(\",\")\n",
    "        label = int(split[0]) - 1  # The first value is the label\n",
    "        features = np.array(split[1:], dtype=np.float32)  # The next values are the features\n",
    "        x.append(features)\n",
    "        y.append(label)\n",
    "    # Make sure the datatype is correct\n",
    "    x = np.array(x, dtype=np.float32)\n",
    "    # Convert labels into one hot vectors\n",
    "    y = OneHotEncoder(sparse=False).fit_transform(np.expand_dims(y, axis=1))\n",
    "    # Split data into train, test sets\n",
    "    x_train, x_test, y_train, y_test = train_test_split(x, y, test_size=0.25, random_state=1234)\n",
    "    return x_train, y_train, x_test, y_test"
   ]
  },
  {
   "cell_type": "code",
   "execution_count": 7,
   "metadata": {
    "pycharm": {
     "is_executing": true,
     "name": "#%%\n"
    }
   },
   "outputs": [],
   "source": [
    "x_train, y_train, x_test, y_test = preprocess_purchase100()"
   ]
  },
  {
   "cell_type": "markdown",
   "metadata": {
    "pycharm": {
     "name": "#%% md\n"
    }
   },
   "source": [
    "Then, we wrap the dataset into a Dataset object:\n",
    "* `data_dict` contains the actual dataset, in the form of a 2D dictionary. The first key corresponds to the split name (here we have two: \"train\" and \"test\"), and the second key to the feature name (here we also have two: \"x\" and \"y\").\n",
    "* `default_input` contains the name of the feature that should be used as the models input (here \"x\").\n",
    "* `default_output` contains the name of the feature that should be used as the label / models output (here \"y\")."
   ]
  },
  {
   "cell_type": "code",
   "execution_count": 8,
   "metadata": {
    "pycharm": {
     "is_executing": true,
     "name": "#%%\n"
    }
   },
   "outputs": [],
   "source": [
    "dataset = Dataset(\n",
    "    data_dict={'train': {'x': x_train, 'y': y_train}, 'test': {'x': x_test, 'y': y_test}},\n",
    "    default_input='x',\n",
    "    default_output='y'\n",
    ")"
   ]
  },
  {
   "cell_type": "markdown",
   "metadata": {
    "pycharm": {
     "name": "#%% md\n"
    }
   },
   "source": [
    "Finally, we use the built-in `Dataset.subdivide()` function, to split the two splits (\"train\" and \"test\") into multiple sub-datasets (one per model). The resulting sub-splits are included in the parent object (\"train000\", \"train001\", etc.) and are returned as a list of individual Dataset objects."
   ]
  },
  {
   "cell_type": "code",
   "execution_count": 9,
   "metadata": {
    "pycharm": {
     "is_executing": true,
     "name": "#%%\n"
    }
   },
   "outputs": [],
   "source": [
    "datasets_list = dataset.subdivide(\n",
    "    num_splits=n_shadow_models + 1,\n",
    "    delete_original=True,\n",
    "    in_place=True,\n",
    "    return_results=True,\n",
    "    method='hybrid',\n",
    "    split_size=10000\n",
    ")"
   ]
  },
  {
   "cell_type": "code",
   "execution_count": 10,
   "metadata": {
    "pycharm": {
     "is_executing": true,
     "name": "#%%\n"
    }
   },
   "outputs": [
    {
     "name": "stdout",
     "output_type": "stream",
     "text": [
      "0\n",
      "================ DATASET OBJECT ================\n",
      "Splits            = ['train', 'test']\n",
      "Features          = ['x', 'y']\n",
      "Default features  = x --> y\n",
      "================================================\n",
      "1\n",
      "================ DATASET OBJECT ================\n",
      "Splits            = ['train', 'test']\n",
      "Features          = ['x', 'y']\n",
      "Default features  = x --> y\n",
      "================================================\n",
      "2\n",
      "================ DATASET OBJECT ================\n",
      "Splits            = ['train', 'test']\n",
      "Features          = ['x', 'y']\n",
      "Default features  = x --> y\n",
      "================================================\n",
      "3\n",
      "================ DATASET OBJECT ================\n",
      "Splits            = ['train', 'test']\n",
      "Features          = ['x', 'y']\n",
      "Default features  = x --> y\n",
      "================================================\n",
      "4\n",
      "================ DATASET OBJECT ================\n",
      "Splits            = ['train', 'test']\n",
      "Features          = ['x', 'y']\n",
      "Default features  = x --> y\n",
      "================================================\n",
      "5\n",
      "================ DATASET OBJECT ================\n",
      "Splits            = ['train', 'test']\n",
      "Features          = ['x', 'y']\n",
      "Default features  = x --> y\n",
      "================================================\n",
      "6\n",
      "================ DATASET OBJECT ================\n",
      "Splits            = ['train', 'test']\n",
      "Features          = ['x', 'y']\n",
      "Default features  = x --> y\n",
      "================================================\n",
      "7\n",
      "================ DATASET OBJECT ================\n",
      "Splits            = ['train', 'test']\n",
      "Features          = ['x', 'y']\n",
      "Default features  = x --> y\n",
      "================================================\n",
      "8\n",
      "================ DATASET OBJECT ================\n",
      "Splits            = ['train', 'test']\n",
      "Features          = ['x', 'y']\n",
      "Default features  = x --> y\n",
      "================================================\n",
      "9\n",
      "================ DATASET OBJECT ================\n",
      "Splits            = ['train', 'test']\n",
      "Features          = ['x', 'y']\n",
      "Default features  = x --> y\n",
      "================================================\n",
      "10\n",
      "================ DATASET OBJECT ================\n",
      "Splits            = ['train', 'test']\n",
      "Features          = ['x', 'y']\n",
      "Default features  = x --> y\n",
      "================================================\n"
     ]
    }
   ],
   "source": [
    "for i, d in enumerate(datasets_list):\n",
    "    print(i)\n",
    "    print(d)"
   ]
  },
  {
   "cell_type": "markdown",
   "metadata": {
    "pycharm": {
     "name": "#%% md\n"
    }
   },
   "source": [
    "Let's now define the pytorch models to be used: one target model, and `n_shadow_models` shadow models."
   ]
  },
  {
   "cell_type": "code",
   "execution_count": 11,
   "metadata": {
    "pycharm": {
     "is_executing": true,
     "name": "#%%\n"
    }
   },
   "outputs": [],
   "source": [
    "torch_models = [\n",
    "    nn.Sequential(\n",
    "        nn.Linear(in_features=600, out_features=128),\n",
    "        nn.Tanh(),\n",
    "        nn.Linear(in_features=128, out_features=100),\n",
    "        nn.Softmax(dim=1)\n",
    "    )\n",
    "    for _ in range(n_shadow_models + 1)\n",
    "]"
   ]
  },
  {
   "cell_type": "markdown",
   "metadata": {
    "pycharm": {
     "name": "#%% md\n"
    }
   },
   "source": [
    "We define the loss:"
   ]
  },
  {
   "cell_type": "code",
   "execution_count": 12,
   "metadata": {
    "pycharm": {
     "is_executing": true,
     "name": "#%%\n"
    }
   },
   "outputs": [],
   "source": [
    "criterion = nn.CrossEntropyLoss(reduction='sum')"
   ]
  },
  {
   "cell_type": "markdown",
   "metadata": {
    "pycharm": {
     "name": "#%% md\n"
    }
   },
   "source": [
    "And we train each model on its split of the dataset:"
   ]
  },
  {
   "cell_type": "code",
   "execution_count": 13,
   "metadata": {
    "pycharm": {
     "is_executing": true,
     "name": "#%%\n"
    }
   },
   "outputs": [
    {
     "name": "stdout",
     "output_type": "stream",
     "text": [
      "model #00, epoch #000:\ttrain_acc = 0.094\ttrain_loss = 4.541e+00\n",
      "model #00, epoch #001:\ttrain_acc = 0.254\ttrain_loss = 4.402e+00\n",
      "model #00, epoch #002:\ttrain_acc = 0.362\ttrain_loss = 4.305e+00\n",
      "model #00, epoch #003:\ttrain_acc = 0.409\ttrain_loss = 4.248e+00\n",
      "model #00, epoch #004:\ttrain_acc = 0.446\ttrain_loss = 4.207e+00\n",
      "model #00, epoch #005:\ttrain_acc = 0.468\ttrain_loss = 4.179e+00\n",
      "model #00, epoch #006:\ttrain_acc = 0.477\ttrain_loss = 4.163e+00\n",
      "model #00, epoch #007:\ttrain_acc = 0.493\ttrain_loss = 4.144e+00\n",
      "model #00, epoch #008:\ttrain_acc = 0.504\ttrain_loss = 4.131e+00\n",
      "model #00, epoch #009:\ttrain_acc = 0.512\ttrain_loss = 4.121e+00\n",
      "model #00, epoch #010:\ttrain_acc = 0.520\ttrain_loss = 4.111e+00\n",
      "model #00, epoch #011:\ttrain_acc = 0.523\ttrain_loss = 4.105e+00\n",
      "model #00, epoch #012:\ttrain_acc = 0.525\ttrain_loss = 4.102e+00\n",
      "model #00, epoch #013:\ttrain_acc = 0.525\ttrain_loss = 4.100e+00\n",
      "model #00, epoch #014:\ttrain_acc = 0.525\ttrain_loss = 4.099e+00\n",
      "model #00, epoch #015:\ttrain_acc = 0.526\ttrain_loss = 4.098e+00\n",
      "model #00, epoch #016:\ttrain_acc = 0.526\ttrain_loss = 4.098e+00\n",
      "model #00, epoch #017:\ttrain_acc = 0.527\ttrain_loss = 4.097e+00\n",
      "model #00, epoch #018:\ttrain_acc = 0.534\ttrain_loss = 4.093e+00\n",
      "model #00, epoch #019:\ttrain_acc = 0.535\ttrain_loss = 4.089e+00\n",
      "model #01, epoch #000:\ttrain_acc = 0.081\ttrain_loss = 4.552e+00\n",
      "model #01, epoch #001:\ttrain_acc = 0.227\ttrain_loss = 4.425e+00\n",
      "model #01, epoch #002:\ttrain_acc = 0.310\ttrain_loss = 4.345e+00\n",
      "model #01, epoch #003:\ttrain_acc = 0.356\ttrain_loss = 4.291e+00\n",
      "model #01, epoch #004:\ttrain_acc = 0.372\ttrain_loss = 4.267e+00\n",
      "model #01, epoch #005:\ttrain_acc = 0.380\ttrain_loss = 4.255e+00\n",
      "model #01, epoch #006:\ttrain_acc = 0.394\ttrain_loss = 4.239e+00\n",
      "model #01, epoch #007:\ttrain_acc = 0.400\ttrain_loss = 4.229e+00\n",
      "model #01, epoch #008:\ttrain_acc = 0.410\ttrain_loss = 4.220e+00\n",
      "model #01, epoch #009:\ttrain_acc = 0.419\ttrain_loss = 4.210e+00\n",
      "model #01, epoch #010:\ttrain_acc = 0.422\ttrain_loss = 4.205e+00\n",
      "model #01, epoch #011:\ttrain_acc = 0.433\ttrain_loss = 4.195e+00\n",
      "model #01, epoch #012:\ttrain_acc = 0.448\ttrain_loss = 4.181e+00\n",
      "model #01, epoch #013:\ttrain_acc = 0.459\ttrain_loss = 4.169e+00\n",
      "model #01, epoch #014:\ttrain_acc = 0.462\ttrain_loss = 4.164e+00\n",
      "model #01, epoch #015:\ttrain_acc = 0.465\ttrain_loss = 4.160e+00\n",
      "model #01, epoch #016:\ttrain_acc = 0.465\ttrain_loss = 4.159e+00\n",
      "model #01, epoch #017:\ttrain_acc = 0.465\ttrain_loss = 4.158e+00\n",
      "model #01, epoch #018:\ttrain_acc = 0.465\ttrain_loss = 4.158e+00\n",
      "model #01, epoch #019:\ttrain_acc = 0.466\ttrain_loss = 4.157e+00\n",
      "model #02, epoch #000:\ttrain_acc = 0.076\ttrain_loss = 4.558e+00\n",
      "model #02, epoch #001:\ttrain_acc = 0.223\ttrain_loss = 4.427e+00\n",
      "model #02, epoch #002:\ttrain_acc = 0.291\ttrain_loss = 4.356e+00\n",
      "model #02, epoch #003:\ttrain_acc = 0.330\ttrain_loss = 4.311e+00\n",
      "model #02, epoch #004:\ttrain_acc = 0.367\ttrain_loss = 4.276e+00\n",
      "model #02, epoch #005:\ttrain_acc = 0.377\ttrain_loss = 4.257e+00\n",
      "model #02, epoch #006:\ttrain_acc = 0.386\ttrain_loss = 4.245e+00\n",
      "model #02, epoch #007:\ttrain_acc = 0.403\ttrain_loss = 4.228e+00\n",
      "model #02, epoch #008:\ttrain_acc = 0.414\ttrain_loss = 4.216e+00\n",
      "model #02, epoch #009:\ttrain_acc = 0.416\ttrain_loss = 4.210e+00\n",
      "model #02, epoch #010:\ttrain_acc = 0.421\ttrain_loss = 4.206e+00\n",
      "model #02, epoch #011:\ttrain_acc = 0.422\ttrain_loss = 4.203e+00\n",
      "model #02, epoch #012:\ttrain_acc = 0.428\ttrain_loss = 4.198e+00\n",
      "model #02, epoch #013:\ttrain_acc = 0.431\ttrain_loss = 4.194e+00\n",
      "model #02, epoch #014:\ttrain_acc = 0.431\ttrain_loss = 4.193e+00\n",
      "model #02, epoch #015:\ttrain_acc = 0.431\ttrain_loss = 4.192e+00\n",
      "model #02, epoch #016:\ttrain_acc = 0.431\ttrain_loss = 4.192e+00\n",
      "model #02, epoch #017:\ttrain_acc = 0.431\ttrain_loss = 4.192e+00\n",
      "model #02, epoch #018:\ttrain_acc = 0.431\ttrain_loss = 4.192e+00\n",
      "model #02, epoch #019:\ttrain_acc = 0.431\ttrain_loss = 4.191e+00\n",
      "model #03, epoch #000:\ttrain_acc = 0.088\ttrain_loss = 4.548e+00\n",
      "model #03, epoch #001:\ttrain_acc = 0.264\ttrain_loss = 4.397e+00\n",
      "model #03, epoch #002:\ttrain_acc = 0.373\ttrain_loss = 4.294e+00\n",
      "model #03, epoch #003:\ttrain_acc = 0.425\ttrain_loss = 4.232e+00\n",
      "model #03, epoch #004:\ttrain_acc = 0.449\ttrain_loss = 4.198e+00\n",
      "model #03, epoch #005:\ttrain_acc = 0.458\ttrain_loss = 4.180e+00\n",
      "model #03, epoch #006:\ttrain_acc = 0.463\ttrain_loss = 4.171e+00\n",
      "model #03, epoch #007:\ttrain_acc = 0.464\ttrain_loss = 4.165e+00\n",
      "model #03, epoch #008:\ttrain_acc = 0.467\ttrain_loss = 4.161e+00\n",
      "model #03, epoch #009:\ttrain_acc = 0.468\ttrain_loss = 4.159e+00\n",
      "model #03, epoch #010:\ttrain_acc = 0.475\ttrain_loss = 4.153e+00\n",
      "model #03, epoch #011:\ttrain_acc = 0.480\ttrain_loss = 4.147e+00\n",
      "model #03, epoch #012:\ttrain_acc = 0.483\ttrain_loss = 4.143e+00\n",
      "model #03, epoch #013:\ttrain_acc = 0.487\ttrain_loss = 4.139e+00\n",
      "model #03, epoch #014:\ttrain_acc = 0.497\ttrain_loss = 4.130e+00\n",
      "model #03, epoch #015:\ttrain_acc = 0.500\ttrain_loss = 4.125e+00\n",
      "model #03, epoch #016:\ttrain_acc = 0.501\ttrain_loss = 4.123e+00\n",
      "model #03, epoch #017:\ttrain_acc = 0.501\ttrain_loss = 4.123e+00\n",
      "model #03, epoch #018:\ttrain_acc = 0.501\ttrain_loss = 4.122e+00\n",
      "model #03, epoch #019:\ttrain_acc = 0.502\ttrain_loss = 4.121e+00\n",
      "model #04, epoch #000:\ttrain_acc = 0.097\ttrain_loss = 4.543e+00\n",
      "model #04, epoch #001:\ttrain_acc = 0.280\ttrain_loss = 4.387e+00\n",
      "model #04, epoch #002:\ttrain_acc = 0.408\ttrain_loss = 4.272e+00\n",
      "model #04, epoch #003:\ttrain_acc = 0.453\ttrain_loss = 4.211e+00\n",
      "model #04, epoch #004:\ttrain_acc = 0.482\ttrain_loss = 4.173e+00\n",
      "model #04, epoch #005:\ttrain_acc = 0.511\ttrain_loss = 4.139e+00\n",
      "model #04, epoch #006:\ttrain_acc = 0.524\ttrain_loss = 4.117e+00\n",
      "model #04, epoch #007:\ttrain_acc = 0.532\ttrain_loss = 4.105e+00\n",
      "model #04, epoch #008:\ttrain_acc = 0.537\ttrain_loss = 4.096e+00\n",
      "model #04, epoch #009:\ttrain_acc = 0.539\ttrain_loss = 4.091e+00\n",
      "model #04, epoch #010:\ttrain_acc = 0.540\ttrain_loss = 4.088e+00\n",
      "model #04, epoch #011:\ttrain_acc = 0.540\ttrain_loss = 4.086e+00\n",
      "model #04, epoch #012:\ttrain_acc = 0.542\ttrain_loss = 4.084e+00\n",
      "model #04, epoch #013:\ttrain_acc = 0.545\ttrain_loss = 4.081e+00\n",
      "model #04, epoch #014:\ttrain_acc = 0.553\ttrain_loss = 4.074e+00\n",
      "model #04, epoch #015:\ttrain_acc = 0.557\ttrain_loss = 4.070e+00\n",
      "model #04, epoch #016:\ttrain_acc = 0.558\ttrain_loss = 4.066e+00\n",
      "model #04, epoch #017:\ttrain_acc = 0.558\ttrain_loss = 4.065e+00\n",
      "model #04, epoch #018:\ttrain_acc = 0.558\ttrain_loss = 4.065e+00\n",
      "model #04, epoch #019:\ttrain_acc = 0.558\ttrain_loss = 4.065e+00\n",
      "model #05, epoch #000:\ttrain_acc = 0.086\ttrain_loss = 4.550e+00\n",
      "model #05, epoch #001:\ttrain_acc = 0.293\ttrain_loss = 4.384e+00\n",
      "model #05, epoch #002:\ttrain_acc = 0.411\ttrain_loss = 4.271e+00\n",
      "model #05, epoch #003:\ttrain_acc = 0.452\ttrain_loss = 4.213e+00\n",
      "model #05, epoch #004:\ttrain_acc = 0.479\ttrain_loss = 4.177e+00\n",
      "model #05, epoch #005:\ttrain_acc = 0.499\ttrain_loss = 4.150e+00\n",
      "model #05, epoch #006:\ttrain_acc = 0.507\ttrain_loss = 4.134e+00\n",
      "model #05, epoch #007:\ttrain_acc = 0.512\ttrain_loss = 4.124e+00\n",
      "model #05, epoch #008:\ttrain_acc = 0.530\ttrain_loss = 4.107e+00\n",
      "model #05, epoch #009:\ttrain_acc = 0.539\ttrain_loss = 4.094e+00\n",
      "model #05, epoch #010:\ttrain_acc = 0.541\ttrain_loss = 4.088e+00\n",
      "model #05, epoch #011:\ttrain_acc = 0.547\ttrain_loss = 4.082e+00\n",
      "model #05, epoch #012:\ttrain_acc = 0.548\ttrain_loss = 4.078e+00\n",
      "model #05, epoch #013:\ttrain_acc = 0.549\ttrain_loss = 4.076e+00\n",
      "model #05, epoch #014:\ttrain_acc = 0.549\ttrain_loss = 4.076e+00\n",
      "model #05, epoch #015:\ttrain_acc = 0.549\ttrain_loss = 4.075e+00\n",
      "model #05, epoch #016:\ttrain_acc = 0.549\ttrain_loss = 4.075e+00\n",
      "model #05, epoch #017:\ttrain_acc = 0.549\ttrain_loss = 4.074e+00\n",
      "model #05, epoch #018:\ttrain_acc = 0.554\ttrain_loss = 4.072e+00\n",
      "model #05, epoch #019:\ttrain_acc = 0.567\ttrain_loss = 4.063e+00\n",
      "model #06, epoch #000:\ttrain_acc = 0.100\ttrain_loss = 4.539e+00\n",
      "model #06, epoch #001:\ttrain_acc = 0.273\ttrain_loss = 4.392e+00\n",
      "model #06, epoch #002:\ttrain_acc = 0.359\ttrain_loss = 4.303e+00\n",
      "model #06, epoch #003:\ttrain_acc = 0.408\ttrain_loss = 4.248e+00\n",
      "model #06, epoch #004:\ttrain_acc = 0.427\ttrain_loss = 4.219e+00\n",
      "model #06, epoch #005:\ttrain_acc = 0.446\ttrain_loss = 4.197e+00\n",
      "model #06, epoch #006:\ttrain_acc = 0.470\ttrain_loss = 4.171e+00\n",
      "model #06, epoch #007:\ttrain_acc = 0.481\ttrain_loss = 4.155e+00\n",
      "model #06, epoch #008:\ttrain_acc = 0.487\ttrain_loss = 4.145e+00\n"
     ]
    },
    {
     "name": "stdout",
     "output_type": "stream",
     "text": [
      "model #06, epoch #009:\ttrain_acc = 0.489\ttrain_loss = 4.139e+00\n",
      "model #06, epoch #010:\ttrain_acc = 0.491\ttrain_loss = 4.136e+00\n",
      "model #06, epoch #011:\ttrain_acc = 0.491\ttrain_loss = 4.134e+00\n",
      "model #06, epoch #012:\ttrain_acc = 0.492\ttrain_loss = 4.133e+00\n",
      "model #06, epoch #013:\ttrain_acc = 0.493\ttrain_loss = 4.132e+00\n",
      "model #06, epoch #014:\ttrain_acc = 0.494\ttrain_loss = 4.130e+00\n",
      "model #06, epoch #015:\ttrain_acc = 0.498\ttrain_loss = 4.127e+00\n",
      "model #06, epoch #016:\ttrain_acc = 0.498\ttrain_loss = 4.125e+00\n",
      "model #06, epoch #017:\ttrain_acc = 0.500\ttrain_loss = 4.124e+00\n",
      "model #06, epoch #018:\ttrain_acc = 0.504\ttrain_loss = 4.120e+00\n",
      "model #06, epoch #019:\ttrain_acc = 0.510\ttrain_loss = 4.116e+00\n",
      "model #07, epoch #000:\ttrain_acc = 0.101\ttrain_loss = 4.540e+00\n",
      "model #07, epoch #001:\ttrain_acc = 0.316\ttrain_loss = 4.365e+00\n",
      "model #07, epoch #002:\ttrain_acc = 0.417\ttrain_loss = 4.261e+00\n",
      "model #07, epoch #003:\ttrain_acc = 0.459\ttrain_loss = 4.208e+00\n",
      "model #07, epoch #004:\ttrain_acc = 0.481\ttrain_loss = 4.174e+00\n",
      "model #07, epoch #005:\ttrain_acc = 0.501\ttrain_loss = 4.148e+00\n",
      "model #07, epoch #006:\ttrain_acc = 0.513\ttrain_loss = 4.130e+00\n",
      "model #07, epoch #007:\ttrain_acc = 0.517\ttrain_loss = 4.118e+00\n",
      "model #07, epoch #008:\ttrain_acc = 0.520\ttrain_loss = 4.112e+00\n",
      "model #07, epoch #009:\ttrain_acc = 0.522\ttrain_loss = 4.107e+00\n",
      "model #07, epoch #010:\ttrain_acc = 0.523\ttrain_loss = 4.105e+00\n",
      "model #07, epoch #011:\ttrain_acc = 0.523\ttrain_loss = 4.103e+00\n",
      "model #07, epoch #012:\ttrain_acc = 0.523\ttrain_loss = 4.102e+00\n",
      "model #07, epoch #013:\ttrain_acc = 0.533\ttrain_loss = 4.094e+00\n",
      "model #07, epoch #014:\ttrain_acc = 0.541\ttrain_loss = 4.086e+00\n",
      "model #07, epoch #015:\ttrain_acc = 0.542\ttrain_loss = 4.083e+00\n",
      "model #07, epoch #016:\ttrain_acc = 0.542\ttrain_loss = 4.082e+00\n",
      "model #07, epoch #017:\ttrain_acc = 0.542\ttrain_loss = 4.081e+00\n",
      "model #07, epoch #018:\ttrain_acc = 0.542\ttrain_loss = 4.081e+00\n",
      "model #07, epoch #019:\ttrain_acc = 0.542\ttrain_loss = 4.081e+00\n",
      "model #08, epoch #000:\ttrain_acc = 0.072\ttrain_loss = 4.561e+00\n",
      "model #08, epoch #001:\ttrain_acc = 0.278\ttrain_loss = 4.394e+00\n",
      "model #08, epoch #002:\ttrain_acc = 0.363\ttrain_loss = 4.301e+00\n",
      "model #08, epoch #003:\ttrain_acc = 0.390\ttrain_loss = 4.260e+00\n",
      "model #08, epoch #004:\ttrain_acc = 0.413\ttrain_loss = 4.230e+00\n",
      "model #08, epoch #005:\ttrain_acc = 0.429\ttrain_loss = 4.209e+00\n",
      "model #08, epoch #006:\ttrain_acc = 0.445\ttrain_loss = 4.192e+00\n",
      "model #08, epoch #007:\ttrain_acc = 0.472\ttrain_loss = 4.165e+00\n",
      "model #08, epoch #008:\ttrain_acc = 0.482\ttrain_loss = 4.150e+00\n",
      "model #08, epoch #009:\ttrain_acc = 0.485\ttrain_loss = 4.144e+00\n",
      "model #08, epoch #010:\ttrain_acc = 0.486\ttrain_loss = 4.141e+00\n",
      "model #08, epoch #011:\ttrain_acc = 0.487\ttrain_loss = 4.139e+00\n",
      "model #08, epoch #012:\ttrain_acc = 0.487\ttrain_loss = 4.138e+00\n",
      "model #08, epoch #013:\ttrain_acc = 0.487\ttrain_loss = 4.137e+00\n",
      "model #08, epoch #014:\ttrain_acc = 0.492\ttrain_loss = 4.134e+00\n",
      "model #08, epoch #015:\ttrain_acc = 0.504\ttrain_loss = 4.125e+00\n",
      "model #08, epoch #016:\ttrain_acc = 0.508\ttrain_loss = 4.117e+00\n",
      "model #08, epoch #017:\ttrain_acc = 0.509\ttrain_loss = 4.115e+00\n",
      "model #08, epoch #018:\ttrain_acc = 0.510\ttrain_loss = 4.114e+00\n",
      "model #08, epoch #019:\ttrain_acc = 0.512\ttrain_loss = 4.112e+00\n",
      "model #09, epoch #000:\ttrain_acc = 0.099\ttrain_loss = 4.541e+00\n",
      "model #09, epoch #001:\ttrain_acc = 0.309\ttrain_loss = 4.369e+00\n",
      "model #09, epoch #002:\ttrain_acc = 0.404\ttrain_loss = 4.270e+00\n",
      "model #09, epoch #003:\ttrain_acc = 0.440\ttrain_loss = 4.220e+00\n",
      "model #09, epoch #004:\ttrain_acc = 0.456\ttrain_loss = 4.192e+00\n",
      "model #09, epoch #005:\ttrain_acc = 0.464\ttrain_loss = 4.175e+00\n",
      "model #09, epoch #006:\ttrain_acc = 0.468\ttrain_loss = 4.166e+00\n",
      "model #09, epoch #007:\ttrain_acc = 0.469\ttrain_loss = 4.160e+00\n",
      "model #09, epoch #008:\ttrain_acc = 0.470\ttrain_loss = 4.157e+00\n",
      "model #09, epoch #009:\ttrain_acc = 0.470\ttrain_loss = 4.156e+00\n",
      "model #09, epoch #010:\ttrain_acc = 0.471\ttrain_loss = 4.154e+00\n",
      "model #09, epoch #011:\ttrain_acc = 0.471\ttrain_loss = 4.153e+00\n",
      "model #09, epoch #012:\ttrain_acc = 0.471\ttrain_loss = 4.153e+00\n",
      "model #09, epoch #013:\ttrain_acc = 0.471\ttrain_loss = 4.152e+00\n",
      "model #09, epoch #014:\ttrain_acc = 0.476\ttrain_loss = 4.151e+00\n",
      "model #09, epoch #015:\ttrain_acc = 0.482\ttrain_loss = 4.144e+00\n",
      "model #09, epoch #016:\ttrain_acc = 0.492\ttrain_loss = 4.136e+00\n",
      "model #09, epoch #017:\ttrain_acc = 0.502\ttrain_loss = 4.125e+00\n",
      "model #09, epoch #018:\ttrain_acc = 0.509\ttrain_loss = 4.118e+00\n",
      "model #09, epoch #019:\ttrain_acc = 0.511\ttrain_loss = 4.113e+00\n",
      "model #10, epoch #000:\ttrain_acc = 0.088\ttrain_loss = 4.546e+00\n",
      "model #10, epoch #001:\ttrain_acc = 0.253\ttrain_loss = 4.406e+00\n",
      "model #10, epoch #002:\ttrain_acc = 0.343\ttrain_loss = 4.319e+00\n",
      "model #10, epoch #003:\ttrain_acc = 0.402\ttrain_loss = 4.258e+00\n",
      "model #10, epoch #004:\ttrain_acc = 0.428\ttrain_loss = 4.221e+00\n",
      "model #10, epoch #005:\ttrain_acc = 0.438\ttrain_loss = 4.202e+00\n",
      "model #10, epoch #006:\ttrain_acc = 0.447\ttrain_loss = 4.189e+00\n",
      "model #10, epoch #007:\ttrain_acc = 0.473\ttrain_loss = 4.166e+00\n",
      "model #10, epoch #008:\ttrain_acc = 0.481\ttrain_loss = 4.151e+00\n",
      "model #10, epoch #009:\ttrain_acc = 0.483\ttrain_loss = 4.145e+00\n",
      "model #10, epoch #010:\ttrain_acc = 0.484\ttrain_loss = 4.142e+00\n",
      "model #10, epoch #011:\ttrain_acc = 0.485\ttrain_loss = 4.140e+00\n",
      "model #10, epoch #012:\ttrain_acc = 0.486\ttrain_loss = 4.139e+00\n",
      "model #10, epoch #013:\ttrain_acc = 0.486\ttrain_loss = 4.139e+00\n",
      "model #10, epoch #014:\ttrain_acc = 0.488\ttrain_loss = 4.137e+00\n",
      "model #10, epoch #015:\ttrain_acc = 0.499\ttrain_loss = 4.128e+00\n",
      "model #10, epoch #016:\ttrain_acc = 0.507\ttrain_loss = 4.120e+00\n",
      "model #10, epoch #017:\ttrain_acc = 0.511\ttrain_loss = 4.114e+00\n",
      "model #10, epoch #018:\ttrain_acc = 0.514\ttrain_loss = 4.110e+00\n",
      "model #10, epoch #019:\ttrain_acc = 0.519\ttrain_loss = 4.106e+00\n"
     ]
    }
   ],
   "source": [
    "for k, model in enumerate(torch_models):\n",
    "    optimizer = optim.Adam(model.parameters())\n",
    "    x = dataset.get_feature(split_name=f'train{k:03d}', feature_name='<default_input>')\n",
    "    y = dataset.get_feature(split_name=f'train{k:03d}', feature_name='<default_output>')\n",
    "    n_samples = x.shape[0]\n",
    "    n_batches = ceil(n_samples / batch_size)\n",
    "    x = np.array_split(x, n_batches)\n",
    "    y = np.array_split(y, n_batches)\n",
    "    for epoch in range(epochs):\n",
    "        epoch_loss, acc = 0.0, 0.0\n",
    "        for b in range(n_batches):\n",
    "            optimizer.zero_grad()\n",
    "            y_pred = model(Tensor(x[b]))\n",
    "            loss = criterion(Tensor(y[b]), y_pred)\n",
    "            loss.backward()\n",
    "            optimizer.step()\n",
    "            epoch_loss += loss.item()\n",
    "            acc += torch.sum(y_pred.argmax(axis=1) == Tensor(y[b]).argmax(axis=1))\n",
    "        acc /= n_samples\n",
    "        epoch_loss /= n_samples\n",
    "        print(f'model #{k:02d}, epoch #{epoch:03d}:\\ttrain_acc = {acc:.3f}\\ttrain_loss = {epoch_loss:.3e}')"
   ]
  },
  {
   "cell_type": "markdown",
   "metadata": {
    "pycharm": {
     "name": "#%% md\n"
    }
   },
   "source": [
    "Now that the models are all train, we can wrap each of them in a `PytorchModel` object:"
   ]
  },
  {
   "cell_type": "code",
   "execution_count": 14,
   "metadata": {
    "pycharm": {
     "is_executing": true,
     "name": "#%%\n"
    }
   },
   "outputs": [],
   "source": [
    "models = [\n",
    "    PytorchModel(\n",
    "        model_obj=model,\n",
    "        loss_fn=criterion\n",
    "    )\n",
    "    for model in torch_models\n",
    "]"
   ]
  },
  {
   "cell_type": "markdown",
   "metadata": {
    "pycharm": {
     "name": "#%% md\n"
    }
   },
   "source": [
    "## Information Sources"
   ]
  },
  {
   "cell_type": "markdown",
   "metadata": {
    "pycharm": {
     "name": "#%% md\n"
    }
   },
   "source": [
    "We can now define two InformationSource objects. Basically, an information source is an abstraction representing a set of models, and their corresponding dataset. Note that we could use the same `dataset` variable for the two InformationSource objects (each one would be queried on different splits of the dataset), but we also stored the sub-splits in different Dataset objects, so let's use them."
   ]
  },
  {
   "cell_type": "code",
   "execution_count": 15,
   "metadata": {
    "pycharm": {
     "is_executing": true,
     "name": "#%%\n"
    }
   },
   "outputs": [],
   "source": [
    "target_info_source = InformationSource(\n",
    "    models=[models[0]],\n",
    "    datasets=[datasets_list[0]]\n",
    ")\n",
    "\n",
    "reference_info_source = InformationSource(\n",
    "    models=models[1:],\n",
    "    datasets=datasets_list[1:]\n",
    ")"
   ]
  },
  {
   "cell_type": "markdown",
   "metadata": {
    "pycharm": {
     "name": "#%% md\n"
    }
   },
   "source": [
    "## Metric and Audit"
   ]
  },
  {
   "cell_type": "markdown",
   "metadata": {
    "pycharm": {
     "name": "#%% md\n"
    }
   },
   "source": [
    "We now create a Metric object, which is an abstraction representing an algorithm used to measure something on an InformationSource, such as membership information leakage. In this case, we use the ShadowMetric to measure the membership information leakage of `target_info_source` in a black-box setting, using shadow models."
   ]
  },
  {
   "cell_type": "code",
   "execution_count": 16,
   "metadata": {
    "pycharm": {
     "is_executing": true,
     "name": "#%%\n"
    }
   },
   "outputs": [],
   "source": [
    "metric = ShadowMetric(\n",
    "    target_info_source=target_info_source,\n",
    "    reference_info_source=reference_info_source,\n",
    "    signals=[ModelLoss()],\n",
    "    hypothesis_test_func=threshold_func,\n",
    "    unique_dataset=False,\n",
    "    reweight_samples=True\n",
    ")"
   ]
  },
  {
   "cell_type": "markdown",
   "metadata": {
    "pycharm": {
     "name": "#%% md\n"
    }
   },
   "source": [
    "Finally, the Audit object is a wrapper to actually run the audit, and display the results. More visualization options will be added soon."
   ]
  },
  {
   "cell_type": "code",
   "execution_count": 17,
   "metadata": {
    "pycharm": {
     "is_executing": true,
     "name": "#%%\n"
    }
   },
   "outputs": [
    {
     "name": "stdout",
     "output_type": "stream",
     "text": [
      "Results are stored in: /home/victor/ml_privacy_meter/docs/log_2022-04-15_14-23-07\n"
     ]
    }
   ],
   "source": [
    "audit = Audit(\n",
    "    metric=metric,\n",
    "    target_info_source=target_info_source,\n",
    "    reference_info_source=reference_info_source\n",
    ")\n",
    "audit.prepare()\n",
    "result = audit.run()"
   ]
  },
  {
   "cell_type": "code",
   "execution_count": 18,
   "metadata": {
    "pycharm": {
     "is_executing": true
    }
   },
   "outputs": [
    {
     "name": "stdout",
     "output_type": "stream",
     "text": [
      "============= METRIC RESULT OBJECT =============\n",
      "Accuracy          = 0.56185\n",
      "ROC AUC Score     = 0.592391005\n",
      "FPR               = 0.4116\n",
      "TN, FP, FN, TP    = (5884, 4116, 4647, 5353)\n"
     ]
    }
   ],
   "source": [
    "print(result)"
   ]
  },
  {
   "cell_type": "markdown",
   "metadata": {},
   "source": [
    "## Result visualization"
   ]
  },
  {
   "cell_type": "markdown",
   "metadata": {},
   "source": [
    "Several visualization tools are built in `privacy_tool`, such as ROC curves, signal values histogram, or confusion matrix."
   ]
  },
  {
   "cell_type": "code",
   "execution_count": 19,
   "metadata": {},
   "outputs": [],
   "source": [
    "# This instruction won't be needed once the tool is on pip\n",
    "from privacy_meter import audit_report\n",
    "audit_report.REPORT_FILES_DIR = '../privacy_meter/report_files'"
   ]
  },
  {
   "cell_type": "code",
   "execution_count": 20,
   "metadata": {
    "pycharm": {
     "is_executing": true
    }
   },
   "outputs": [
    {
     "data": {
      "image/png": "[encoded data removed]",
      "text/plain": [
       "<Figure size 432x288 with 1 Axes>"
      ]
     },
     "metadata": {
      "needs_background": "light"
     },
     "output_type": "display_data"
    },
    {
     "data": {
      "text/plain": [
       "<Figure size 432x288 with 0 Axes>"
      ]
     },
     "metadata": {},
     "output_type": "display_data"
    }
   ],
   "source": [
    "ROCCurveReport.generate_report([result], show=True)"
   ]
  },
  {
   "cell_type": "code",
   "execution_count": 21,
   "metadata": {},
   "outputs": [
    {
     "data": {
      "image/png": "[encoded data removed]",
      "text/plain": [
       "<Figure size 432x288 with 1 Axes>"
      ]
     },
     "metadata": {
      "needs_background": "light"
     },
     "output_type": "display_data"
    },
    {
     "data": {
      "text/plain": [
       "<Figure size 432x288 with 0 Axes>"
      ]
     },
     "metadata": {},
     "output_type": "display_data"
    }
   ],
   "source": [
    "SignalHistogramReport.generate_report(result, show=True)"
   ]
  }
 ],
 "metadata": {
  "kernelspec": {
   "display_name": "Python 3 (ipykernel)",
   "language": "python",
   "name": "python3"
  },
  "language_info": {
   "codemirror_mode": {
    "name": "ipython",
    "version": 3
   },
   "file_extension": ".py",
   "mimetype": "text/x-python",
   "name": "python",
   "nbconvert_exporter": "python",
   "pygments_lexer": "ipython3",
   "version": "3.8.10"
  }
 },
 "nbformat": 4,
 "nbformat_minor": 1
}
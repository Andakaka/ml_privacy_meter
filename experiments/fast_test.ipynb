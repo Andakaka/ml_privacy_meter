{
 "cells": [
  {
   "cell_type": "code",
   "execution_count": 24,
   "metadata": {},
   "outputs": [],
   "source": [
    "import torch\n",
    "from models import get_model\n",
    "import pickle\n",
    "from dataset import get_dataset,get_dataset_subset\n",
    "from fast_train import "
   ]
  },
  {
   "cell_type": "code",
   "execution_count": 52,
   "metadata": {},
   "outputs": [
    {
     "name": "stdout",
     "output_type": "stream",
     "text": [
      "load the correct model\n"
     ]
    }
   ],
   "source": [
    "model = get_model('wrn28-2',10)\n",
    "with open('demo_test/model_0.pkl','rb') as f:\n",
    "    model.load_state_dict(pickle.load(f))\n",
    "with open('demo_test/models_metadata.pkl', 'rb') as f:\n",
    "    metadata = pickle.load(f)"
   ]
  },
  {
   "cell_type": "code",
   "execution_count": 58,
   "metadata": {},
   "outputs": [
    {
     "name": "stdout",
     "output_type": "stream",
     "text": [
      "Load data from ../data/cifar10.pkl\n",
      "the whole dataset size: 60000\n"
     ]
    }
   ],
   "source": [
    "dataset  = get_dataset('cifar10', '../data')\n",
    "train_index = metadata['model_metadata'][0]['train_split']\n",
    "test_index = metadata['model_metadata'][0]['test_split']\n",
    "audit_index = metadata['model_metadata'][0]['audit_split']\n",
    "train_data, train_targets = get_dataset_subset(dataset, train_index)\n",
    "test_data, test_targets = get_dataset_subset(dataset, test_index)\n",
    "audit_data, audit_targets = get_dataset_subset(dataset, audit_index)"
   ]
  },
  {
   "cell_type": "code",
   "execution_count": 59,
   "metadata": {},
   "outputs": [],
   "source": [
    "with torch.no_grad():\n",
    "    train_pred = model(train_data).detach()\n",
    "    test_pred = model(test_data).detach()\n",
    "    audit_pred = model(audit_data).detach()"
   ]
  },
  {
   "cell_type": "code",
   "execution_count": 174,
   "metadata": {},
   "outputs": [],
   "source": [
    "T=8\n",
    "\n",
    "train_score = -T * torch.logsumexp(train_pred/T, dim=1)\n",
    "test_score = -T * torch.logsumexp(test_pred/T, dim=1)\n",
    "audit_score = -T * torch.logsumexp(audit_pred/T, dim=1)"
   ]
  },
  {
   "cell_type": "code",
   "execution_count": 175,
   "metadata": {},
   "outputs": [],
   "source": [
    "audit_score.mean(), train_score.mean()\n",
    "\n",
    "loss_fun = torch.nn.CrossEntropyLoss(reduction='none')\n",
    "train_loss = loss_fun(train_pred, train_targets)\n",
    "test_loss = loss_fun(test_pred, test_targets)\n",
    "audit_loss = loss_fun(audit_pred, audit_targets)"
   ]
  },
  {
   "cell_type": "code",
   "execution_count": 176,
   "metadata": {},
   "outputs": [],
   "source": [
    "import numpy as np\n",
    "train_corret = np.array([train_pred[idx,y] for idx, y in enumerate(train_targets)])\n",
    "test_corret = np.array([test_pred[idx,y] for idx, y in enumerate(test_targets)])\n",
    "audit_corret = np.array([audit_pred[idx,y] for idx, y in enumerate(audit_targets)])\n",
    "\n",
    "train_wrong = np.array([torch.sum(np.exp(train_pred[idx])).item() - np.exp(train_pred[idx,y]) for idx, y in enumerate(train_targets)])\n",
    "test_wrong = np.array([torch.sum(np.exp(test_pred[idx])).item() - np.exp(test_pred[idx,y]) for idx, y in enumerate(test_targets)])\n",
    "audit_wrong = np.array([torch.sum(np.exp(audit_pred[idx])).item() - np.exp(audit_pred[idx,y]) for idx, y in enumerate(audit_targets)])\n",
    "\n",
    "train_c_score = train_corret - np.log(train_wrong)\n",
    "test_c_score = test_corret - np.log(test_wrong)\n",
    "audit_c_score = audit_corret - np.log(audit_wrong)"
   ]
  },
  {
   "cell_type": "code",
   "execution_count": 135,
   "metadata": {},
   "outputs": [
    {
     "data": {
      "text/plain": [
       "(3.501553, 0.87114525)"
      ]
     },
     "execution_count": 135,
     "metadata": {},
     "output_type": "execute_result"
    }
   ],
   "source": [
    "train_c_score.mean(), test_c_score.mean()"
   ]
  },
  {
   "cell_type": "code",
   "execution_count": 169,
   "metadata": {},
   "outputs": [],
   "source": [
    "bounary = torch.FloatTensor([-100,1000])\n",
    "audit_score = torch.cat([audit_score, bounary])\n",
    "audit_loss = torch.cat([audit_loss, torch.FloatTensor([-0.1,100])])\n",
    "audit_c_score = np.concatenate([audit_c_score,np.array([-100,100])])"
   ]
  },
  {
   "cell_type": "code",
   "execution_count": 170,
   "metadata": {},
   "outputs": [
    {
     "data": {
      "text/plain": [
       "tensor([  0.2601,   1.5211,   0.6198,  ..., 100.0000,  -0.1000, 100.0000])"
      ]
     },
     "execution_count": 170,
     "metadata": {},
     "output_type": "execute_result"
    }
   ],
   "source": [
    "audit_loss"
   ]
  },
  {
   "cell_type": "code",
   "execution_count": 177,
   "metadata": {},
   "outputs": [],
   "source": [
    "threshold = torch.sort(audit_score).values\n",
    "\n",
    "fpr = []\n",
    "tpr = []\n",
    "fpr_loss = []\n",
    "tpr_loss = []\n",
    "fpr_c = []\n",
    "tpr_c = []\n",
    "for p in threshold:\n",
    "    tpr.append(torch.mean((train_score<p).float()).item())\n",
    "    fpr.append(torch.mean((test_score<p).float()).item())\n",
    "    \n",
    "threshold = torch.sort(audit_loss).values\n",
    "for p in threshold:\n",
    "    tpr_loss.append(torch.mean((train_loss<p).float()).item())\n",
    "    fpr_loss.append(torch.mean((test_loss<p).float()).item())\n",
    "    \n",
    "    \n",
    "threshold = np.sort(-audit_c_score)\n",
    "for p in threshold:\n",
    "    tpr_c.append(np.mean((train_c_score>-p)))\n",
    "    fpr_c.append(np.mean((test_c_score>-p)))\n",
    "    "
   ]
  },
  {
   "cell_type": "code",
   "execution_count": 178,
   "metadata": {},
   "outputs": [
    {
     "name": "stdout",
     "output_type": "stream",
     "text": [
      "0.6176126537656419 0.7340796483568541 0.7340797716049383\n"
     ]
    }
   ],
   "source": [
    "import numpy as np\n",
    "auc =  np.trapz(x=fpr, y=tpr)\n",
    "auc_loss = np.trapz(x=fpr_loss, y = tpr_loss)\n",
    "auc_c = np.trapz(x=fpr_c, y= tpr_c)\n",
    "print(auc,auc_loss, auc_c)"
   ]
  },
  {
   "cell_type": "code",
   "execution_count": 179,
   "metadata": {},
   "outputs": [
    {
     "data": {
      "text/plain": [
       "<matplotlib.legend.Legend at 0x7feef2bb2880>"
      ]
     },
     "execution_count": 179,
     "metadata": {},
     "output_type": "execute_result"
    },
    {
     "data": {
      "image/png": "[encoded data removed]",
      "text/plain": [
       "<Figure size 640x480 with 1 Axes>"
      ]
     },
     "metadata": {},
     "output_type": "display_data"
    }
   ],
   "source": [
    "import matplotlib.pyplot as plt\n",
    "\n",
    "plt.plot(fpr, tpr, label='score')\n",
    "plt.plot(fpr_loss, tpr_loss, label='loss')\n",
    "\n",
    "plt.plot(fpr_c, tpr_c, label='carlin')\n",
    "plt.plot([0,1],[0,1],ls='--', label='random guess')\n",
    "plt.legend()"
   ]
  },
  {
   "cell_type": "code",
   "execution_count": null,
   "metadata": {},
   "outputs": [],
   "source": []
  }
 ],
 "metadata": {
  "kernelspec": {
   "display_name": "privacy_meter_test",
   "language": "python",
   "name": "python3"
  },
  "language_info": {
   "codemirror_mode": {
    "name": "ipython",
    "version": 3
   },
   "file_extension": ".py",
   "mimetype": "text/x-python",
   "name": "python",
   "nbconvert_exporter": "python",
   "pygments_lexer": "ipython3",
   "version": "3.9.16"
  },
  "orig_nbformat": 4,
  "vscode": {
   "interpreter": {
    "hash": "af48e0a30d2a0b619bf296aea7d7271ba14c9beb98b0928b3e23c82f12ae949a"
   }
  }
 },
 "nbformat": 4,
 "nbformat_minor": 2
}

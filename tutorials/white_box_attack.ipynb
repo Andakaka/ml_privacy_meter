{
 "cells": [
  {
   "attachments": {},
   "cell_type": "markdown",
   "metadata": {},
   "source": [
    "# Whitebox attack using privacy meter"
   ]
  },
  {
   "attachments": {},
   "cell_type": "markdown",
   "metadata": {},
   "source": [
    "## Introduction\n",
    "\n",
    "In this tutorial we will see:\n",
    "- How to extract the white-box signal (i.e., gradient norm)\n",
    "- How to run membership inference attack based on white-box attack based on the population attack"
   ]
  },
  {
   "attachments": {},
   "cell_type": "markdown",
   "metadata": {},
   "source": [
    "<table class=\"tfo-notebook-buttons\" align=\"left\">\n",
    "<td>\n",
    "    <a target=\"_blank\" href=\"https://colab.research.google.com/github/privacytrustlab/ml_privacy_meter/blob/master/tutorials/white_box_attack.ipynb\"><img src=\"https://www.tensorflow.org/images/colab_logo_32px.png\" />Run in Google Colab</a>\n",
    "  </td>\n",
    "  <td>\n",
    "    <a target=\"_blank\" href=\"https://github.com/privacytrustlab/ml_privacy_meter/blob/master/tutorials/white_box_attack.ipynb\"><img src=\"https://www.tensorflow.org/images/GitHub-Mark-32px.png\" />View GitHub</a>\n",
    "  </td>\n",
    "</table>"
   ]
  },
  {
   "cell_type": "code",
   "execution_count": 1,
   "metadata": {},
   "outputs": [
    {
     "name": "stderr",
     "output_type": "stream",
     "text": [
      "/home/hongyan/.conda/envs/privacy_meter_test/lib/python3.9/site-packages/tqdm/auto.py:22: TqdmWarning: IProgress not found. Please update jupyter and ipywidgets. See https://ipywidgets.readthedocs.io/en/stable/user_install.html\n",
      "  from .autonotebook import tqdm as notebook_tqdm\n"
     ]
    }
   ],
   "source": [
    "import numpy as np\n",
    "\n",
    "import torch.nn.functional as F\n",
    "from torch import nn\n",
    "import torchvision\n",
    "import os\n",
    "import pickle\n",
    "from ast import List\n",
    "\n",
    "import numpy as np\n",
    "import torch\n",
    "import torchvision\n",
    "from torchvision import transforms"
   ]
  },
  {
   "cell_type": "code",
   "execution_count": 2,
   "metadata": {},
   "outputs": [],
   "source": [
    "# import sys\n",
    "\n",
    "# sys.path.append(\"../\")"
   ]
  },
  {
   "cell_type": "code",
   "execution_count": 3,
   "metadata": {},
   "outputs": [
    {
     "name": "stderr",
     "output_type": "stream",
     "text": [
      "2023-02-10 11:54:55.569590: I tensorflow/core/platform/cpu_feature_guard.cc:193] This TensorFlow binary is optimized with oneAPI Deep Neural Network Library (oneDNN) to use the following CPU instructions in performance-critical operations:  AVX2 AVX512F FMA\n",
      "To enable them in other operations, rebuild TensorFlow with the appropriate compiler flags.\n",
      "2023-02-10 11:54:56.145858: W tensorflow/compiler/xla/stream_executor/platform/default/dso_loader.cc:64] Could not load dynamic library 'libnvinfer.so.7'; dlerror: libnvinfer.so.7: cannot open shared object file: No such file or directory; LD_LIBRARY_PATH: /usr/lib/x86_64-linux-gnu::/usr/lib/x86_64-linux-gnu:\n",
      "2023-02-10 11:54:56.145947: W tensorflow/compiler/xla/stream_executor/platform/default/dso_loader.cc:64] Could not load dynamic library 'libnvinfer_plugin.so.7'; dlerror: libnvinfer_plugin.so.7: cannot open shared object file: No such file or directory; LD_LIBRARY_PATH: /usr/lib/x86_64-linux-gnu::/usr/lib/x86_64-linux-gnu:\n",
      "2023-02-10 11:54:56.145952: W tensorflow/compiler/tf2tensorrt/utils/py_utils.cc:38] TF-TRT Warning: Cannot dlopen some TensorRT libraries. If you would like to use Nvidia GPU with TensorRT, please make sure the missing libraries mentioned above are installed properly.\n"
     ]
    }
   ],
   "source": [
    "from privacy_meter.audit import Audit, MetricEnum\n",
    "from privacy_meter.metric import PopulationMetric\n",
    "from privacy_meter.information_source_signal import ModelGradientNorm, ModelGradient, ModelLoss\n",
    "from privacy_meter.hypothesis_test import linear_itp_threshold_func\n",
    "from privacy_meter.audit_report import ROCCurveReport, SignalHistogramReport\n",
    "from privacy_meter.constants import InferenceGame\n",
    "from privacy_meter.dataset import Dataset\n",
    "from privacy_meter.information_source import InformationSource\n",
    "from privacy_meter.model import PytorchModelTensor"
   ]
  },
  {
   "attachments": {},
   "cell_type": "markdown",
   "metadata": {},
   "source": [
    "Define your own models and how you train the model "
   ]
  },
  {
   "cell_type": "code",
   "execution_count": 4,
   "metadata": {},
   "outputs": [],
   "source": [
    "\n",
    "class Net(nn.Module):\n",
    "    \"\"\"Simple CNN for CIFAR10 dataset.\"\"\"\n",
    "\n",
    "    def __init__(self):\n",
    "        super().__init__()\n",
    "        self.conv1 = nn.Conv2d(3, 6, 5)\n",
    "        self.pool = nn.MaxPool2d(2, 2)\n",
    "        self.conv2 = nn.Conv2d(6, 16, 5)\n",
    "        self.fc1 = nn.Linear(16 * 5 * 5, 120)\n",
    "        self.fc2 = nn.Linear(120, 84)\n",
    "        self.fc3 = nn.Linear(84, 10)\n",
    "\n",
    "    def forward(self, inputs):\n",
    "        \"\"\"Forward pass of the model.\"\"\"\n",
    "        inputs = self.pool(F.relu(self.conv1(inputs)))\n",
    "        inputs = self.pool(F.relu(self.conv2(inputs)))\n",
    "        # flatten all dimensions except batch\n",
    "        inputs = inputs.reshape(-1, 16 * 5 * 5)\n",
    "        inputs = F.relu(self.fc1(inputs))\n",
    "        inputs = F.relu(self.fc2(inputs))\n",
    "        outputs = self.fc3(inputs)\n",
    "        return outputs\n",
    "    \n",
    "def get_dataset_subset(dataset: torchvision.datasets, index: List(int)):\n",
    "    \"\"\"Get a subset of the dataset.\n",
    "\n",
    "    Args:\n",
    "        dataset (torchvision.datasets): Whole dataset.\n",
    "        index (list): List of index.\n",
    "    \"\"\"\n",
    "    assert max(index) < len(dataset) and min(index) >= 0, \"Index out of range\"\n",
    "    data = (\n",
    "        torch.from_numpy(dataset.data[index]).float().permute(0, 3, 1, 2) / 255\n",
    "    )  # channel first\n",
    "    targets = list(np.array(dataset.targets)[index])\n",
    "    targets = torch.tensor(targets, dtype=torch.long)\n",
    "    return data, targets"
   ]
  },
  {
   "attachments": {},
   "cell_type": "markdown",
   "metadata": {},
   "source": [
    "Get the data "
   ]
  },
  {
   "cell_type": "code",
   "execution_count": 5,
   "metadata": {},
   "outputs": [],
   "source": [
    "# for training the target model\n",
    "num_train_points = 5000\n",
    "num_test_points = 5000\n",
    "num_population_points = 10000\n",
    "batch_size=64\n",
    "learning_rate = 0.001\n",
    "epochs=50"
   ]
  },
  {
   "cell_type": "code",
   "execution_count": 6,
   "metadata": {},
   "outputs": [
    {
     "name": "stdout",
     "output_type": "stream",
     "text": [
      "Files already downloaded and verified\n",
      "Files already downloaded and verified\n"
     ]
    }
   ],
   "source": [
    "transform = transforms.Compose([transforms.ToTensor()])\n",
    "all_data = torchvision.datasets.CIFAR10(\n",
    "    root='.', train=True, download=True, transform=transform\n",
    ")\n",
    "test_data = torchvision.datasets.CIFAR10(\n",
    "    root='.', train=False, download=True, transform=transform\n",
    ")\n",
    "all_features = np.concatenate([all_data.data, test_data.data], axis=0)\n",
    "all_targets = np.concatenate([all_data.targets, test_data.targets], axis=0)\n",
    "\n",
    "all_data.data = all_features\n",
    "all_data.targets = all_targets"
   ]
  },
  {
   "cell_type": "code",
   "execution_count": 7,
   "metadata": {},
   "outputs": [],
   "source": [
    "all_index = np.arange(len(all_data))\n",
    "train_index = np.random.choice(all_index, num_train_points, replace=False)\n",
    "test_index = np.random.choice([i for i in all_index if i not in train_index], num_test_points, replace=False)\n",
    "population_index = np.random.choice([i for i in all_index if i not in train_index and i not in test_index], num_population_points, replace=False)"
   ]
  },
  {
   "cell_type": "code",
   "execution_count": 8,
   "metadata": {},
   "outputs": [],
   "source": [
    "train_loader = torch.utils.data.DataLoader(\n",
    "            torch.utils.data.Subset(all_data,train_index),\n",
    "            batch_size=batch_size,\n",
    "            shuffle=True,\n",
    "            num_workers=4,\n",
    "            pin_memory=True,\n",
    "            persistent_workers=True,\n",
    "            prefetch_factor=16)\n",
    "test_loader = torch.utils.data.DataLoader(\n",
    "            torch.utils.data.Subset(all_data,test_index),\n",
    "            batch_size=batch_size,\n",
    "            shuffle=True,\n",
    "            num_workers=4,\n",
    "            pin_memory=True,\n",
    "            persistent_workers=True,\n",
    "            prefetch_factor=16)"
   ]
  },
  {
   "attachments": {},
   "cell_type": "markdown",
   "metadata": {},
   "source": [
    "Train the model"
   ]
  },
  {
   "cell_type": "code",
   "execution_count": 9,
   "metadata": {},
   "outputs": [
    {
     "name": "stdout",
     "output_type": "stream",
     "text": [
      "Epoch: 1/50 | Loss: 2.21023301\n",
      "Epoch: 2/50 | Loss: 1.93208639\n",
      "Epoch: 3/50 | Loss: 1.80463751\n",
      "Epoch: 4/50 | Loss: 1.71101696\n",
      "Epoch: 5/50 | Loss: 1.64135217\n",
      "Epoch: 6/50 | Loss: 1.60325071\n",
      "Epoch: 7/50 | Loss: 1.55717552\n",
      "Epoch: 8/50 | Loss: 1.50794268\n",
      "Epoch: 9/50 | Loss: 1.48865045\n",
      "Epoch: 10/50 | Loss: 1.45299080\n",
      "Epoch: 11/50 | Loss: 1.42273504\n",
      "Epoch: 12/50 | Loss: 1.41290436\n",
      "Epoch: 13/50 | Loss: 1.35209744\n",
      "Epoch: 14/50 | Loss: 1.33764810\n",
      "Epoch: 15/50 | Loss: 1.30030006\n",
      "Epoch: 16/50 | Loss: 1.28102176\n",
      "Epoch: 17/50 | Loss: 1.24613806\n",
      "Epoch: 18/50 | Loss: 1.21475257\n",
      "Epoch: 19/50 | Loss: 1.18381767\n",
      "Epoch: 20/50 | Loss: 1.16033582\n",
      "Epoch: 21/50 | Loss: 1.11045040\n",
      "Epoch: 22/50 | Loss: 1.07335148\n",
      "Epoch: 23/50 | Loss: 1.03770004\n",
      "Epoch: 24/50 | Loss: 1.01178119\n",
      "Epoch: 25/50 | Loss: 1.01245407\n",
      "Epoch: 26/50 | Loss: 0.92933204\n",
      "Epoch: 27/50 | Loss: 0.90916708\n",
      "Epoch: 28/50 | Loss: 0.85632354\n",
      "Epoch: 29/50 | Loss: 0.84508744\n",
      "Epoch: 30/50 | Loss: 0.79942418\n",
      "Epoch: 31/50 | Loss: 0.76348461\n",
      "Epoch: 32/50 | Loss: 0.70440907\n",
      "Epoch: 33/50 | Loss: 0.67645906\n",
      "Epoch: 34/50 | Loss: 0.63565555\n",
      "Epoch: 35/50 | Loss: 0.64127820\n",
      "Epoch: 36/50 | Loss: 0.57261032\n",
      "Epoch: 37/50 | Loss: 0.54078833\n",
      "Epoch: 38/50 | Loss: 0.50821650\n",
      "Epoch: 39/50 | Loss: 0.50856183\n",
      "Epoch: 40/50 | Loss: 0.48851045\n",
      "Epoch: 41/50 | Loss: 0.42275622\n",
      "Epoch: 42/50 | Loss: 0.37069642\n",
      "Epoch: 43/50 | Loss: 0.35348731\n",
      "Epoch: 44/50 | Loss: 0.36679210\n",
      "Epoch: 45/50 | Loss: 0.29596395\n",
      "Epoch: 46/50 | Loss: 0.27316438\n",
      "Epoch: 47/50 | Loss: 0.25532846\n",
      "Epoch: 48/50 | Loss: 0.23044056\n",
      "Epoch: 49/50 | Loss: 0.20741059\n",
      "Epoch: 50/50 | Loss: 0.20759370\n"
     ]
    },
    {
     "data": {
      "text/plain": [
       "Net(\n",
       "  (conv1): Conv2d(3, 6, kernel_size=(5, 5), stride=(1, 1))\n",
       "  (pool): MaxPool2d(kernel_size=2, stride=2, padding=0, dilation=1, ceil_mode=False)\n",
       "  (conv2): Conv2d(6, 16, kernel_size=(5, 5), stride=(1, 1))\n",
       "  (fc1): Linear(in_features=400, out_features=120, bias=True)\n",
       "  (fc2): Linear(in_features=120, out_features=84, bias=True)\n",
       "  (fc3): Linear(in_features=84, out_features=10, bias=True)\n",
       ")"
      ]
     },
     "execution_count": 9,
     "metadata": {},
     "output_type": "execute_result"
    }
   ],
   "source": [
    "model = Net()\n",
    "device = 'cuda:0'\n",
    "model.to(device)\n",
    "model.train()\n",
    "\n",
    "# Set the loss function and optimizer\n",
    "criterion = nn.CrossEntropyLoss()\n",
    "optimizer = torch.optim.Adam(model.parameters(), lr=learning_rate)\n",
    "\n",
    "# Loop over each epoch\n",
    "for epoch_idx in range(epochs):\n",
    "    train_loss = 0\n",
    "    # Loop over the training set\n",
    "    for data, target in train_loader:\n",
    "        # Move data to the device\n",
    "        data, target = data.to(device, non_blocking=True), target.to(device,non_blocking=True)\n",
    "        # Cast target to long tensor\n",
    "        target = target.long()\n",
    "\n",
    "        # Set the gradients to zero\n",
    "        optimizer.zero_grad(set_to_none=True)\n",
    "\n",
    "        # Get the model output\n",
    "        output = model(data)\n",
    "\n",
    "        # Calculate the loss\n",
    "        loss = criterion(output, target)\n",
    "\n",
    "        # Perform the backward pass\n",
    "        loss.backward()\n",
    "        # Take a step using optimizer\n",
    "        optimizer.step()\n",
    "\n",
    "        # Add the loss to the total loss\n",
    "        train_loss += loss.item()\n",
    "\n",
    "    # Print the epoch and loss summary\n",
    "    print(f\"Epoch: {epoch_idx+1}/{epochs} |\", end=\" \")\n",
    "    print(f\"Loss: {train_loss/len(train_loader):.8f}\")\n",
    "\n",
    "# Move the model back to the CPU\n",
    "model.to(\"cpu\")"
   ]
  },
  {
   "cell_type": "code",
   "execution_count": 10,
   "metadata": {},
   "outputs": [],
   "source": [
    "target_model = PytorchModelTensor(model_obj=model, loss_fn=criterion, device='cuda:0')"
   ]
  },
  {
   "cell_type": "code",
   "execution_count": 11,
   "metadata": {},
   "outputs": [],
   "source": [
    "train_data, train_targets = get_dataset_subset(all_data, train_index)\n",
    "test_data, test_targets = get_dataset_subset(all_data, test_index)\n",
    "audit_data, audit_targets = get_dataset_subset(all_data, population_index)\n",
    "target_dataset = Dataset(\n",
    "    data_dict={\n",
    "        \"train\": {\"x\": train_data, \"y\": train_targets},\n",
    "        \"test\": {\"x\": test_data, \"y\": test_targets},\n",
    "    },\n",
    "    default_input=\"x\",\n",
    "    default_output=\"y\",\n",
    ")\n",
    "\n",
    "\n",
    "audit_dataset = Dataset(\n",
    "        data_dict={\"train\": {\"x\": audit_data, \"y\": audit_targets}},\n",
    "        default_input=\"x\",\n",
    "        default_output=\"y\",\n",
    "    )\n",
    " \n",
    "target_info_source = InformationSource(\n",
    "    models=[target_model], \n",
    "    datasets=[target_dataset]\n",
    ")\n",
    "\n",
    "reference_info_source = InformationSource(\n",
    "    models=[target_model],\n",
    "    datasets=[audit_dataset]\n",
    ")"
   ]
  },
  {
   "cell_type": "code",
   "execution_count": 12,
   "metadata": {},
   "outputs": [
    {
     "name": "stdout",
     "output_type": "stream",
     "text": [
      "Results are stored in: ['/home/hongyan/Desktop/ml_privacy_test/ml_privacy_meter/tutorials/log_2023-02-10_11-55-15-000']\n"
     ]
    }
   ],
   "source": [
    "metric = PopulationMetric(\n",
    "            target_info_source=target_info_source,\n",
    "            reference_info_source=reference_info_source,\n",
    "            signals=[ModelLoss()],\n",
    "            hypothesis_test_func=linear_itp_threshold_func,\n",
    "        )\n",
    "audit_obj = Audit(\n",
    "    metrics=metric,\n",
    "    inference_game_type=InferenceGame.PRIVACY_LOSS_MODEL,\n",
    "    target_info_sources=target_info_source,\n",
    "    reference_info_sources=reference_info_source,\n",
    ")\n",
    "audit_obj.prepare()\n",
    "loss_audit_results = audit_obj.run()[0]"
   ]
  },
  {
   "cell_type": "code",
   "execution_count": 13,
   "metadata": {},
   "outputs": [
    {
     "name": "stderr",
     "output_type": "stream",
     "text": [
      "/home/hongyan/.conda/envs/privacy_meter_test/lib/python3.9/site-packages/torch/nn/modules/module.py:1113: UserWarning: Using a non-full backward hook when the forward contains multiple autograd Nodes is deprecated and will be removed in future versions. This hook will be missing some grad_input. Please use register_full_backward_hook to get the documented behavior.\n",
      "  warnings.warn(\"Using a non-full backward hook when the forward contains multiple autograd Nodes \"\n"
     ]
    },
    {
     "name": "stdout",
     "output_type": "stream",
     "text": [
      "Results are stored in: ['/home/hongyan/Desktop/ml_privacy_test/ml_privacy_meter/tutorials/log_2023-02-10_11-55-16-000']\n"
     ]
    }
   ],
   "source": [
    "metric = PopulationMetric(\n",
    "            target_info_source=target_info_source,\n",
    "            reference_info_source=reference_info_source,\n",
    "            signals=[ModelGradientNorm()],\n",
    "            hypothesis_test_func=linear_itp_threshold_func,\n",
    "        )\n",
    "audit_obj = Audit(\n",
    "    metrics=metric,\n",
    "    inference_game_type=InferenceGame.PRIVACY_LOSS_MODEL,\n",
    "    target_info_sources=target_info_source,\n",
    "    reference_info_sources=reference_info_source,\n",
    ")\n",
    "audit_obj.prepare()\n",
    "gradient_norm_audit_results = audit_obj.run()[0]"
   ]
  },
  {
   "cell_type": "code",
   "execution_count": 14,
   "metadata": {},
   "outputs": [],
   "source": [
    "# This instruction won't be needed once the tool is on pip\n",
    "from privacy_meter import audit_report\n",
    "audit_report.REPORT_FILES_DIR = '../privacy_meter/report_files'"
   ]
  },
  {
   "cell_type": "code",
   "execution_count": 15,
   "metadata": {},
   "outputs": [
    {
     "data": {
      "image/png": "[encoded data removed]",
      "text/plain": [
       "<Figure size 640x480 with 1 Axes>"
      ]
     },
     "metadata": {},
     "output_type": "display_data"
    },
    {
     "data": {
      "text/plain": [
       "<Figure size 640x480 with 0 Axes>"
      ]
     },
     "metadata": {},
     "output_type": "display_data"
    }
   ],
   "source": [
    "ROCCurveReport.generate_report(\n",
    "    metric_result=loss_audit_results[0],\n",
    "    inference_game_type=InferenceGame.PRIVACY_LOSS_MODEL,\n",
    "    show=True\n",
    ")"
   ]
  },
  {
   "cell_type": "code",
   "execution_count": 16,
   "metadata": {},
   "outputs": [
    {
     "data": {
      "image/png": "[encoded data removed]",
      "text/plain": [
       "<Figure size 640x480 with 1 Axes>"
      ]
     },
     "metadata": {},
     "output_type": "display_data"
    },
    {
     "data": {
      "text/plain": [
       "<Figure size 640x480 with 0 Axes>"
      ]
     },
     "metadata": {},
     "output_type": "display_data"
    }
   ],
   "source": [
    "ROCCurveReport.generate_report(\n",
    "    metric_result=gradient_norm_audit_results[0],\n",
    "    inference_game_type=InferenceGame.PRIVACY_LOSS_MODEL,\n",
    "    show=True\n",
    ")"
   ]
  },
  {
   "cell_type": "markdown",
   "metadata": {},
   "source": []
  },
  {
   "cell_type": "markdown",
   "metadata": {},
   "source": []
  }
 ],
 "metadata": {
  "kernelspec": {
   "display_name": "privacy_meter_test",
   "language": "python",
   "name": "python3"
  },
  "language_info": {
   "codemirror_mode": {
    "name": "ipython",
    "version": 3
   },
   "file_extension": ".py",
   "mimetype": "text/x-python",
   "name": "python",
   "nbconvert_exporter": "python",
   "pygments_lexer": "ipython3",
   "version": "3.9.16"
  },
  "orig_nbformat": 4,
  "vscode": {
   "interpreter": {
    "hash": "af48e0a30d2a0b619bf296aea7d7271ba14c9beb98b0928b3e23c82f12ae949a"
   }
  }
 },
 "nbformat": 4,
 "nbformat_minor": 2
}

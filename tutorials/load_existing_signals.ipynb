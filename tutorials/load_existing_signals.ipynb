{
 "cells": [
  {
   "attachments": {},
   "cell_type": "markdown",
   "metadata": {},
   "source": [
    "# Load Existing Signals\n",
    "There are cases where you have trained models and already computed the signals. In this tutorial, we will show how Privacy meter can load the existing signals to perform the attacks"
   ]
  },
  {
   "cell_type": "code",
   "execution_count": null,
   "metadata": {},
   "outputs": [],
   "source": [
    "from privacy_meter.audit_report import ROCCurveReport\n",
    "from privacy_meter.constants import InferenceGame\n",
    "from privacy_meter.information_source import InformationSource\n",
    "from privacy_meter.audit import Audit, MetricEnum\n",
    "import numpy as np"
   ]
  },
  {
   "attachments": {},
   "cell_type": "markdown",
   "metadata": {},
   "source": [
    "## Loading the signals for population attacks"
   ]
  },
  {
   "attachments": {},
   "cell_type": "markdown",
   "metadata": {},
   "source": [
    "For the population attack, the adversary needs to compute the signals on the members, non-members, and population data sampled from the same distribution. In this case, you need to provide three `npz` files with the name `PopulationMetric_target_member.npz`, `PopulationMetric_target_non_member.npz` and `PopulationMetric_reference.npz`. In this example, we provide the pre-computed signals in the `existing_signals/population` folder. The size should be `(number of models, number of samples)`, which is `(1, number of samples)` in this case."
   ]
  },
  {
   "cell_type": "code",
   "execution_count": null,
   "metadata": {},
   "outputs": [],
   "source": [
    "# First, construct the dummy information source.\n",
    "target_info_source = InformationSource(\n",
    "    models=[],\n",
    "    datasets=[]\n",
    ")\n",
    "\n",
    "reference_info_source = InformationSource(\n",
    "    models=[],\n",
    "    datasets=[] \n",
    ")\n",
    "\n",
    "audit_obj = Audit(\n",
    "    metrics=MetricEnum.POPULATION,\n",
    "    inference_game_type=InferenceGame.PRIVACY_LOSS_MODEL,\n",
    "    target_info_sources=target_info_source,\n",
    "    reference_info_sources=reference_info_source,\n",
    "    logs_directory_names=\"existing_signals/population/\" # Indicate the folder where the signals are saved.\n",
    ")\n",
    "audit_obj.prepare() #Load the signals from the disk\n",
    "audit_results = audit_obj.run()[0] # Run the attack\n"
   ]
  },
  {
   "cell_type": "code",
   "execution_count": null,
   "metadata": {},
   "outputs": [],
   "source": [
    "# Plot the results\n",
    "from privacy_meter import audit_report\n",
    "audit_report.REPORT_FILES_DIR = '../privacy_meter/report_files'"
   ]
  },
  {
   "cell_type": "code",
   "execution_count": null,
   "metadata": {},
   "outputs": [],
   "source": [
    "ROCCurveReport.generate_report(\n",
    "    metric_result=audit_results,\n",
    "    inference_game_type=InferenceGame.PRIVACY_LOSS_MODEL,\n",
    "    show=True\n",
    ")"
   ]
  },
  {
   "cell_type": "code",
   "execution_count": null,
   "metadata": {},
   "outputs": [],
   "source": []
  },
  {
   "attachments": {},
   "cell_type": "markdown",
   "metadata": {},
   "source": [
    "## Loading the signals for reference attacks\n",
    "For the reference attacks, the adversary needs to compute the signals for the members and non-members from the target model and compare them with the signals computed for the members and non-members from the reference models. Therefore, we need to have four signal files named `ReferenceMetric_target_member.npz`, `ReferenceMetric_target_non_member.npz`, `ReferenceMetric_reference_member.npz`, and `ReferenceMetric_reference_non_member.npz`. In this example, we provide the pre-computed signals in the `existing_signals/reference` folder. The shape of the array should be `(number of models, number of samples).` \n"
   ]
  },
  {
   "cell_type": "code",
   "execution_count": null,
   "metadata": {},
   "outputs": [],
   "source": [
    "# First, construct the dummy information source.\n",
    "target_info_source = InformationSource(\n",
    "    models=[],\n",
    "    datasets=[]\n",
    ")\n",
    "\n",
    "reference_info_source = InformationSource(\n",
    "    models=[],\n",
    "    datasets=[] \n",
    ")\n",
    "\n",
    "audit_obj = Audit(\n",
    "    metrics=MetricEnum.REFERENCE,\n",
    "    inference_game_type=InferenceGame.PRIVACY_LOSS_MODEL,\n",
    "    target_info_sources=target_info_source,\n",
    "    reference_info_sources=reference_info_source,\n",
    "    logs_directory_names=\"existing_signals/reference/\" # Indicate the folder where the signals are saved.\n",
    ")\n",
    "audit_obj.prepare() #Load the signals from the disk\n",
    "audit_results = audit_obj.run()[0] # Run the attack\n"
   ]
  },
  {
   "cell_type": "code",
   "execution_count": null,
   "metadata": {},
   "outputs": [],
   "source": [
    "# Plot the results\n",
    "from privacy_meter import audit_report\n",
    "audit_report.REPORT_FILES_DIR = '../privacy_meter/report_files'\n",
    "ROCCurveReport.generate_report(\n",
    "    metric_result=audit_results,\n",
    "    inference_game_type=InferenceGame.PRIVACY_LOSS_MODEL,\n",
    "    show=True\n",
    ")"
   ]
  },
  {
   "attachments": {},
   "cell_type": "markdown",
   "metadata": {},
   "source": [
    "# Load the signals for online attacks\n",
    "\n",
    "In the online attacks, the adversary trains a set of models with the target point (In Models) and without the target point (Out Models) and then compute the signals based on the target model. There should be four files: `ReferenceMetric_target_member.npz`, `ReferenceMetric_target_non_member.npz`, `ReferenceMetric_reference_non_member_in.npz`, `ReferenceMetric_reference_non_member_out.npz`, `ReferenceMetric_reference_member_in.npz`, and `ReferenceMetric_reference_member_out.npz`. In this example, we provide the pre-computed signals in the `existing_signals/reference_online` folder.\n",
    "\n",
    "In `ReferenceMetric_reference_non_member_in,` the shape of the array should be `(number of samples, number of models, number of arguments).` If the adversary queries the model only based on the original data point, the `number of arguments` will be 1. On the other hand, if the adversary argues the target point and queries the model based on a set of arguments point, the `number of arguments` will reflect how many argumentations the adversary computes on the data."
   ]
  },
  {
   "cell_type": "code",
   "execution_count": null,
   "metadata": {},
   "outputs": [],
   "source": [
    "from scipy.stats import norm\n",
    "import matplotlib.pyplot as plt\n",
    "from sklearn.metrics import auc, roc_curve\n",
    "# This implementation is based on the lira attack implememtation: https://github.com/tensorflow/privacy/tree/master/research/mi_lira_2021\n",
    "\n",
    "in_member_signals = np.load('existing_signals/reference_online/ReferenceMetric_reference_member_in.npz', allow_pickle=True)['arr_0']\n",
    "out_member_signals = np.load('existing_signals/reference_online/ReferenceMetric_reference_member_in.npz', allow_pickle=True)['arr_0']\n",
    "in_non_member_signals = np.load('existing_signals/reference_online/ReferenceMetric_reference_non_member_in.npz', allow_pickle=True)['arr_0']\n",
    "out_non_member_signals = np.load('existing_signals/reference_online/ReferenceMetric_reference_non_member_out.npz', allow_pickle=True)['arr_0']\n",
    "\n",
    "target_member_signals = np.load('existing_signals/reference_online/ReferenceMetric_target_member.npz', allow_pickle=True)['arr_0']\n",
    "target_non_member_signals = np.load('existing_signals/reference_online/ReferenceMetric_target_non_member.npz', allow_pickle=True)['arr_0']\n",
    "\n",
    "in_signals = np.concatenate([in_member_signals, in_non_member_signals],axis=0)\n",
    "out_signals = np.concatenate([out_member_signals, out_non_member_signals],axis=0)\n",
    "target_signals = np.array([np.concatenate([target_member_signals, target_non_member_signals],axis=0)])\n",
    "membership = np.array([np.concatenate([np.ones(len(target_member_signals)), np.zeros(len(target_non_member_signals))], axis=0)])\n",
    "\n",
    "# Fit the distributions\n",
    "mean_in = np.median(in_signals, 1)\n",
    "mean_out = np.median(out_signals, 1)\n",
    "fix_variance = True # indicate whether to fix the variance or not\n",
    "if fix_variance:\n",
    "    std_in = np.std(in_signals)\n",
    "    std_out = np.std(in_signals)\n",
    "else:\n",
    "    std_in = np.std(in_signals, 1)\n",
    "    std_out = np.std(out_signals, 1)\n",
    "\n",
    "mean_in.shape, mean_out.shape,target_signals.shape"
   ]
  },
  {
   "cell_type": "code",
   "execution_count": null,
   "metadata": {},
   "outputs": [],
   "source": [
    "prediction = []\n",
    "answers = []\n",
    "for ans, sc in zip(membership, target_signals):\n",
    "    pr_in = -norm.logpdf(sc, mean_in, std_in + 1e-30)\n",
    "    pr_out = -norm.logpdf(sc, mean_out, std_out + 1e-30)\n",
    "    score = pr_in - pr_out\n",
    "    if len(score.shape) == 2:  # the score is of size (data_size, num_arguments)\n",
    "        prediction.extend(score.mean(1))\n",
    "    else:\n",
    "        prediction.extend(score)\n",
    "    answers.extend(ans)"
   ]
  },
  {
   "cell_type": "code",
   "execution_count": null,
   "metadata": {},
   "outputs": [],
   "source": [
    "\n",
    "prediction = np.array(prediction)\n",
    "answers = np.array(answers, dtype=bool)\n",
    "\n",
    "fpr_list, tpr_list, _ = roc_curve(answers, -prediction)\n",
    "acc = np.max(1 - (fpr_list + (1 - tpr_list)) / 2)\n",
    "roc_auc = auc(fpr_list, tpr_list)\n",
    "\n",
    "low = tpr_list[np.where(fpr_list < 0.001)[0][-1]]\n",
    "print(\"AUC %.4f, Accuracy %.4f, TPR@0.1%%FPR of %.4f\" % (roc_auc, acc, low))\n",
    "range01 = np.linspace(0, 1)\n",
    "plt.fill_between(fpr_list, tpr_list, alpha=0.15)\n",
    "plt.plot(range01, range01, \"--\", label=\"Random guess\")\n",
    "plt.plot(fpr_list, tpr_list, label=\"ROC curve\")\n",
    "plt.xlim([0, 1])\n",
    "plt.ylim([0, 1])\n",
    "plt.grid()\n",
    "plt.legend()\n",
    "plt.xlabel(\"False positive rate (FPR)\")\n",
    "plt.ylabel(\"True positive rate (TPR)\")\n",
    "plt.title(\"ROC curve\")\n",
    "plt.text(\n",
    "    0.7,\n",
    "    0.3,\n",
    "    f\"AUC = {roc_auc:.03f}\",\n",
    "    horizontalalignment=\"center\",\n",
    "    verticalalignment=\"center\",\n",
    "    bbox=dict(facecolor=\"white\", alpha=0.5),\n",
    ")\n",
    "plt.show()\n"
   ]
  },
  {
   "cell_type": "code",
   "execution_count": null,
   "metadata": {},
   "outputs": [],
   "source": []
  },
  {
   "cell_type": "code",
   "execution_count": null,
   "metadata": {},
   "outputs": [],
   "source": []
  }
 ],
 "metadata": {
  "kernelspec": {
   "display_name": "privacy_meter_test",
   "language": "python",
   "name": "python3"
  },
  "language_info": {
   "codemirror_mode": {
    "name": "ipython",
    "version": 3
   },
   "file_extension": ".py",
   "mimetype": "text/x-python",
   "name": "python",
   "nbconvert_exporter": "python",
   "pygments_lexer": "ipython3",
   "version": "3.9.16"
  },
  "orig_nbformat": 4,
  "vscode": {
   "interpreter": {
    "hash": "af48e0a30d2a0b619bf296aea7d7271ba14c9beb98b0928b3e23c82f12ae949a"
   }
  }
 },
 "nbformat": 4,
 "nbformat_minor": 2
}
